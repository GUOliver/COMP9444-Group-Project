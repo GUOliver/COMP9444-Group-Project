{
 "cells": [
  {
   "cell_type": "code",
   "execution_count": 225,
   "id": "b64af076",
   "metadata": {},
   "outputs": [],
   "source": [
    "import keras\n",
    "import tensorflow as tf\n",
    "from sklearn.model_selection import train_test_split\n",
    "from sklearn.metrics import f1_score, precision_score, recall_score, confusion_matrix, accuracy_score   \n",
    "import h5py\n",
    "from keras import layers\n",
    "import numpy as np\n",
    "import matplotlib as plt"
   ]
  },
  {
   "cell_type": "code",
   "execution_count": 226,
   "id": "22954ee9",
   "metadata": {},
   "outputs": [],
   "source": [
    "VALID_SPLIT = 0.2\n",
    "TEST_SPLIT = 0.2"
   ]
  },
  {
   "cell_type": "markdown",
   "id": "e2dce5be",
   "metadata": {},
   "source": [
    "### Read data backout"
   ]
  },
  {
   "cell_type": "code",
   "execution_count": 227,
   "id": "eb655666",
   "metadata": {},
   "outputs": [],
   "source": [
    "def read_hdf(file_path):\n",
    "    return_dict = []\n",
    "    with h5py.File(file_path, 'r') as hf:\n",
    "        print(list(hf.keys()))\n",
    "        print(file_path[9:-5])\n",
    "        dataset = hf[file_path[9:-5]]\n",
    "        print(len(list(dataset.keys())))\n",
    "        keys = list(dataset.keys())\n",
    "        for i in keys:\n",
    "            return_dict.append({\n",
    "                \"name\":i.replace(\"-\",\"/\"),\n",
    "                \"data\":dataset[i][:]\n",
    "            })\n",
    "        return return_dict"
   ]
  },
  {
   "cell_type": "code",
   "execution_count": 228,
   "id": "8ec0a71c",
   "metadata": {},
   "outputs": [],
   "source": [
    "genre = ['Experimental', 'Electronic', 'Rock', 'Instrumental', 'Pop', 'Folk', 'Hip-Hop', 'International']"
   ]
  },
  {
   "cell_type": "code",
   "execution_count": 229,
   "id": "1c755baa",
   "metadata": {},
   "outputs": [],
   "source": [
    "#!unzip mel_spec/update_feature.zip\n",
    "# Move all files into mel_sepc then"
   ]
  },
  {
   "cell_type": "code",
   "execution_count": 230,
   "id": "5f287554",
   "metadata": {},
   "outputs": [
    {
     "ename": "FileNotFoundError",
     "evalue": "[Errno 2] Unable to open file (unable to open file: name = 'mel_spec/Experimental.hdf5', errno = 2, error message = 'No such file or directory', flags = 0, o_flags = 0)",
     "output_type": "error",
     "traceback": [
      "\u001b[0;31m---------------------------------------------------------------------------\u001b[0m",
      "\u001b[0;31mFileNotFoundError\u001b[0m                         Traceback (most recent call last)",
      "Cell \u001b[0;32mIn [230], line 1\u001b[0m\n\u001b[0;32m----> 1\u001b[0m hdf5_dict[\u001b[38;5;124m\"\u001b[39m\u001b[38;5;124mExperimental\u001b[39m\u001b[38;5;124m\"\u001b[39m] \u001b[38;5;241m=\u001b[39m \u001b[43mread_hdf\u001b[49m\u001b[43m(\u001b[49m\u001b[38;5;124;43m\"\u001b[39;49m\u001b[38;5;124;43mmel_spec/Experimental.hdf5\u001b[39;49m\u001b[38;5;124;43m\"\u001b[39;49m\u001b[43m)\u001b[49m\n",
      "Cell \u001b[0;32mIn [227], line 3\u001b[0m, in \u001b[0;36mread_hdf\u001b[0;34m(file_path)\u001b[0m\n\u001b[1;32m      1\u001b[0m \u001b[38;5;28;01mdef\u001b[39;00m \u001b[38;5;21mread_hdf\u001b[39m(file_path):\n\u001b[1;32m      2\u001b[0m     return_dict \u001b[38;5;241m=\u001b[39m []\n\u001b[0;32m----> 3\u001b[0m     \u001b[38;5;28;01mwith\u001b[39;00m \u001b[43mh5py\u001b[49m\u001b[38;5;241;43m.\u001b[39;49m\u001b[43mFile\u001b[49m\u001b[43m(\u001b[49m\u001b[43mfile_path\u001b[49m\u001b[43m,\u001b[49m\u001b[43m \u001b[49m\u001b[38;5;124;43m'\u001b[39;49m\u001b[38;5;124;43mr\u001b[39;49m\u001b[38;5;124;43m'\u001b[39;49m\u001b[43m)\u001b[49m \u001b[38;5;28;01mas\u001b[39;00m hf:\n\u001b[1;32m      4\u001b[0m         \u001b[38;5;28mprint\u001b[39m(\u001b[38;5;28mlist\u001b[39m(hf\u001b[38;5;241m.\u001b[39mkeys()))\n\u001b[1;32m      5\u001b[0m         \u001b[38;5;28mprint\u001b[39m(file_path[\u001b[38;5;241m9\u001b[39m:\u001b[38;5;241m-\u001b[39m\u001b[38;5;241m5\u001b[39m])\n",
      "File \u001b[0;32m~/opt/anaconda3/lib/python3.8/site-packages/h5py/_hl/files.py:533\u001b[0m, in \u001b[0;36mFile.__init__\u001b[0;34m(self, name, mode, driver, libver, userblock_size, swmr, rdcc_nslots, rdcc_nbytes, rdcc_w0, track_order, fs_strategy, fs_persist, fs_threshold, fs_page_size, page_buf_size, min_meta_keep, min_raw_keep, locking, alignment_threshold, alignment_interval, **kwds)\u001b[0m\n\u001b[1;32m    525\u001b[0m     fapl \u001b[38;5;241m=\u001b[39m make_fapl(driver, libver, rdcc_nslots, rdcc_nbytes, rdcc_w0,\n\u001b[1;32m    526\u001b[0m                      locking, page_buf_size, min_meta_keep, min_raw_keep,\n\u001b[1;32m    527\u001b[0m                      alignment_threshold\u001b[38;5;241m=\u001b[39malignment_threshold,\n\u001b[1;32m    528\u001b[0m                      alignment_interval\u001b[38;5;241m=\u001b[39malignment_interval,\n\u001b[1;32m    529\u001b[0m                      \u001b[38;5;241m*\u001b[39m\u001b[38;5;241m*\u001b[39mkwds)\n\u001b[1;32m    530\u001b[0m     fcpl \u001b[38;5;241m=\u001b[39m make_fcpl(track_order\u001b[38;5;241m=\u001b[39mtrack_order, fs_strategy\u001b[38;5;241m=\u001b[39mfs_strategy,\n\u001b[1;32m    531\u001b[0m                      fs_persist\u001b[38;5;241m=\u001b[39mfs_persist, fs_threshold\u001b[38;5;241m=\u001b[39mfs_threshold,\n\u001b[1;32m    532\u001b[0m                      fs_page_size\u001b[38;5;241m=\u001b[39mfs_page_size)\n\u001b[0;32m--> 533\u001b[0m     fid \u001b[38;5;241m=\u001b[39m \u001b[43mmake_fid\u001b[49m\u001b[43m(\u001b[49m\u001b[43mname\u001b[49m\u001b[43m,\u001b[49m\u001b[43m \u001b[49m\u001b[43mmode\u001b[49m\u001b[43m,\u001b[49m\u001b[43m \u001b[49m\u001b[43muserblock_size\u001b[49m\u001b[43m,\u001b[49m\u001b[43m \u001b[49m\u001b[43mfapl\u001b[49m\u001b[43m,\u001b[49m\u001b[43m \u001b[49m\u001b[43mfcpl\u001b[49m\u001b[43m,\u001b[49m\u001b[43m \u001b[49m\u001b[43mswmr\u001b[49m\u001b[38;5;241;43m=\u001b[39;49m\u001b[43mswmr\u001b[49m\u001b[43m)\u001b[49m\n\u001b[1;32m    535\u001b[0m \u001b[38;5;28;01mif\u001b[39;00m \u001b[38;5;28misinstance\u001b[39m(libver, \u001b[38;5;28mtuple\u001b[39m):\n\u001b[1;32m    536\u001b[0m     \u001b[38;5;28mself\u001b[39m\u001b[38;5;241m.\u001b[39m_libver \u001b[38;5;241m=\u001b[39m libver\n",
      "File \u001b[0;32m~/opt/anaconda3/lib/python3.8/site-packages/h5py/_hl/files.py:226\u001b[0m, in \u001b[0;36mmake_fid\u001b[0;34m(name, mode, userblock_size, fapl, fcpl, swmr)\u001b[0m\n\u001b[1;32m    224\u001b[0m     \u001b[38;5;28;01mif\u001b[39;00m swmr \u001b[38;5;129;01mand\u001b[39;00m swmr_support:\n\u001b[1;32m    225\u001b[0m         flags \u001b[38;5;241m|\u001b[39m\u001b[38;5;241m=\u001b[39m h5f\u001b[38;5;241m.\u001b[39mACC_SWMR_READ\n\u001b[0;32m--> 226\u001b[0m     fid \u001b[38;5;241m=\u001b[39m \u001b[43mh5f\u001b[49m\u001b[38;5;241;43m.\u001b[39;49m\u001b[43mopen\u001b[49m\u001b[43m(\u001b[49m\u001b[43mname\u001b[49m\u001b[43m,\u001b[49m\u001b[43m \u001b[49m\u001b[43mflags\u001b[49m\u001b[43m,\u001b[49m\u001b[43m \u001b[49m\u001b[43mfapl\u001b[49m\u001b[38;5;241;43m=\u001b[39;49m\u001b[43mfapl\u001b[49m\u001b[43m)\u001b[49m\n\u001b[1;32m    227\u001b[0m \u001b[38;5;28;01melif\u001b[39;00m mode \u001b[38;5;241m==\u001b[39m \u001b[38;5;124m'\u001b[39m\u001b[38;5;124mr+\u001b[39m\u001b[38;5;124m'\u001b[39m:\n\u001b[1;32m    228\u001b[0m     fid \u001b[38;5;241m=\u001b[39m h5f\u001b[38;5;241m.\u001b[39mopen(name, h5f\u001b[38;5;241m.\u001b[39mACC_RDWR, fapl\u001b[38;5;241m=\u001b[39mfapl)\n",
      "File \u001b[0;32mh5py/_objects.pyx:54\u001b[0m, in \u001b[0;36mh5py._objects.with_phil.wrapper\u001b[0;34m()\u001b[0m\n",
      "File \u001b[0;32mh5py/_objects.pyx:55\u001b[0m, in \u001b[0;36mh5py._objects.with_phil.wrapper\u001b[0;34m()\u001b[0m\n",
      "File \u001b[0;32mh5py/h5f.pyx:106\u001b[0m, in \u001b[0;36mh5py.h5f.open\u001b[0;34m()\u001b[0m\n",
      "\u001b[0;31mFileNotFoundError\u001b[0m: [Errno 2] Unable to open file (unable to open file: name = 'mel_spec/Experimental.hdf5', errno = 2, error message = 'No such file or directory', flags = 0, o_flags = 0)"
     ]
    }
   ],
   "source": [
    "hdf5_dict[\"Experimental\"] = read_hdf(\"mel_spec/Experimental.hdf5\")"
   ]
  },
  {
   "cell_type": "code",
   "execution_count": 231,
   "id": "16ef1348",
   "metadata": {},
   "outputs": [
    {
     "ename": "FileNotFoundError",
     "evalue": "[Errno 2] Unable to open file (unable to open file: name = 'mel_spec/Experimental.hdf5', errno = 2, error message = 'No such file or directory', flags = 0, o_flags = 0)",
     "output_type": "error",
     "traceback": [
      "\u001b[0;31m---------------------------------------------------------------------------\u001b[0m",
      "\u001b[0;31mFileNotFoundError\u001b[0m                         Traceback (most recent call last)",
      "Cell \u001b[0;32mIn [231], line 3\u001b[0m\n\u001b[1;32m      1\u001b[0m mel_spec_base_path \u001b[38;5;241m=\u001b[39m \u001b[38;5;124m\"\u001b[39m\u001b[38;5;124mmel_spec/\u001b[39m\u001b[38;5;124m\"\u001b[39m\n\u001b[1;32m      2\u001b[0m \u001b[38;5;28;01mfor\u001b[39;00m i \u001b[38;5;129;01min\u001b[39;00m genre:\n\u001b[0;32m----> 3\u001b[0m     output \u001b[38;5;241m=\u001b[39m \u001b[43mread_hdf\u001b[49m\u001b[43m(\u001b[49m\u001b[43mmel_spec_base_path\u001b[49m\u001b[38;5;241;43m+\u001b[39;49m\u001b[43mi\u001b[49m\u001b[38;5;241;43m+\u001b[39;49m\u001b[38;5;124;43m\"\u001b[39;49m\u001b[38;5;124;43m.hdf5\u001b[39;49m\u001b[38;5;124;43m\"\u001b[39;49m\u001b[43m)\u001b[49m \u001b[38;5;66;03m# list of dictionaries\u001b[39;00m\n\u001b[1;32m      4\u001b[0m     hdf5_dict[i] \u001b[38;5;241m=\u001b[39m output\n",
      "Cell \u001b[0;32mIn [227], line 3\u001b[0m, in \u001b[0;36mread_hdf\u001b[0;34m(file_path)\u001b[0m\n\u001b[1;32m      1\u001b[0m \u001b[38;5;28;01mdef\u001b[39;00m \u001b[38;5;21mread_hdf\u001b[39m(file_path):\n\u001b[1;32m      2\u001b[0m     return_dict \u001b[38;5;241m=\u001b[39m []\n\u001b[0;32m----> 3\u001b[0m     \u001b[38;5;28;01mwith\u001b[39;00m \u001b[43mh5py\u001b[49m\u001b[38;5;241;43m.\u001b[39;49m\u001b[43mFile\u001b[49m\u001b[43m(\u001b[49m\u001b[43mfile_path\u001b[49m\u001b[43m,\u001b[49m\u001b[43m \u001b[49m\u001b[38;5;124;43m'\u001b[39;49m\u001b[38;5;124;43mr\u001b[39;49m\u001b[38;5;124;43m'\u001b[39;49m\u001b[43m)\u001b[49m \u001b[38;5;28;01mas\u001b[39;00m hf:\n\u001b[1;32m      4\u001b[0m         \u001b[38;5;28mprint\u001b[39m(\u001b[38;5;28mlist\u001b[39m(hf\u001b[38;5;241m.\u001b[39mkeys()))\n\u001b[1;32m      5\u001b[0m         \u001b[38;5;28mprint\u001b[39m(file_path[\u001b[38;5;241m9\u001b[39m:\u001b[38;5;241m-\u001b[39m\u001b[38;5;241m5\u001b[39m])\n",
      "File \u001b[0;32m~/opt/anaconda3/lib/python3.8/site-packages/h5py/_hl/files.py:533\u001b[0m, in \u001b[0;36mFile.__init__\u001b[0;34m(self, name, mode, driver, libver, userblock_size, swmr, rdcc_nslots, rdcc_nbytes, rdcc_w0, track_order, fs_strategy, fs_persist, fs_threshold, fs_page_size, page_buf_size, min_meta_keep, min_raw_keep, locking, alignment_threshold, alignment_interval, **kwds)\u001b[0m\n\u001b[1;32m    525\u001b[0m     fapl \u001b[38;5;241m=\u001b[39m make_fapl(driver, libver, rdcc_nslots, rdcc_nbytes, rdcc_w0,\n\u001b[1;32m    526\u001b[0m                      locking, page_buf_size, min_meta_keep, min_raw_keep,\n\u001b[1;32m    527\u001b[0m                      alignment_threshold\u001b[38;5;241m=\u001b[39malignment_threshold,\n\u001b[1;32m    528\u001b[0m                      alignment_interval\u001b[38;5;241m=\u001b[39malignment_interval,\n\u001b[1;32m    529\u001b[0m                      \u001b[38;5;241m*\u001b[39m\u001b[38;5;241m*\u001b[39mkwds)\n\u001b[1;32m    530\u001b[0m     fcpl \u001b[38;5;241m=\u001b[39m make_fcpl(track_order\u001b[38;5;241m=\u001b[39mtrack_order, fs_strategy\u001b[38;5;241m=\u001b[39mfs_strategy,\n\u001b[1;32m    531\u001b[0m                      fs_persist\u001b[38;5;241m=\u001b[39mfs_persist, fs_threshold\u001b[38;5;241m=\u001b[39mfs_threshold,\n\u001b[1;32m    532\u001b[0m                      fs_page_size\u001b[38;5;241m=\u001b[39mfs_page_size)\n\u001b[0;32m--> 533\u001b[0m     fid \u001b[38;5;241m=\u001b[39m \u001b[43mmake_fid\u001b[49m\u001b[43m(\u001b[49m\u001b[43mname\u001b[49m\u001b[43m,\u001b[49m\u001b[43m \u001b[49m\u001b[43mmode\u001b[49m\u001b[43m,\u001b[49m\u001b[43m \u001b[49m\u001b[43muserblock_size\u001b[49m\u001b[43m,\u001b[49m\u001b[43m \u001b[49m\u001b[43mfapl\u001b[49m\u001b[43m,\u001b[49m\u001b[43m \u001b[49m\u001b[43mfcpl\u001b[49m\u001b[43m,\u001b[49m\u001b[43m \u001b[49m\u001b[43mswmr\u001b[49m\u001b[38;5;241;43m=\u001b[39;49m\u001b[43mswmr\u001b[49m\u001b[43m)\u001b[49m\n\u001b[1;32m    535\u001b[0m \u001b[38;5;28;01mif\u001b[39;00m \u001b[38;5;28misinstance\u001b[39m(libver, \u001b[38;5;28mtuple\u001b[39m):\n\u001b[1;32m    536\u001b[0m     \u001b[38;5;28mself\u001b[39m\u001b[38;5;241m.\u001b[39m_libver \u001b[38;5;241m=\u001b[39m libver\n",
      "File \u001b[0;32m~/opt/anaconda3/lib/python3.8/site-packages/h5py/_hl/files.py:226\u001b[0m, in \u001b[0;36mmake_fid\u001b[0;34m(name, mode, userblock_size, fapl, fcpl, swmr)\u001b[0m\n\u001b[1;32m    224\u001b[0m     \u001b[38;5;28;01mif\u001b[39;00m swmr \u001b[38;5;129;01mand\u001b[39;00m swmr_support:\n\u001b[1;32m    225\u001b[0m         flags \u001b[38;5;241m|\u001b[39m\u001b[38;5;241m=\u001b[39m h5f\u001b[38;5;241m.\u001b[39mACC_SWMR_READ\n\u001b[0;32m--> 226\u001b[0m     fid \u001b[38;5;241m=\u001b[39m \u001b[43mh5f\u001b[49m\u001b[38;5;241;43m.\u001b[39;49m\u001b[43mopen\u001b[49m\u001b[43m(\u001b[49m\u001b[43mname\u001b[49m\u001b[43m,\u001b[49m\u001b[43m \u001b[49m\u001b[43mflags\u001b[49m\u001b[43m,\u001b[49m\u001b[43m \u001b[49m\u001b[43mfapl\u001b[49m\u001b[38;5;241;43m=\u001b[39;49m\u001b[43mfapl\u001b[49m\u001b[43m)\u001b[49m\n\u001b[1;32m    227\u001b[0m \u001b[38;5;28;01melif\u001b[39;00m mode \u001b[38;5;241m==\u001b[39m \u001b[38;5;124m'\u001b[39m\u001b[38;5;124mr+\u001b[39m\u001b[38;5;124m'\u001b[39m:\n\u001b[1;32m    228\u001b[0m     fid \u001b[38;5;241m=\u001b[39m h5f\u001b[38;5;241m.\u001b[39mopen(name, h5f\u001b[38;5;241m.\u001b[39mACC_RDWR, fapl\u001b[38;5;241m=\u001b[39mfapl)\n",
      "File \u001b[0;32mh5py/_objects.pyx:54\u001b[0m, in \u001b[0;36mh5py._objects.with_phil.wrapper\u001b[0;34m()\u001b[0m\n",
      "File \u001b[0;32mh5py/_objects.pyx:55\u001b[0m, in \u001b[0;36mh5py._objects.with_phil.wrapper\u001b[0;34m()\u001b[0m\n",
      "File \u001b[0;32mh5py/h5f.pyx:106\u001b[0m, in \u001b[0;36mh5py.h5f.open\u001b[0;34m()\u001b[0m\n",
      "\u001b[0;31mFileNotFoundError\u001b[0m: [Errno 2] Unable to open file (unable to open file: name = 'mel_spec/Experimental.hdf5', errno = 2, error message = 'No such file or directory', flags = 0, o_flags = 0)"
     ]
    }
   ],
   "source": [
    "mel_spec_base_path = \"mel_spec/\"\n",
    "for i in genre:\n",
    "    output = read_hdf(mel_spec_base_path+i+\".hdf5\") # list of dictionaries\n",
    "    hdf5_dict[i] = output\n"
   ]
  },
  {
   "cell_type": "code",
   "execution_count": 232,
   "id": "5a3969c6",
   "metadata": {},
   "outputs": [
    {
     "data": {
      "text/plain": [
       "array([[-38.476818, -40.88924 , -41.310997, ..., -42.49931 , -43.811142,\n",
       "        -46.01673 ],\n",
       "       [-37.620705, -42.210247, -43.371998, ..., -34.7596  , -36.702255,\n",
       "        -37.005035],\n",
       "       [-29.18562 , -25.22186 , -26.829031, ..., -31.940666, -28.140745,\n",
       "        -28.65306 ],\n",
       "       ...,\n",
       "       [-80.      , -80.      , -80.      , ..., -80.      , -80.      ,\n",
       "        -80.      ],\n",
       "       [-80.      , -80.      , -80.      , ..., -80.      , -80.      ,\n",
       "        -80.      ],\n",
       "       [-80.      , -80.      , -80.      , ..., -80.      , -80.      ,\n",
       "        -80.      ]], dtype=float32)"
      ]
     },
     "execution_count": 232,
     "metadata": {},
     "output_type": "execute_result"
    }
   ],
   "source": [
    "hdf5_dict[\"International\"][0][\"data\"]"
   ]
  },
  {
   "cell_type": "code",
   "execution_count": 233,
   "id": "a2423664",
   "metadata": {},
   "outputs": [],
   "source": [
    "label_reference = {}\n",
    "for index,value in enumerate(hdf5_dict.keys()):\n",
    "    label_reference[value] = index"
   ]
  },
  {
   "cell_type": "code",
   "execution_count": 234,
   "id": "43b90dd4",
   "metadata": {},
   "outputs": [
    {
     "name": "stdout",
     "output_type": "stream",
     "text": [
      "[0, 1, 2, 3, 4, 5, 6, 7]\n"
     ]
    }
   ],
   "source": [
    "label_reference\n",
    "print(list(label_reference.values()))"
   ]
  },
  {
   "cell_type": "code",
   "execution_count": 235,
   "id": "bcfac83e",
   "metadata": {},
   "outputs": [],
   "source": [
    "def splitting_test_valid(dictionary,test_size,valid_size):\n",
    "    x = []\n",
    "    y = []\n",
    "    for genres,datas in dictionary.items():\n",
    "        for i in datas:\n",
    "            x.append(i['data'])\n",
    "            y.append(label_reference[genres])\n",
    "    x_train,x_test,y_train,y_test = train_test_split(x,y,test_size = test_size)\n",
    "    x_train,x_valid,y_train,y_valid = train_test_split(x_train,y_train,test_size = valid_size)\n",
    "    return x_train,x_valid,x_test,y_train,y_valid,y_test"
   ]
  },
  {
   "cell_type": "code",
   "execution_count": 236,
   "id": "16638b54",
   "metadata": {},
   "outputs": [],
   "source": [
    "x_train,x_valid,x_test,y_train,y_valid,y_test = splitting_test_valid(hdf5_dict,0.2,0.2)"
   ]
  },
  {
   "cell_type": "code",
   "execution_count": 237,
   "id": "f8e23429",
   "metadata": {},
   "outputs": [],
   "source": [
    "\n",
    "x_train = np.rollaxis(np.dstack(x_train),-1)\n",
    "x_valid = np.rollaxis(np.dstack(x_valid),-1)\n",
    "x_test = np.rollaxis(np.dstack(x_test),-1)\n",
    "y_train = np.rollaxis(np.dstack(y_train),-1)\n",
    "y_valid = np.rollaxis(np.dstack(y_valid),-1)\n",
    "y_test = np.rollaxis(np.dstack(y_test),-1)\n"
   ]
  },
  {
   "cell_type": "code",
   "execution_count": 238,
   "id": "c659b8e2",
   "metadata": {},
   "outputs": [],
   "source": [
    "x_train = x_train[...,np.newaxis]\n",
    "x_valid = x_valid[...,np.newaxis]\n",
    "x_test = x_test[...,np.newaxis]"
   ]
  },
  {
   "cell_type": "code",
   "execution_count": 239,
   "id": "f8337ac5",
   "metadata": {},
   "outputs": [
    {
     "name": "stdout",
     "output_type": "stream",
     "text": [
      "(5116, 128, 646, 1)\n",
      "(1279, 128, 646, 1)\n",
      "(1599, 128, 646, 1)\n",
      "(5116, 1, 1)\n",
      "(1279, 1, 1)\n",
      "(1599, 1, 1)\n"
     ]
    }
   ],
   "source": [
    "print(x_train.shape)\n",
    "print(x_valid.shape)\n",
    "print(x_test.shape)\n",
    "print(y_train.shape)\n",
    "print(y_valid.shape)\n",
    "print(y_test.shape)"
   ]
  },
  {
   "cell_type": "code",
   "execution_count": 240,
   "id": "06ed4e06",
   "metadata": {},
   "outputs": [
    {
     "data": {
      "text/plain": [
       "(128, 646, 1)"
      ]
     },
     "execution_count": 240,
     "metadata": {},
     "output_type": "execute_result"
    }
   ],
   "source": [
    "x_train[0].shape"
   ]
  },
  {
   "cell_type": "markdown",
   "id": "1600497d",
   "metadata": {},
   "source": [
    "### Model "
   ]
  },
  {
   "cell_type": "code",
   "execution_count": 246,
   "id": "97a97e36",
   "metadata": {},
   "outputs": [],
   "source": [
    "'''\n",
    "Since the task is not overly ccomplex, choose to use LeNet 5\n",
    "'''\n",
    "input_shape = (x_train.shape[1], x_train.shape[2], x_train.shape[3])\n",
    "# inputs = keras.Input(shape=input_shape) \n",
    "\n",
    "def model(input_shape,label_reference):\n",
    "    model = tf.keras.models.Sequential()\n",
    "    model.add(tf.keras.layers.Input(shape=input_shape))\n",
    "    model.add(tf.keras.layers.Conv2D(32, 3, strides=2, padding='same', activation='relu'))\n",
    "    model.add(tf.keras.layers.BatchNormalization())\n",
    "    model.add(tf.keras.layers.MaxPooling2D(pool_size=(3, 3)))\n",
    "    model.add(tf.keras.layers.BatchNormalization())\n",
    "    model.add(tf.keras.layers.Conv2D(64, 3, padding='same', activation='relu'))\n",
    "    model.add(tf.keras.layers.BatchNormalization())\n",
    "    model.add(tf.keras.layers.MaxPooling2D(pool_size=(3, 3)))\n",
    "    model.add(tf.keras.layers.BatchNormalization())\n",
    "    model.add(tf.keras.layers.Conv2D(128, 3, padding='same', activation='relu'))\n",
    "    model.add(tf.keras.layers.BatchNormalization())\n",
    "    model.add(tf.keras.layers.MaxPooling2D(pool_size=(3, 3)))\n",
    "    model.add(tf.keras.layers.BatchNormalization())\n",
    "    model.add(tf.keras.layers.Flatten())\n",
    "    model.add(tf.keras.layers.Dense(256, activation='relu'))\n",
    "    model.add(tf.keras.layers.BatchNormalization())\n",
    "    model.add(tf.keras.layers.Dropout(0.5))\n",
    "    model.add(tf.keras.layers.Dense(len(label_reference), activation='softmax'))\n",
    "    return model\n",
    "\n"
   ]
  },
  {
   "cell_type": "code",
   "execution_count": 247,
   "id": "30e6ce8c",
   "metadata": {},
   "outputs": [],
   "source": [
    "model = model(input_shape,label_reference)"
   ]
  },
  {
   "cell_type": "code",
   "execution_count": 244,
   "id": "151a951a",
   "metadata": {},
   "outputs": [],
   "source": [
    "optimizer = keras.optimizers.SGD(learning_rate = 0.0009)\n",
    "model.compile(optimizer = optimizer, loss = \"SparseCategoricalCrossentropy\",metrics = [\"accuracy\"])"
   ]
  },
  {
   "cell_type": "markdown",
   "id": "6b1698f9",
   "metadata": {},
   "source": [
    "### Fitting and training the data"
   ]
  },
  {
   "cell_type": "code",
   "execution_count": 245,
   "id": "79598aa9",
   "metadata": {},
   "outputs": [
    {
     "name": "stdout",
     "output_type": "stream",
     "text": [
      "Epoch 1/30\n",
      "1279/1279 [==============================] - 119s 92ms/step - loss: 2.6216 - accuracy: 0.1857 - val_loss: 2.3576 - val_accuracy: 0.2213\n",
      "Epoch 2/30\n",
      "1279/1279 [==============================] - 99s 77ms/step - loss: 2.3282 - accuracy: 0.2336 - val_loss: 2.5467 - val_accuracy: 0.2283\n",
      "Epoch 3/30\n",
      "1279/1279 [==============================] - 87s 68ms/step - loss: 2.1948 - accuracy: 0.2508 - val_loss: 1.8138 - val_accuracy: 0.3378\n",
      "Epoch 4/30\n",
      "1279/1279 [==============================] - 76s 59ms/step - loss: 2.0837 - accuracy: 0.2813 - val_loss: 1.6287 - val_accuracy: 0.3948\n",
      "Epoch 5/30\n",
      "1279/1279 [==============================] - 89s 70ms/step - loss: 1.9795 - accuracy: 0.2875 - val_loss: 1.8499 - val_accuracy: 0.3393\n",
      "Epoch 6/30\n",
      "1279/1279 [==============================] - 89s 69ms/step - loss: 1.8868 - accuracy: 0.3176 - val_loss: 1.7116 - val_accuracy: 0.3862\n",
      "Epoch 7/30\n",
      "1279/1279 [==============================] - 85s 66ms/step - loss: 1.8225 - accuracy: 0.3434 - val_loss: 1.6459 - val_accuracy: 0.4199\n",
      "Epoch 8/30\n",
      "1279/1279 [==============================] - 82s 64ms/step - loss: 1.7647 - accuracy: 0.3649 - val_loss: 1.7367 - val_accuracy: 0.3933\n",
      "Epoch 9/30\n",
      "1279/1279 [==============================] - 77s 60ms/step - loss: 1.7267 - accuracy: 0.3745 - val_loss: 1.6607 - val_accuracy: 0.4347\n",
      "Epoch 10/30\n",
      "1279/1279 [==============================] - 83s 65ms/step - loss: 1.6916 - accuracy: 0.3929 - val_loss: 1.5605 - val_accuracy: 0.4519\n",
      "Epoch 11/30\n",
      "1279/1279 [==============================] - 91s 71ms/step - loss: 1.6826 - accuracy: 0.3976 - val_loss: 2.2379 - val_accuracy: 0.3026\n",
      "Epoch 12/30\n",
      "1279/1279 [==============================] - 75s 59ms/step - loss: 1.6547 - accuracy: 0.3980 - val_loss: 1.6135 - val_accuracy: 0.4238\n",
      "Epoch 13/30\n",
      "1279/1279 [==============================] - 82s 64ms/step - loss: 1.6117 - accuracy: 0.4228 - val_loss: 1.5010 - val_accuracy: 0.4621\n",
      "Epoch 14/30\n",
      "1279/1279 [==============================] - 78s 61ms/step - loss: 1.5757 - accuracy: 0.4376 - val_loss: 1.8196 - val_accuracy: 0.3862\n",
      "Epoch 15/30\n",
      "1279/1279 [==============================] - 81s 64ms/step - loss: 1.5768 - accuracy: 0.4347 - val_loss: 1.9318 - val_accuracy: 0.3683\n",
      "Epoch 16/30\n",
      "1279/1279 [==============================] - 78s 61ms/step - loss: 1.5547 - accuracy: 0.4478 - val_loss: 2.5976 - val_accuracy: 0.2549\n",
      "Epoch 17/30\n",
      "1279/1279 [==============================] - 71s 56ms/step - loss: 1.5297 - accuracy: 0.4562 - val_loss: 1.5298 - val_accuracy: 0.4605\n",
      "Epoch 18/30\n",
      "1279/1279 [==============================] - 68s 53ms/step - loss: 1.5079 - accuracy: 0.4631 - val_loss: 1.6006 - val_accuracy: 0.4511\n",
      "Epoch 19/30\n",
      "1279/1279 [==============================] - 66s 51ms/step - loss: 1.4764 - accuracy: 0.4816 - val_loss: 2.2878 - val_accuracy: 0.3159\n",
      "Epoch 20/30\n",
      "1279/1279 [==============================] - 75s 58ms/step - loss: 1.4662 - accuracy: 0.4863 - val_loss: 2.0282 - val_accuracy: 0.3612\n",
      "Epoch 21/30\n",
      "1279/1279 [==============================] - 78s 61ms/step - loss: 1.4570 - accuracy: 0.4951 - val_loss: 1.6080 - val_accuracy: 0.4496\n",
      "Epoch 22/30\n",
      "1279/1279 [==============================] - 70s 55ms/step - loss: 1.4625 - accuracy: 0.4844 - val_loss: 1.6075 - val_accuracy: 0.4543\n",
      "Epoch 23/30\n",
      "1279/1279 [==============================] - 65s 51ms/step - loss: 1.4209 - accuracy: 0.5066 - val_loss: 1.8716 - val_accuracy: 0.3995\n",
      "Epoch 24/30\n",
      "1279/1279 [==============================] - 63s 49ms/step - loss: 1.3842 - accuracy: 0.5274 - val_loss: 1.4134 - val_accuracy: 0.5145\n",
      "Epoch 25/30\n",
      "1279/1279 [==============================] - 63s 49ms/step - loss: 1.3991 - accuracy: 0.5076 - val_loss: 1.5854 - val_accuracy: 0.4941\n",
      "Epoch 26/30\n",
      "1279/1279 [==============================] - 64s 50ms/step - loss: 1.3857 - accuracy: 0.5151 - val_loss: 1.4815 - val_accuracy: 0.4941\n",
      "Epoch 27/30\n",
      "1279/1279 [==============================] - 65s 51ms/step - loss: 1.3608 - accuracy: 0.5262 - val_loss: 1.4994 - val_accuracy: 0.5160\n",
      "Epoch 28/30\n",
      "1279/1279 [==============================] - 65s 50ms/step - loss: 1.3476 - accuracy: 0.5352 - val_loss: 1.8897 - val_accuracy: 0.4113\n",
      "Epoch 29/30\n",
      "1279/1279 [==============================] - 63s 49ms/step - loss: 1.3377 - accuracy: 0.5440 - val_loss: 1.8025 - val_accuracy: 0.4089\n",
      "Epoch 30/30\n",
      "1279/1279 [==============================] - 63s 49ms/step - loss: 1.3057 - accuracy: 0.5455 - val_loss: 1.5980 - val_accuracy: 0.4848\n"
     ]
    },
    {
     "data": {
      "text/plain": [
       "<keras.callbacks.History at 0x7f89b461fd00>"
      ]
     },
     "execution_count": 245,
     "metadata": {},
     "output_type": "execute_result"
    }
   ],
   "source": [
    "model.fit(x_train,y_train,validation_data = (x_valid,y_valid),epochs=30,batch_size = 4)"
   ]
  },
  {
   "cell_type": "markdown",
   "id": "82a0681b",
   "metadata": {},
   "source": [
    "### Checking the result"
   ]
  },
  {
   "cell_type": "code",
   "execution_count": 202,
   "id": "181eeb29",
   "metadata": {},
   "outputs": [
    {
     "name": "stdout",
     "output_type": "stream",
     "text": [
      "1/1 [==============================] - 0s 142ms/step - loss: 2.7212 - accuracy: 0.2500\n",
      "Error is 2.721205711364746 and accuracy is 0.25\n"
     ]
    }
   ],
   "source": [
    "error,accuracy = model.evaluate(x_test[0:4],y_test[0:4],verbose = 1)\n",
    "print(f\"Error is {error} and accuracy is {accuracy}\")"
   ]
  },
  {
   "cell_type": "code",
   "execution_count": 159,
   "id": "7dec46f8",
   "metadata": {},
   "outputs": [],
   "source": [
    "def predict_list(test_list):\n",
    "    prediction = model.predict(test_list)\n",
    "    prediction = [np.argmax(i) for i in prediction]\n",
    "    return prediction"
   ]
  },
  {
   "cell_type": "code",
   "execution_count": 153,
   "id": "b4b11fc2",
   "metadata": {},
   "outputs": [
    {
     "name": "stdout",
     "output_type": "stream",
     "text": [
      "(1599, 1, 1)\n",
      "1599\n"
     ]
    }
   ],
   "source": [
    "print(y_test.shape)\n",
    "\n",
    "list_label = list(y_test.flatten())\n",
    "print(len(list_label))"
   ]
  },
  {
   "cell_type": "code",
   "execution_count": 157,
   "id": "f6fbe9fa",
   "metadata": {},
   "outputs": [],
   "source": []
  },
  {
   "cell_type": "code",
   "execution_count": 248,
   "id": "db1f7f12",
   "metadata": {},
   "outputs": [],
   "source": [
    "from sklearn.metrics import classification_report"
   ]
  },
  {
   "cell_type": "code",
   "execution_count": 249,
   "id": "d933e5ee",
   "metadata": {},
   "outputs": [
    {
     "name": "stdout",
     "output_type": "stream",
     "text": [
      "50/50 [==============================] - 6s 114ms/step\n"
     ]
    }
   ],
   "source": [
    "prediction_class = predict_list(x_test)\n",
    "real_class = list(y_test.flatten())\n"
   ]
  },
  {
   "cell_type": "code",
   "execution_count": 250,
   "id": "44da6886",
   "metadata": {},
   "outputs": [
    {
     "name": "stderr",
     "output_type": "stream",
     "text": [
      "/Users/peterhuang/opt/anaconda3/lib/python3.8/site-packages/sklearn/metrics/_classification.py:1334: UndefinedMetricWarning: Precision is ill-defined and being set to 0.0 in labels with no predicted samples. Use `zero_division` parameter to control this behavior.\n",
      "  _warn_prf(average, modifier, msg_start, len(result))\n"
     ]
    }
   ],
   "source": [
    "precision = precision_score(real_class,prediction_class,average=\"macro\")\n",
    "recall = recall_score(real_class,prediction_class,average=\"macro\")\n",
    "f1_score = f1_score(real_class,prediction_class,average=\"macro\")\n",
    "accuracy = accuracy_score(real_class, prediction_class)  "
   ]
  },
  {
   "cell_type": "code",
   "execution_count": 251,
   "id": "03a9b5a3",
   "metadata": {},
   "outputs": [
    {
     "name": "stdout",
     "output_type": "stream",
     "text": [
      "[[  0   0   0   0   4 199   0   0]\n",
      " [  0   0   0   0   4 198   0   0]\n",
      " [  0   0   0   0   2 199   0   0]\n",
      " [  1   0   0   0   5 184   0   0]\n",
      " [  0   0   0   0   7 209   0   0]\n",
      " [  0   0   0   0   3 198   0   0]\n",
      " [  0   0   0   0   2 189   0   0]\n",
      " [  0   0   0   0   2 193   0   0]]\n"
     ]
    }
   ],
   "source": [
    "print(confusion_matrix(real_class, prediction_class,labels = list(label_reference.values())))"
   ]
  },
  {
   "cell_type": "code",
   "execution_count": 252,
   "id": "2dc209a9",
   "metadata": {},
   "outputs": [
    {
     "name": "stdout",
     "output_type": "stream",
     "text": [
      "Accuracy score is 0.1282051282051282\n",
      "Precision score is 0.045946792378189494\n",
      "Recall score is 0.12718525428413488\n",
      "F1 score is 0.035108958837772396\n"
     ]
    }
   ],
   "source": [
    "\n",
    "print(f\"Accuracy score is {accuracy}\")\n",
    "print(f\"Precision score is {precision}\")\n",
    "print(f\"Recall score is {recall}\")\n",
    "print(f\"F1 score is {f1_score}\")\n"
   ]
  },
  {
   "cell_type": "code",
   "execution_count": 253,
   "id": "1b351e1f",
   "metadata": {},
   "outputs": [
    {
     "name": "stdout",
     "output_type": "stream",
     "text": [
      "              precision    recall  f1-score   support\n",
      "\n",
      "           0       0.00      0.00      0.00       203\n",
      "           1       0.00      0.00      0.00       202\n",
      "           2       0.00      0.00      0.00       201\n",
      "           3       0.00      0.00      0.00       190\n",
      "           4       0.24      0.03      0.06       216\n",
      "           5       0.13      0.99      0.22       201\n",
      "           6       0.00      0.00      0.00       191\n",
      "           7       0.00      0.00      0.00       195\n",
      "\n",
      "    accuracy                           0.13      1599\n",
      "   macro avg       0.05      0.13      0.04      1599\n",
      "weighted avg       0.05      0.13      0.04      1599\n",
      "\n"
     ]
    },
    {
     "name": "stderr",
     "output_type": "stream",
     "text": [
      "/Users/peterhuang/opt/anaconda3/lib/python3.8/site-packages/sklearn/metrics/_classification.py:1334: UndefinedMetricWarning: Precision and F-score are ill-defined and being set to 0.0 in labels with no predicted samples. Use `zero_division` parameter to control this behavior.\n",
      "  _warn_prf(average, modifier, msg_start, len(result))\n",
      "/Users/peterhuang/opt/anaconda3/lib/python3.8/site-packages/sklearn/metrics/_classification.py:1334: UndefinedMetricWarning: Precision and F-score are ill-defined and being set to 0.0 in labels with no predicted samples. Use `zero_division` parameter to control this behavior.\n",
      "  _warn_prf(average, modifier, msg_start, len(result))\n",
      "/Users/peterhuang/opt/anaconda3/lib/python3.8/site-packages/sklearn/metrics/_classification.py:1334: UndefinedMetricWarning: Precision and F-score are ill-defined and being set to 0.0 in labels with no predicted samples. Use `zero_division` parameter to control this behavior.\n",
      "  _warn_prf(average, modifier, msg_start, len(result))\n"
     ]
    }
   ],
   "source": [
    "print(classification_report(real_class, prediction_class))"
   ]
  },
  {
   "cell_type": "code",
   "execution_count": null,
   "id": "0a1cdcb1",
   "metadata": {},
   "outputs": [],
   "source": []
  },
  {
   "cell_type": "code",
   "execution_count": null,
   "id": "928b1c76",
   "metadata": {},
   "outputs": [],
   "source": []
  }
 ],
 "metadata": {
  "kernelspec": {
   "display_name": "Python 3",
   "language": "python",
   "name": "python3"
  },
  "language_info": {
   "codemirror_mode": {
    "name": "ipython",
    "version": 3
   },
   "file_extension": ".py",
   "mimetype": "text/x-python",
   "name": "python",
   "nbconvert_exporter": "python",
   "pygments_lexer": "ipython3",
   "version": "3.8.8"
  }
 },
 "nbformat": 4,
 "nbformat_minor": 5
}
