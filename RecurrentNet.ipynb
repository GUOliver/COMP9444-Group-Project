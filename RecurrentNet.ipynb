{
 "cells": [
  {
   "cell_type": "code",
   "execution_count": null,
   "id": "32697ed9-ed2a-42ae-92cd-af6788476703",
   "metadata": {},
   "outputs": [],
   "source": [
    "import torch\n",
    "import torch.nn as nn\n",
    "import matplotlib.pyplot as plt\n"
   ]
  },
  {
   "cell_type": "code",
   "execution_count": null,
   "id": "962d1ae6-3fde-444c-aaf9-f18b5d29deb7",
   "metadata": {},
   "outputs": [],
   "source": [
    "class RecurrentNet(torch.nn.Module):\n",
    "    def __init__(self, n_layers, seq_size, n_inputs, n_outputs, dropout, netType):\n",
    "        super(LSTMNet, self).__init__()\n",
    "        self.n_layers = n_layers\n",
    "        self.seq_size = seq_size\n",
    "        if netType == 'LSTM':\n",
    "            self.rec = nn.LSTM(n_inputs, seq_size, n_layers, dropout = dropout)\n",
    "        if newType == 'GRU':\n",
    "            self.rec = nn.GRU(n_inputs, seq_size, n_layers, dropout = dropout)\n",
    "        self.relu = nn.ReLU()\n",
    "        self.hidden1 = nn.Linear(seq_size, seq_size)\n",
    "        self.hidden2 = nn.Linear(seq_size, seq_size/2)\n",
    "        self.output = nn.Linear(seq_size/2, n_outputs)\n",
    "       \n",
    "        \n",
    "    def forward(self, x):\n",
    "        out, _ = self.rec(x) \n",
    "        out = self.relu(self.hidden1(out))\n",
    "        out = self.relu(self.hidden2(out))\n",
    "        out = self.output(out) \n",
    "        return out\n",
    "        "
   ]
  }
 ],
 "metadata": {
  "kernelspec": {
   "display_name": "Python 3 (ipykernel)",
   "language": "python",
   "name": "python3"
  },
  "language_info": {
   "codemirror_mode": {
    "name": "ipython",
    "version": 3
   },
   "file_extension": ".py",
   "mimetype": "text/x-python",
   "name": "python",
   "nbconvert_exporter": "python",
   "pygments_lexer": "ipython3",
   "version": "3.10.7"
  }
 },
 "nbformat": 4,
 "nbformat_minor": 5
}
