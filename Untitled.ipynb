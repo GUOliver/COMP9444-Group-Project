{
 "cells": [
  {
   "cell_type": "code",
   "execution_count": 42,
   "id": "841377f9-63d9-48c8-937b-9ab9e54ab65f",
   "metadata": {},
   "outputs": [
    {
     "name": "stdout",
     "output_type": "stream",
     "text": [
      "track_id\n",
      "2         Hip-Hop\n",
      "3         Hip-Hop\n",
      "5         Hip-Hop\n",
      "10            Pop\n",
      "20            NaN\n",
      "           ...   \n",
      "155316       Rock\n",
      "155317       Rock\n",
      "155318       Rock\n",
      "155319       Rock\n",
      "155320        NaN\n",
      "Name: (track, genre_top), Length: 106574, dtype: object\n"
     ]
    }
   ],
   "source": [
    "import csv \n",
    "import torch\n",
    "import torch.utils.data\n",
    "import torch.nn.functional as F\n",
    "import pandas as pd\n",
    "import numpy as np\n",
    "import matplotlib.pyplot as plt\n",
    "import argparse\n",
    "from torch.optim import Adam\n",
    "from torch.autograd import Variable\n",
    "from RecurrentNet import RecurrentNet\n",
    "\n",
    "filepath = \"D:\\\\MLdata\\\\features.csv\"\n",
    "data = pd.read_csv(filepath, index_col=0, header=[0, 1, 2])\n",
    "\n",
    "filepath2 = \"D:\\\\MLdata\\\\tracks.csv\"\n",
    "data2 = pd.read_csv(filepath2, index_col=0, header=[0,1])\n",
    "\n",
    "print(data2.loc[:,( 'track', 'genre_top')])"
   ]
  },
  {
   "cell_type": "code",
   "execution_count": 28,
   "id": "c87d55b8-3874-45a8-9688-ab0b016de01d",
   "metadata": {},
   "outputs": [
    {
     "name": "stdout",
     "output_type": "stream",
     "text": [
      "Index(['chroma_cens', 'chroma_cqt', 'chroma_stft', 'mfcc', 'rmse',\n",
      "       'spectral_bandwidth', 'spectral_centroid', 'spectral_contrast',\n",
      "       'spectral_rolloff', 'tonnetz', 'zcr'],\n",
      "      dtype='object', name='feature')\n",
      "track_id\n",
      "2         0.061448\n",
      "3         0.069330\n",
      "5         0.044861\n",
      "10        0.040800\n",
      "20        0.030993\n",
      "            ...   \n",
      "155316    0.012385\n",
      "155317    0.019059\n",
      "155318    0.017904\n",
      "155319    0.020133\n",
      "155320    0.137205\n",
      "Name: (zcr, std, 01), Length: 106574, dtype: float64\n"
     ]
    }
   ],
   "source": [
    "\n",
    "#print(data)\n",
    "keep_rows = 1\n",
    "df = pd.DataFrame()\n",
    "print(data.columns.levels[0])\n",
    "print(data[data.columns[-1]])\n",
    "\n",
    "#for name in data.columns.levels[0]:\n",
    "#    counter = 0\n",
    "#    print(name)\n",
    "#    while counter < keep_rows:\n",
    "#        print(data.loc[data.columns.levels[0] == data])"
   ]
  },
  {
   "cell_type": "code",
   "execution_count": 41,
   "id": "0b3a5dda-4714-4674-be7b-a96a2d31dc0a",
   "metadata": {},
   "outputs": [
    {
     "name": "stdout",
     "output_type": "stream",
     "text": [
      "track_id\n",
      "2         Hip-Hop\n",
      "3         Hip-Hop\n",
      "5         Hip-Hop\n",
      "10            Pop\n",
      "20            NaN\n",
      "           ...   \n",
      "155316       Rock\n",
      "155317       Rock\n",
      "155318       Rock\n",
      "155319       Rock\n",
      "155320        NaN\n",
      "Name: (track, genre_top), Length: 106574, dtype: object\n"
     ]
    }
   ],
   "source": [
    "#print(data2.columns)\n",
    "print(data2.loc[:,( 'track', 'genre_top')])\n",
    "\n",
    "#Report_Card.loc[:,\"Grades\"]"
   ]
  },
  {
   "cell_type": "code",
   "execution_count": null,
   "id": "f81e5512-f1f6-425d-a33a-fd2797d5dc0f",
   "metadata": {},
   "outputs": [],
   "source": []
  }
 ],
 "metadata": {
  "kernelspec": {
   "display_name": "Python 3 (ipykernel)",
   "language": "python",
   "name": "python3"
  },
  "language_info": {
   "codemirror_mode": {
    "name": "ipython",
    "version": 3
   },
   "file_extension": ".py",
   "mimetype": "text/x-python",
   "name": "python",
   "nbconvert_exporter": "python",
   "pygments_lexer": "ipython3",
   "version": "3.10.7"
  }
 },
 "nbformat": 4,
 "nbformat_minor": 5
}
