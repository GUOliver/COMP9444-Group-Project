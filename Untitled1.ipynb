{
 "cells": [
  {
   "cell_type": "code",
   "execution_count": 2,
   "id": "9603ceaf-de34-4d23-a6ce-c025f30804af",
   "metadata": {},
   "outputs": [
    {
     "name": "stdout",
     "output_type": "stream",
     "text": [
      "{'Jazz', 'Electronic', 'Instrumental', 'Spoken', 'Rock', 'International', 'Blues', 'Classical', 'Old-Time / Historic', 'Hip-Hop', 'Easy Listening', 'Soul-RnB', 'Country', 'Pop', 'Experimental', 'Folk'}\n"
     ]
    }
   ],
   "source": [
    "import csv \n",
    "import torch\n",
    "import torch.utils.data\n",
    "import torch.nn.functional as F\n",
    "import pandas as pd\n",
    "import numpy as np\n",
    "import matplotlib.pyplot as plt\n",
    "import argparse\n",
    "from torch.optim import Adam\n",
    "from torch.autograd import Variable\n",
    "from RecurrentNet import RecurrentNet\n",
    "\n",
    "\n",
    "\n",
    "\n",
    "filepath2 = \"D:\\\\MLdata\\\\tracks.csv\"\n",
    "data2 = pd.read_csv(filepath2, index_col=0, header=[0,1])\n",
    "y_col = data2.loc[:,( 'track', 'genre_top')].replace(to_replace=None, value=None, inplace=False, limit=None, regex=False, method='pad').to_numpy()\n",
    "\n",
    "print(set(y_col))"
   ]
  },
  {
   "cell_type": "code",
   "execution_count": null,
   "id": "4b9c1f0a-6c30-4630-9bac-677bcc165cc9",
   "metadata": {},
   "outputs": [],
   "source": []
  }
 ],
 "metadata": {
  "kernelspec": {
   "display_name": "Python 3 (ipykernel)",
   "language": "python",
   "name": "python3"
  },
  "language_info": {
   "codemirror_mode": {
    "name": "ipython",
    "version": 3
   },
   "file_extension": ".py",
   "mimetype": "text/x-python",
   "name": "python",
   "nbconvert_exporter": "python",
   "pygments_lexer": "ipython3",
   "version": "3.10.7"
  }
 },
 "nbformat": 4,
 "nbformat_minor": 5
}
