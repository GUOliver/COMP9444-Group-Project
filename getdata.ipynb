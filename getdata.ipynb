{
  "cells": [
    {
      "cell_type": "markdown",
      "metadata": {
        "id": "view-in-github",
        "colab_type": "text"
      },
      "source": [
        "<a href=\"https://colab.research.google.com/github/GUOliver/COMP9444-Group-Project/blob/Peter/getdata.ipynb\" target=\"_parent\"><img src=\"https://colab.research.google.com/assets/colab-badge.svg\" alt=\"Open In Colab\"/></a>"
      ]
    },
    {
      "cell_type": "code",
      "execution_count": null,
      "metadata": {
        "colab": {
          "base_uri": "https://localhost:8080/"
        },
        "id": "VMoOVrZGByR6",
        "outputId": "2a6dfb55-1641-4f4e-8b73-c088e5dc7e0d"
      },
      "outputs": [
        {
          "output_type": "stream",
          "name": "stdout",
          "text": [
            "Mounted at /content/drive\n"
          ]
        }
      ],
      "source": [
        "from google.colab import drive\n",
        "drive.mount('/content/drive')"
      ]
    },
    {
      "cell_type": "code",
      "execution_count": null,
      "metadata": {
        "colab": {
          "base_uri": "https://localhost:8080/"
        },
        "id": "AIYqVyoxDXh5",
        "outputId": "4fada15c-e342-4987-b98b-b36face82516"
      },
      "outputs": [
        {
          "output_type": "stream",
          "name": "stdout",
          "text": [
            "/content/drive/MyDrive/COMP9444\n"
          ]
        }
      ],
      "source": [
        "%cd drive/MyDrive/COMP9444"
      ]
    },
    {
      "cell_type": "code",
      "execution_count": null,
      "metadata": {
        "colab": {
          "base_uri": "https://localhost:8080/"
        },
        "id": "uu5vJ6SkDg92",
        "outputId": "7fa1560f-2390-478a-b960-09cbe01ba61a"
      },
      "outputs": [
        {
          "output_type": "stream",
          "name": "stdout",
          "text": [
            "/content/drive/MyDrive/COMP9444\n"
          ]
        }
      ],
      "source": [
        "!pwd"
      ]
    },
    {
      "cell_type": "code",
      "execution_count": null,
      "metadata": {
        "colab": {
          "base_uri": "https://localhost:8080/"
        },
        "id": "colJjT5TFl02",
        "outputId": "35fe4c6c-f6f7-4a73-b8db-21852594a9c9"
      },
      "outputs": [
        {
          "name": "stdout",
          "output_type": "stream",
          "text": [
            "--2022-10-28 14:55:04--  https://os.unil.cloud.switch.ch/fma/fma_small.zip\n",
            "Resolving os.unil.cloud.switch.ch (os.unil.cloud.switch.ch)... 86.119.28.16, 2001:620:5ca1:201::214\n",
            "Connecting to os.unil.cloud.switch.ch (os.unil.cloud.switch.ch)|86.119.28.16|:443... connected.\n",
            "HTTP request sent, awaiting response... 200 OK\n",
            "Length: 7679594875 (7.2G) [application/zip]\n",
            "Saving to: ‘fma_small.zip’\n",
            "\n",
            "fma_small.zip       100%[===================>]   7.15G  17.8MB/s    in 7m 4s   \n",
            "\n",
            "2022-10-28 15:02:09 (17.3 MB/s) - ‘fma_small.zip’ saved [7679594875/7679594875]\n",
            "\n"
          ]
        }
      ],
      "source": [
        "#!wget \"https://os.unil.cloud.switch.ch/fma/fma_small.zip\""
      ]
    },
    {
      "cell_type": "code",
      "execution_count": null,
      "metadata": {
        "colab": {
          "base_uri": "https://localhost:8080/"
        },
        "id": "NkOWpExiFl6u",
        "outputId": "02df0bab-b216-47dc-a50f-7f570c736b31"
      },
      "outputs": [
        {
          "output_type": "stream",
          "name": "stdout",
          "text": [
            "/bin/bash: UNZIP: command not found\n"
          ]
        }
      ],
      "source": [
        "#!UNZIP fma_small.zipn"
      ]
    },
    {
      "cell_type": "code",
      "source": [
        "!pwd\n",
        "!ls"
      ],
      "metadata": {
        "colab": {
          "base_uri": "https://localhost:8080/"
        },
        "id": "lcCNFvyEd6Ex",
        "outputId": "8c551a30-7e33-42ec-d295-0f417c2cf5fe"
      },
      "execution_count": null,
      "outputs": [
        {
          "output_type": "stream",
          "name": "stdout",
          "text": [
            "/content\n",
            "sample_data\n"
          ]
        }
      ]
    },
    {
      "cell_type": "code",
      "source": [
        "%ls fma_small"
      ],
      "metadata": {
        "colab": {
          "base_uri": "https://localhost:8080/"
        },
        "id": "kdHr5-apbtj-",
        "outputId": "b69cf534-871a-454c-9cb3-d89477c5228d"
      },
      "execution_count": null,
      "outputs": [
        {
          "output_type": "stream",
          "name": "stdout",
          "text": [
            "\u001b[0m\u001b[01;34m000\u001b[0m/  \u001b[01;34m014\u001b[0m/  \u001b[01;34m028\u001b[0m/  \u001b[01;34m042\u001b[0m/  \u001b[01;34m056\u001b[0m/  \u001b[01;34m070\u001b[0m/  \u001b[01;34m084\u001b[0m/  \u001b[01;34m098\u001b[0m/  \u001b[01;34m112\u001b[0m/  \u001b[01;34m126\u001b[0m/  \u001b[01;34m140\u001b[0m/  \u001b[01;34m154\u001b[0m/\n",
            "\u001b[01;34m001\u001b[0m/  \u001b[01;34m015\u001b[0m/  \u001b[01;34m029\u001b[0m/  \u001b[01;34m043\u001b[0m/  \u001b[01;34m057\u001b[0m/  \u001b[01;34m071\u001b[0m/  \u001b[01;34m085\u001b[0m/  \u001b[01;34m099\u001b[0m/  \u001b[01;34m113\u001b[0m/  \u001b[01;34m127\u001b[0m/  \u001b[01;34m141\u001b[0m/  \u001b[01;34m155\u001b[0m/\n",
            "\u001b[01;34m002\u001b[0m/  \u001b[01;34m016\u001b[0m/  \u001b[01;34m030\u001b[0m/  \u001b[01;34m044\u001b[0m/  \u001b[01;34m058\u001b[0m/  \u001b[01;34m072\u001b[0m/  \u001b[01;34m086\u001b[0m/  \u001b[01;34m100\u001b[0m/  \u001b[01;34m114\u001b[0m/  \u001b[01;34m128\u001b[0m/  \u001b[01;34m142\u001b[0m/  checksums\n",
            "\u001b[01;34m003\u001b[0m/  \u001b[01;34m017\u001b[0m/  \u001b[01;34m031\u001b[0m/  \u001b[01;34m045\u001b[0m/  \u001b[01;34m059\u001b[0m/  \u001b[01;34m073\u001b[0m/  \u001b[01;34m087\u001b[0m/  \u001b[01;34m101\u001b[0m/  \u001b[01;34m115\u001b[0m/  \u001b[01;34m129\u001b[0m/  \u001b[01;34m143\u001b[0m/  README.txt\n",
            "\u001b[01;34m004\u001b[0m/  \u001b[01;34m018\u001b[0m/  \u001b[01;34m032\u001b[0m/  \u001b[01;34m046\u001b[0m/  \u001b[01;34m060\u001b[0m/  \u001b[01;34m074\u001b[0m/  \u001b[01;34m088\u001b[0m/  \u001b[01;34m102\u001b[0m/  \u001b[01;34m116\u001b[0m/  \u001b[01;34m130\u001b[0m/  \u001b[01;34m144\u001b[0m/\n",
            "\u001b[01;34m005\u001b[0m/  \u001b[01;34m019\u001b[0m/  \u001b[01;34m033\u001b[0m/  \u001b[01;34m047\u001b[0m/  \u001b[01;34m061\u001b[0m/  \u001b[01;34m075\u001b[0m/  \u001b[01;34m089\u001b[0m/  \u001b[01;34m103\u001b[0m/  \u001b[01;34m117\u001b[0m/  \u001b[01;34m131\u001b[0m/  \u001b[01;34m145\u001b[0m/\n",
            "\u001b[01;34m006\u001b[0m/  \u001b[01;34m020\u001b[0m/  \u001b[01;34m034\u001b[0m/  \u001b[01;34m048\u001b[0m/  \u001b[01;34m062\u001b[0m/  \u001b[01;34m076\u001b[0m/  \u001b[01;34m090\u001b[0m/  \u001b[01;34m104\u001b[0m/  \u001b[01;34m118\u001b[0m/  \u001b[01;34m132\u001b[0m/  \u001b[01;34m146\u001b[0m/\n",
            "\u001b[01;34m007\u001b[0m/  \u001b[01;34m021\u001b[0m/  \u001b[01;34m035\u001b[0m/  \u001b[01;34m049\u001b[0m/  \u001b[01;34m063\u001b[0m/  \u001b[01;34m077\u001b[0m/  \u001b[01;34m091\u001b[0m/  \u001b[01;34m105\u001b[0m/  \u001b[01;34m119\u001b[0m/  \u001b[01;34m133\u001b[0m/  \u001b[01;34m147\u001b[0m/\n",
            "\u001b[01;34m008\u001b[0m/  \u001b[01;34m022\u001b[0m/  \u001b[01;34m036\u001b[0m/  \u001b[01;34m050\u001b[0m/  \u001b[01;34m064\u001b[0m/  \u001b[01;34m078\u001b[0m/  \u001b[01;34m092\u001b[0m/  \u001b[01;34m106\u001b[0m/  \u001b[01;34m120\u001b[0m/  \u001b[01;34m134\u001b[0m/  \u001b[01;34m148\u001b[0m/\n",
            "\u001b[01;34m009\u001b[0m/  \u001b[01;34m023\u001b[0m/  \u001b[01;34m037\u001b[0m/  \u001b[01;34m051\u001b[0m/  \u001b[01;34m065\u001b[0m/  \u001b[01;34m079\u001b[0m/  \u001b[01;34m093\u001b[0m/  \u001b[01;34m107\u001b[0m/  \u001b[01;34m121\u001b[0m/  \u001b[01;34m135\u001b[0m/  \u001b[01;34m149\u001b[0m/\n",
            "\u001b[01;34m010\u001b[0m/  \u001b[01;34m024\u001b[0m/  \u001b[01;34m038\u001b[0m/  \u001b[01;34m052\u001b[0m/  \u001b[01;34m066\u001b[0m/  \u001b[01;34m080\u001b[0m/  \u001b[01;34m094\u001b[0m/  \u001b[01;34m108\u001b[0m/  \u001b[01;34m122\u001b[0m/  \u001b[01;34m136\u001b[0m/  \u001b[01;34m150\u001b[0m/\n",
            "\u001b[01;34m011\u001b[0m/  \u001b[01;34m025\u001b[0m/  \u001b[01;34m039\u001b[0m/  \u001b[01;34m053\u001b[0m/  \u001b[01;34m067\u001b[0m/  \u001b[01;34m081\u001b[0m/  \u001b[01;34m095\u001b[0m/  \u001b[01;34m109\u001b[0m/  \u001b[01;34m123\u001b[0m/  \u001b[01;34m137\u001b[0m/  \u001b[01;34m151\u001b[0m/\n",
            "\u001b[01;34m012\u001b[0m/  \u001b[01;34m026\u001b[0m/  \u001b[01;34m040\u001b[0m/  \u001b[01;34m054\u001b[0m/  \u001b[01;34m068\u001b[0m/  \u001b[01;34m082\u001b[0m/  \u001b[01;34m096\u001b[0m/  \u001b[01;34m110\u001b[0m/  \u001b[01;34m124\u001b[0m/  \u001b[01;34m138\u001b[0m/  \u001b[01;34m152\u001b[0m/\n",
            "\u001b[01;34m013\u001b[0m/  \u001b[01;34m027\u001b[0m/  \u001b[01;34m041\u001b[0m/  \u001b[01;34m055\u001b[0m/  \u001b[01;34m069\u001b[0m/  \u001b[01;34m083\u001b[0m/  \u001b[01;34m097\u001b[0m/  \u001b[01;34m111\u001b[0m/  \u001b[01;34m125\u001b[0m/  \u001b[01;34m139\u001b[0m/  \u001b[01;34m153\u001b[0m/\n"
          ]
        }
      ]
    }
  ],
  "metadata": {
    "colab": {
      "provenance": [],
      "collapsed_sections": [],
      "authorship_tag": "ABX9TyNnnLPODUOuPCO9wgilRNsh",
      "include_colab_link": true
    },
    "kernelspec": {
      "display_name": "Python 3",
      "name": "python3"
    },
    "language_info": {
      "name": "python"
    }
  },
  "nbformat": 4,
  "nbformat_minor": 0
}