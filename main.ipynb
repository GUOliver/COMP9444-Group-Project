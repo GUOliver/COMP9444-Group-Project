{
  "cells": [
    {
      "cell_type": "code",
<<<<<<< HEAD
      "execution_count": 315,
=======
      "execution_count": 2,
>>>>>>> evan
      "metadata": {
        "id": "wAnEGxI0kRYI"
      },
      "outputs": [],
      "source": [
        "#------------------------------------------------------------------------------#\n",
        "# Title:        Group Project - Music Genre Classification                     #\n",
        "# Course:       COMP9444 Neural Networks 2022 Term Three                       #\n",
        "# Mentor:       Arun Kumar Marndi                                              #\n",
        "# Session:      Thursday 16:00 - 18:00                                         #\n",
        "#                                                                              #\n",
        "# Team:         NNKing                                                         #\n",
        "# Author/s:     Peter Huang (z5313504)                                         #\n",
        "#               Fiona O’Chee (z5122503)                                        #\n",
        "#               Evan Karl Lam (z5333206)                                       #\n",
        "#               Theo Graftieaux (z5258743)                                     #\n",
        "#               Oliver Guo (z5191682)                                          #\n",
        "#                                                                              #\n",
        "#------------------------------------------------------------------------------#"
      ]
    },
    {
      "cell_type": "markdown",
      "metadata": {
        "id": "S63GD9I9jif5"
      },
      "source": [
        "# Overview"
      ]
    },
    {
      "cell_type": "markdown",
      "metadata": {
        "id": "0eSRrW8JoVFI"
      },
      "source": [
        "### Usage Guide"
      ]
    },
    {
      "cell_type": "markdown",
      "metadata": {
        "id": "IsUY3WDLmfAD"
      },
      "source": [
        "No execution required; all results are already displayed for convenience. \n",
        "\n",
        "\n",
        "\n"
      ]
    },
    {
      "cell_type": "markdown",
      "metadata": {
        "id": "Uqfc8mO3jtZB"
      },
      "source": [
        "# Setup"
      ]
    },
    {
      "cell_type": "code",
<<<<<<< HEAD
      "execution_count": 316,
=======
      "execution_count": 3,
>>>>>>> evan
      "metadata": {
        "colab": {
          "base_uri": "https://localhost:8080/"
        },
        "id": "GkyU2zioDiSl",
<<<<<<< HEAD
        "outputId": "ae7b5d7a-0557-4f91-e082-ad6eb332b560"
=======
        "outputId": "922f04b7-9c4b-4391-e028-86114a5eb4c8"
>>>>>>> evan
      },
      "outputs": [
        {
          "output_type": "stream",
          "name": "stdout",
          "text": [
            "Drive already mounted at /content/drive; to attempt to forcibly remount, call drive.mount(\"/content/drive\", force_remount=True).\n",
            "[Errno 2] No such file or directory: 'drive/MyDrive/COMP9444/COMP9444-Group-Project'\n",
            "/content/drive/.shortcut-targets-by-id/1f2FfExUGYN2E54Q1zrEAFNotNfq9wlni/COMP9444/COMP9444-Group-Project\n"
          ]
        }
      ],
      "source": [
        "from google.colab import drive\n",
        "drive.mount('/content/drive')\n",
        "%cd drive/MyDrive/COMP9444/COMP9444-Group-Project"
      ]
    },
    {
      "cell_type": "code",
<<<<<<< HEAD
      "execution_count": 317,
=======
      "execution_count": 4,
>>>>>>> evan
      "metadata": {
        "colab": {
          "base_uri": "https://localhost:8080/"
        },
        "id": "vZ0UT0FawB1i",
<<<<<<< HEAD
        "outputId": "6370358f-3e37-4c3c-a876-5e18843e8673"
=======
        "outputId": "42aba81f-075f-4630-e585-d3bf4b361da4"
>>>>>>> evan
      },
      "outputs": [
        {
          "output_type": "stream",
          "name": "stdout",
          "text": [
            "input  main.ipynb  output\n"
          ]
        }
      ],
      "source": [
        "!ls # Confirm in project root directory"
      ]
    },
    {
      "cell_type": "code",
<<<<<<< HEAD
      "execution_count": 318,
=======
      "execution_count": 5,
>>>>>>> evan
      "metadata": {
        "id": "HUN3NJCBDl3m"
      },
      "outputs": [],
      "source": [
        "import time\n",
        "import os\n",
        "import warnings\n",
        "import IPython.display as ipd\n",
        "import tqdm.notebook\n",
        "import ast\n",
        "import numpy as np\n",
        "import pandas as pd\n",
        "import librosa\n",
        "import librosa.display\n",
        "import matplotlib.pyplot as plt\n",
        "import pandas as pd\n",
        "from pandas.plotting import scatter_matrix\n",
        "import glob\n",
        "import h5py\n",
        "import keras\n",
        "from keras.layers import Activation, Dense, Conv1D, Conv2D, MaxPooling1D, Flatten, Reshape\n",
        "import sklearn as skl\n",
        "from sklearn.utils import shuffle\n",
        "from sklearn.preprocessing import MultiLabelBinarizer, LabelEncoder, LabelBinarizer, StandardScaler\n",
        "from sklearn.linear_model import LogisticRegression\n",
        "from sklearn.neighbors import KNeighborsClassifier\n",
        "from sklearn.svm import SVC, LinearSVC\n",
        "from sklearn.tree import DecisionTreeClassifier\n",
        "from sklearn.ensemble import RandomForestClassifier, AdaBoostClassifier\n",
        "from sklearn.neural_network import MLPClassifier\n",
        "from sklearn.naive_bayes import GaussianNB\n",
        "from sklearn.discriminant_analysis import QuadraticDiscriminantAnalysis\n",
        "from sklearn.multiclass import OneVsRestClassifier\n",
        "from sklearn.metrics import f1_score"
      ]
    },
    {
      "cell_type": "code",
<<<<<<< HEAD
      "execution_count": 319,
=======
      "execution_count": 6,
>>>>>>> evan
      "metadata": {
        "id": "kxOlN-QA1aPJ"
      },
      "outputs": [],
      "source": [
        "%matplotlib inline"
      ]
    },
    {
      "cell_type": "code",
<<<<<<< HEAD
      "execution_count": 320,
=======
      "execution_count": 7,
>>>>>>> evan
      "metadata": {
        "id": "b90WPPjRX_Ha"
      },
      "outputs": [],
      "source": [
        "INPUT_DIR = 'input'"
      ]
    },
    {
      "cell_type": "code",
<<<<<<< HEAD
      "execution_count": 321,
=======
      "execution_count": 8,
>>>>>>> evan
      "metadata": {
        "id": "Cgi9BJ6BrVwF"
      },
      "outputs": [],
      "source": [
        "# Helper function. Conveniently load raw data into dataframes.\n",
        "# (adapted from source: https://github.com/mdeff/fma)\n",
        "def load(filepath):\n",
        "    filename = os.path.basename(filepath)\n",
        "\n",
        "    if 'features' in filename:\n",
        "        # Use rows 0, 1 and 2 to comprise feature headings\n",
        "        return pd.read_csv(filepath, index_col=0, header=[0, 1, 2])\n",
        "\n",
        "    if 'echonest' in filename:\n",
        "        return pd.read_csv(filepath, index_col=0, header=[0, 1, 2])\n",
        "\n",
        "    if 'tracks' in filename:\n",
        "        tracks = pd.read_csv(filepath, index_col=0, header=[0, 1])\n",
        "\n",
        "        columns = [('track', 'tags'), ('album', 'tags'), ('artist', 'tags'),\n",
        "                   ('track', 'genres'), ('track', 'genres_all')]\n",
        "        for c in columns:\n",
        "            tracks[c] = tracks[c].map(ast.literal_eval)\n",
        "\n",
        "        columns = [('track', 'date_created'), ('track', 'date_recorded'),\n",
        "                   ('album', 'date_created'), ('album', 'date_released'),\n",
        "                   ('artist', 'date_created'), ('artist', 'active_year_begin'),\n",
        "                   ('artist', 'active_year_end')]\n",
        "        for c in columns:\n",
        "            tracks[c] = pd.to_datetime(tracks[c])\n",
        "\n",
        "        subsets = ('small', 'medium', 'large')\n",
        "        try:\n",
        "            tracks['set', 'subset'] = tracks['set', 'subset'].astype(\n",
        "                    'category', categories=subsets, ordered=True)\n",
        "        except (ValueError, TypeError):\n",
        "            tracks['set', 'subset'] = tracks['set', 'subset'].astype(\n",
        "                     pd.CategoricalDtype(categories=subsets, ordered=True))\n",
        "\n",
        "        columns = [('track', 'genre_top'), ('track', 'license'),\n",
        "                   ('album', 'type'), ('album', 'information'),\n",
        "                   ('artist', 'bio')]\n",
        "        for c in columns:\n",
        "            tracks[c] = tracks[c].astype('category')\n",
        "\n",
        "        return tracks"
      ]
    },
    {
      "cell_type": "code",
<<<<<<< HEAD
      "execution_count": 322,
=======
      "execution_count": 9,
>>>>>>> evan
      "metadata": {
        "id": "a2L_M1gKqjeA"
      },
      "outputs": [],
      "source": [
        "# Load data from 3 FMA files which comprise the raw dataset.\n",
        "df_tracks = load(f'{INPUT_DIR}/fma_metadata/tracks.csv')\n",
        "df_features = load(f'{INPUT_DIR}/fma_metadata/features.csv')\n",
        "# df_echonest = load(f'{INPUT_DIR}/fma_metadata/echonest.csv')\n",
        "\n",
        "# Check matching dimensions\n",
        "# np.testing.assert_array_equal(df_features.index, df_tracks.index) \n",
        "# assert df_echonest.index.isin(df_tracks.index).all()"
      ]
    },
    {
      "cell_type": "code",
      "source": [
        "# Filters for selecting specific row instances \n",
        "filter_small = df_tracks.index[df_tracks['set', 'subset'] <= 'small']\n",
        "filter_train = df_tracks[('set', 'split')] == 'training'\n",
        "filter_val = df_tracks[('set', 'split')] == 'validation'\n",
        "filter_test = df_tracks[('set', 'split')] == 'test'"
      ],
      "metadata": {
        "id": "9j_kLAFk9ibo"
      },
<<<<<<< HEAD
      "execution_count": 323,
=======
      "execution_count": 10,
>>>>>>> evan
      "outputs": []
    },
    {
      "cell_type": "code",
<<<<<<< HEAD
      "execution_count": 324,
=======
      "execution_count": 11,
>>>>>>> evan
      "metadata": {
        "id": "0dZv1tpr12he"
      },
      "outputs": [],
      "source": [
        "# Create track dataframe containing only the necessary track.csv columns \n",
        "# df_tracks = df_tracks[[\n",
        "#     ('set', 'split'), \n",
        "#     ('set', 'subset'),\n",
        "#     ('track', 'genre_top'),\n",
        "# ]]"
      ]
    },
    {
      "cell_type": "code",
      "source": [
        "# Filter for fma_small specific music tracks only\n",
        "df_tracks = df_tracks.loc[filter_small]\n",
        "df_features = df_features.loc[filter_small]"
      ],
      "metadata": {
        "id": "e5wLzI7I9gFB"
      },
<<<<<<< HEAD
      "execution_count": 325,
=======
      "execution_count": 12,
>>>>>>> evan
      "outputs": []
    },
    {
      "cell_type": "code",
      "source": [
        "# Merge echonest features\n",
        "# df_features = df_features.join(df_echonest, how='inner').sort_index(axis=1)"
      ],
      "metadata": {
        "id": "PlJPnLxSAett"
      },
<<<<<<< HEAD
      "execution_count": 326,
=======
      "execution_count": 13,
>>>>>>> evan
      "outputs": []
    },
    {
      "cell_type": "code",
<<<<<<< HEAD
      "execution_count": 327,
=======
      "execution_count": 14,
>>>>>>> evan
      "metadata": {
        "colab": {
          "base_uri": "https://localhost:8080/"
        },
        "id": "TAujdtklX_Hb",
<<<<<<< HEAD
        "outputId": "5f45136c-10c2-42dd-d4d3-a8afcca40886"
=======
        "outputId": "89935f79-144c-4b45-abc2-473c4d785f9e"
>>>>>>> evan
      },
      "outputs": [
        {
          "output_type": "stream",
          "name": "stderr",
          "text": [
            "/usr/local/lib/python3.7/dist-packages/ipykernel_launcher.py:8: UserWarning: Boolean Series key will be reindexed to match DataFrame index.\n",
            "  \n",
            "/usr/local/lib/python3.7/dist-packages/ipykernel_launcher.py:9: UserWarning: Boolean Series key will be reindexed to match DataFrame index.\n",
            "  if __name__ == '__main__':\n",
            "/usr/local/lib/python3.7/dist-packages/ipykernel_launcher.py:10: UserWarning: Boolean Series key will be reindexed to match DataFrame index.\n",
            "  # Remove the CWD from sys.path while we load stuff.\n"
          ]
        }
      ],
      "source": [
        "# Split datasets into training, validation, testing sets.\n",
        "\n",
        "# Note: While this is a preprocessing stage step it is \n",
        "# intentionally done early here (before exploratory data analysis) to guard \n",
        "# against Data Snooping Bias. By hiding validation and test data and only exploring \n",
        "# training data, we avoid stumbling upon interesting test set patterns which could \n",
        "# bias towards optimistic generalization error estimates.\n",
        "df_tracks_train = df_tracks[filter_train]\n",
        "df_tracks_validation = df_tracks[filter_val]\n",
        "df_tracks_test = df_tracks[filter_test]\n",
        "df_features_train = df_features.loc[filter_train]\n",
        "df_features_val = df_features.loc[filter_val]\n",
        "df_features_test = df_features.loc[filter_test]"
      ]
    },
    {
      "cell_type": "code",
      "source": [
        "df_tracks.info()"
      ],
      "metadata": {
        "id": "sDUTt3Jw7nYb",
<<<<<<< HEAD
        "outputId": "04762b62-2035-4276-d2ac-b993442c90b9",
=======
        "outputId": "843b812d-5919-477b-855a-fac4379760cb",
>>>>>>> evan
        "colab": {
          "base_uri": "https://localhost:8080/"
        }
      },
<<<<<<< HEAD
      "execution_count": 328,
=======
      "execution_count": 15,
>>>>>>> evan
      "outputs": [
        {
          "output_type": "stream",
          "name": "stdout",
          "text": [
            "<class 'pandas.core.frame.DataFrame'>\n",
            "Int64Index: 8000 entries, 2 to 155066\n",
            "Data columns (total 52 columns):\n",
            " #   Column                       Non-Null Count  Dtype         \n",
            "---  ------                       --------------  -----         \n",
            " 0   (album, comments)            8000 non-null   int64         \n",
            " 1   (album, date_created)        8000 non-null   datetime64[ns]\n",
            " 2   (album, date_released)       5337 non-null   datetime64[ns]\n",
            " 3   (album, engineer)            1142 non-null   object        \n",
            " 4   (album, favorites)           8000 non-null   int64         \n",
            " 5   (album, id)                  8000 non-null   int64         \n",
            " 6   (album, information)         6502 non-null   category      \n",
            " 7   (album, listens)             8000 non-null   int64         \n",
            " 8   (album, producer)            1404 non-null   object        \n",
            " 9   (album, tags)                8000 non-null   object        \n",
            " 10  (album, title)               8000 non-null   object        \n",
            " 11  (album, tracks)              8000 non-null   int64         \n",
            " 12  (album, type)                7769 non-null   category      \n",
            " 13  (artist, active_year_begin)  1542 non-null   datetime64[ns]\n",
            " 14  (artist, active_year_end)    358 non-null    datetime64[ns]\n",
            " 15  (artist, associated_labels)  849 non-null    object        \n",
            " 16  (artist, bio)                5914 non-null   category      \n",
            " 17  (artist, comments)           8000 non-null   int64         \n",
            " 18  (artist, date_created)       8000 non-null   datetime64[ns]\n",
            " 19  (artist, favorites)          8000 non-null   int64         \n",
            " 20  (artist, id)                 8000 non-null   int64         \n",
            " 21  (artist, latitude)           2899 non-null   float64       \n",
            " 22  (artist, location)           5471 non-null   object        \n",
            " 23  (artist, longitude)          2899 non-null   float64       \n",
            " 24  (artist, members)            3525 non-null   object        \n",
            " 25  (artist, name)               8000 non-null   object        \n",
            " 26  (artist, related_projects)   694 non-null    object        \n",
            " 27  (artist, tags)               8000 non-null   object        \n",
            " 28  (artist, website)            6452 non-null   object        \n",
            " 29  (artist, wikipedia_page)     410 non-null    object        \n",
            " 30  (set, split)                 8000 non-null   object        \n",
            " 31  (set, subset)                8000 non-null   category      \n",
            " 32  (track, bit_rate)            8000 non-null   int64         \n",
            " 33  (track, comments)            8000 non-null   int64         \n",
            " 34  (track, composer)            180 non-null    object        \n",
            " 35  (track, date_created)        8000 non-null   datetime64[ns]\n",
            " 36  (track, date_recorded)       465 non-null    datetime64[ns]\n",
            " 37  (track, duration)            8000 non-null   int64         \n",
            " 38  (track, favorites)           8000 non-null   int64         \n",
            " 39  (track, genre_top)           8000 non-null   category      \n",
            " 40  (track, genres)              8000 non-null   object        \n",
            " 41  (track, genres_all)          8000 non-null   object        \n",
            " 42  (track, information)         159 non-null    object        \n",
            " 43  (track, interest)            8000 non-null   int64         \n",
            " 44  (track, language_code)       1005 non-null   object        \n",
            " 45  (track, license)             7995 non-null   category      \n",
            " 46  (track, listens)             8000 non-null   int64         \n",
            " 47  (track, lyricist)            26 non-null     object        \n",
            " 48  (track, number)              8000 non-null   int64         \n",
            " 49  (track, publisher)           76 non-null     object        \n",
            " 50  (track, tags)                8000 non-null   object        \n",
            " 51  (track, title)               8000 non-null   object        \n",
            "dtypes: category(6), datetime64[ns](7), float64(2), int64(15), object(22)\n",
            "memory usage: 3.4+ MB\n"
          ]
        }
      ]
    },
    {
      "cell_type": "markdown",
      "metadata": {
        "id": "_ai-eYXoj9O7"
      },
      "source": [
        "# Exploratory Data Analysis\n",
        "\n",
        "The raw dataset is provided by FMA and is composed from 3 separate files:\n",
        "\n",
        "* tracks.csv\n",
        "* features.csv\n",
        "* echonest.csv\n",
        "\n",
        "Source: fma_metadata.zip from https://github.com/mdeff/fma"
      ]
    },
    {
      "cell_type": "markdown",
      "metadata": {
        "id": "luDkDeQ9mqm_"
      },
      "source": [
        "### General\n",
        "\n",
        "This sub-section aims to gain a general understanding of the raw data."
      ]
    },
    {
      "cell_type": "markdown",
      "metadata": {
        "id": "SgtysBxyhBsV"
      },
      "source": [
        "##### Tracks Dataset"
      ]
    },
    {
      "cell_type": "code",
<<<<<<< HEAD
      "source": [
        "# Keep training set pristine; make copy solely for data exploration\n",
        "df_tracks_exploration = df_tracks_train.copy()"
      ],
      "metadata": {
        "id": "g7BY0E0iubYm"
      },
      "execution_count": 329,
      "outputs": []
    },
    {
      "cell_type": "code",
      "execution_count": 330,
      "metadata": {
        "colab": {
          "base_uri": "https://localhost:8080/"
        },
        "id": "f7uiSb12VhYG",
        "outputId": "0bea6986-6db1-4661-cf5c-a59723b26f43"
      },
      "outputs": [
        {
          "output_type": "stream",
          "name": "stdout",
          "text": [
            "<class 'pandas.core.frame.DataFrame'>\n",
            "Int64Index: 6400 entries, 2 to 155066\n",
            "Data columns (total 52 columns):\n",
            " #   Column                       Non-Null Count  Dtype         \n",
            "---  ------                       --------------  -----         \n",
            " 0   (album, comments)            6400 non-null   int64         \n",
            " 1   (album, date_created)        6400 non-null   datetime64[ns]\n",
            " 2   (album, date_released)       4161 non-null   datetime64[ns]\n",
            " 3   (album, engineer)            955 non-null    object        \n",
            " 4   (album, favorites)           6400 non-null   int64         \n",
            " 5   (album, id)                  6400 non-null   int64         \n",
            " 6   (album, information)         5231 non-null   category      \n",
            " 7   (album, listens)             6400 non-null   int64         \n",
            " 8   (album, producer)            1159 non-null   object        \n",
            " 9   (album, tags)                6400 non-null   object        \n",
            " 10  (album, title)               6400 non-null   object        \n",
            " 11  (album, tracks)              6400 non-null   int64         \n",
            " 12  (album, type)                6240 non-null   category      \n",
            " 13  (artist, active_year_begin)  1163 non-null   datetime64[ns]\n",
            " 14  (artist, active_year_end)    270 non-null    datetime64[ns]\n",
            " 15  (artist, associated_labels)  670 non-null    object        \n",
            " 16  (artist, bio)                4754 non-null   category      \n",
            " 17  (artist, comments)           6400 non-null   int64         \n",
            " 18  (artist, date_created)       6400 non-null   datetime64[ns]\n",
            " 19  (artist, favorites)          6400 non-null   int64         \n",
            " 20  (artist, id)                 6400 non-null   int64         \n",
            " 21  (artist, latitude)           2315 non-null   float64       \n",
            " 22  (artist, location)           4369 non-null   object        \n",
            " 23  (artist, longitude)          2315 non-null   float64       \n",
            " 24  (artist, members)            2676 non-null   object        \n",
            " 25  (artist, name)               6400 non-null   object        \n",
            " 26  (artist, related_projects)   585 non-null    object        \n",
            " 27  (artist, tags)               6400 non-null   object        \n",
            " 28  (artist, website)            5166 non-null   object        \n",
            " 29  (artist, wikipedia_page)     314 non-null    object        \n",
            " 30  (set, split)                 6400 non-null   object        \n",
            " 31  (set, subset)                6400 non-null   category      \n",
            " 32  (track, bit_rate)            6400 non-null   int64         \n",
            " 33  (track, comments)            6400 non-null   int64         \n",
            " 34  (track, composer)            153 non-null    object        \n",
            " 35  (track, date_created)        6400 non-null   datetime64[ns]\n",
            " 36  (track, date_recorded)       383 non-null    datetime64[ns]\n",
            " 37  (track, duration)            6400 non-null   int64         \n",
            " 38  (track, favorites)           6400 non-null   int64         \n",
            " 39  (track, genre_top)           6400 non-null   category      \n",
            " 40  (track, genres)              6400 non-null   object        \n",
            " 41  (track, genres_all)          6400 non-null   object        \n",
            " 42  (track, information)         150 non-null    object        \n",
            " 43  (track, interest)            6400 non-null   int64         \n",
            " 44  (track, language_code)       759 non-null    object        \n",
            " 45  (track, license)             6395 non-null   category      \n",
            " 46  (track, listens)             6400 non-null   int64         \n",
            " 47  (track, lyricist)            19 non-null     object        \n",
            " 48  (track, number)              6400 non-null   int64         \n",
            " 49  (track, publisher)           65 non-null     object        \n",
            " 50  (track, tags)                6400 non-null   object        \n",
            " 51  (track, title)               6400 non-null   object        \n",
            "dtypes: category(6), datetime64[ns](7), float64(2), int64(15), object(22)\n",
            "memory usage: 2.9+ MB\n"
          ]
        }
      ],
      "source": [
        "# Shows that FMA features in tracks.csv are organised (via MultiIndex) in a top \n",
        "# and sub property hierarchy, arranged as tuples\n",
        "# e.g album has \"sub-features\" comments, date_created, ..., tags, etc\n",
        "df_tracks_exploration.info()"
      ]
    },
    {
      "cell_type": "code",
      "execution_count": 331,
      "metadata": {
        "colab": {
          "base_uri": "https://localhost:8080/",
          "height": 396
        },
        "id": "-SVnl8l2Xl97",
        "outputId": "6df00f9d-846c-4014-935c-61a604bfb3d6"
      },
      "outputs": [
        {
          "output_type": "execute_result",
          "data": {
            "text/plain": [
              "             album                                                         \\\n",
              "          comments    favorites            id        listens       tracks   \n",
              "count  6400.000000  6400.000000   6400.000000    6400.000000  6400.000000   \n",
              "mean      0.528594     1.869219  13618.313125   38797.147344    11.173125   \n",
              "std       1.388609     3.350438   5966.399303   64825.872121     8.105938   \n",
              "min       0.000000     0.000000      1.000000    1008.000000     1.000000   \n",
              "25%       0.000000     0.000000   9328.000000    8054.000000     6.000000   \n",
              "50%       0.000000     1.000000  15015.000000   16931.000000     9.000000   \n",
              "75%       0.000000     2.000000  18530.000000   39066.500000    14.000000   \n",
              "max      12.000000    29.000000  22899.000000  595875.000000    47.000000   \n",
              "\n",
              "            artist                                                       \\\n",
              "          comments    favorites            id     latitude    longitude   \n",
              "count  6400.000000  6400.000000   6400.000000  2315.000000  2315.000000   \n",
              "mean      2.576719    41.830312  13170.533438    39.005367   -41.263094   \n",
              "std       6.406288   110.817564   6906.783168    19.092404    67.658223   \n",
              "min       0.000000     0.000000      1.000000   -41.286460  -157.526855   \n",
              "25%       0.000000     2.000000   7444.000000    38.890370   -80.160084   \n",
              "50%       0.000000     7.000000  14070.500000    40.852505   -73.950000   \n",
              "75%       2.000000    23.000000  19461.000000    48.172699    -0.127683   \n",
              "max      55.000000   861.000000  24252.000000    65.201935   174.885971   \n",
              "\n",
              "               track                                                       \\\n",
              "            bit_rate     comments     duration    favorites      interest   \n",
              "count    6400.000000  6400.000000  6400.000000  6400.000000  6.400000e+03   \n",
              "mean   266134.936094     0.067812   227.745000     6.363125  6.918060e+03   \n",
              "std     60848.431950     0.527205    97.606551    17.999002  3.097571e+04   \n",
              "min    105237.000000     0.000000    60.000000     0.000000  4.630000e+02   \n",
              "25%    216918.250000     0.000000   161.000000     1.000000  1.855750e+03   \n",
              "50%    266278.000000     0.000000   214.000000     3.000000  3.510000e+03   \n",
              "75%    320000.000000     0.000000   276.250000     7.000000  6.856250e+03   \n",
              "max    322541.000000    24.000000   600.000000   765.000000  1.991344e+06   \n",
              "\n",
              "                                   \n",
              "             listens       number  \n",
              "count    6400.000000  6400.000000  \n",
              "mean     4694.797969     5.433438  \n",
              "std     11313.836217     5.957022  \n",
              "min       196.000000     0.000000  \n",
              "25%      1267.000000     2.000000  \n",
              "50%      2505.000000     4.000000  \n",
              "75%      4916.250000     8.000000  \n",
              "max    433992.000000   128.000000  "
            ],
            "text/html": [
              "\n",
              "  <div id=\"df-d2e860e6-67fc-4f97-80a8-20113806e164\">\n",
              "    <div class=\"colab-df-container\">\n",
              "      <div>\n",
              "<style scoped>\n",
              "    .dataframe tbody tr th:only-of-type {\n",
              "        vertical-align: middle;\n",
              "    }\n",
              "\n",
              "    .dataframe tbody tr th {\n",
              "        vertical-align: top;\n",
              "    }\n",
              "\n",
              "    .dataframe thead tr th {\n",
              "        text-align: left;\n",
              "    }\n",
              "</style>\n",
              "<table border=\"1\" class=\"dataframe\">\n",
              "  <thead>\n",
              "    <tr>\n",
              "      <th></th>\n",
              "      <th colspan=\"5\" halign=\"left\">album</th>\n",
              "      <th colspan=\"5\" halign=\"left\">artist</th>\n",
              "      <th colspan=\"7\" halign=\"left\">track</th>\n",
              "    </tr>\n",
              "    <tr>\n",
              "      <th></th>\n",
              "      <th>comments</th>\n",
              "      <th>favorites</th>\n",
              "      <th>id</th>\n",
              "      <th>listens</th>\n",
              "      <th>tracks</th>\n",
              "      <th>comments</th>\n",
              "      <th>favorites</th>\n",
              "      <th>id</th>\n",
              "      <th>latitude</th>\n",
              "      <th>longitude</th>\n",
              "      <th>bit_rate</th>\n",
              "      <th>comments</th>\n",
              "      <th>duration</th>\n",
              "      <th>favorites</th>\n",
              "      <th>interest</th>\n",
              "      <th>listens</th>\n",
              "      <th>number</th>\n",
              "    </tr>\n",
              "  </thead>\n",
              "  <tbody>\n",
              "    <tr>\n",
              "      <th>count</th>\n",
              "      <td>6400.000000</td>\n",
              "      <td>6400.000000</td>\n",
              "      <td>6400.000000</td>\n",
              "      <td>6400.000000</td>\n",
              "      <td>6400.000000</td>\n",
              "      <td>6400.000000</td>\n",
              "      <td>6400.000000</td>\n",
              "      <td>6400.000000</td>\n",
              "      <td>2315.000000</td>\n",
              "      <td>2315.000000</td>\n",
              "      <td>6400.000000</td>\n",
              "      <td>6400.000000</td>\n",
              "      <td>6400.000000</td>\n",
              "      <td>6400.000000</td>\n",
              "      <td>6.400000e+03</td>\n",
              "      <td>6400.000000</td>\n",
              "      <td>6400.000000</td>\n",
              "    </tr>\n",
              "    <tr>\n",
              "      <th>mean</th>\n",
              "      <td>0.528594</td>\n",
              "      <td>1.869219</td>\n",
              "      <td>13618.313125</td>\n",
              "      <td>38797.147344</td>\n",
              "      <td>11.173125</td>\n",
              "      <td>2.576719</td>\n",
              "      <td>41.830312</td>\n",
              "      <td>13170.533438</td>\n",
              "      <td>39.005367</td>\n",
              "      <td>-41.263094</td>\n",
              "      <td>266134.936094</td>\n",
              "      <td>0.067812</td>\n",
              "      <td>227.745000</td>\n",
              "      <td>6.363125</td>\n",
              "      <td>6.918060e+03</td>\n",
              "      <td>4694.797969</td>\n",
              "      <td>5.433438</td>\n",
              "    </tr>\n",
              "    <tr>\n",
              "      <th>std</th>\n",
              "      <td>1.388609</td>\n",
              "      <td>3.350438</td>\n",
              "      <td>5966.399303</td>\n",
              "      <td>64825.872121</td>\n",
              "      <td>8.105938</td>\n",
              "      <td>6.406288</td>\n",
              "      <td>110.817564</td>\n",
              "      <td>6906.783168</td>\n",
              "      <td>19.092404</td>\n",
              "      <td>67.658223</td>\n",
              "      <td>60848.431950</td>\n",
              "      <td>0.527205</td>\n",
              "      <td>97.606551</td>\n",
              "      <td>17.999002</td>\n",
              "      <td>3.097571e+04</td>\n",
              "      <td>11313.836217</td>\n",
              "      <td>5.957022</td>\n",
              "    </tr>\n",
              "    <tr>\n",
              "      <th>min</th>\n",
              "      <td>0.000000</td>\n",
              "      <td>0.000000</td>\n",
              "      <td>1.000000</td>\n",
              "      <td>1008.000000</td>\n",
              "      <td>1.000000</td>\n",
              "      <td>0.000000</td>\n",
              "      <td>0.000000</td>\n",
              "      <td>1.000000</td>\n",
              "      <td>-41.286460</td>\n",
              "      <td>-157.526855</td>\n",
              "      <td>105237.000000</td>\n",
              "      <td>0.000000</td>\n",
              "      <td>60.000000</td>\n",
              "      <td>0.000000</td>\n",
              "      <td>4.630000e+02</td>\n",
              "      <td>196.000000</td>\n",
              "      <td>0.000000</td>\n",
              "    </tr>\n",
              "    <tr>\n",
              "      <th>25%</th>\n",
              "      <td>0.000000</td>\n",
              "      <td>0.000000</td>\n",
              "      <td>9328.000000</td>\n",
              "      <td>8054.000000</td>\n",
              "      <td>6.000000</td>\n",
              "      <td>0.000000</td>\n",
              "      <td>2.000000</td>\n",
              "      <td>7444.000000</td>\n",
              "      <td>38.890370</td>\n",
              "      <td>-80.160084</td>\n",
              "      <td>216918.250000</td>\n",
              "      <td>0.000000</td>\n",
              "      <td>161.000000</td>\n",
              "      <td>1.000000</td>\n",
              "      <td>1.855750e+03</td>\n",
              "      <td>1267.000000</td>\n",
              "      <td>2.000000</td>\n",
              "    </tr>\n",
              "    <tr>\n",
              "      <th>50%</th>\n",
              "      <td>0.000000</td>\n",
              "      <td>1.000000</td>\n",
              "      <td>15015.000000</td>\n",
              "      <td>16931.000000</td>\n",
              "      <td>9.000000</td>\n",
              "      <td>0.000000</td>\n",
              "      <td>7.000000</td>\n",
              "      <td>14070.500000</td>\n",
              "      <td>40.852505</td>\n",
              "      <td>-73.950000</td>\n",
              "      <td>266278.000000</td>\n",
              "      <td>0.000000</td>\n",
              "      <td>214.000000</td>\n",
              "      <td>3.000000</td>\n",
              "      <td>3.510000e+03</td>\n",
              "      <td>2505.000000</td>\n",
              "      <td>4.000000</td>\n",
              "    </tr>\n",
              "    <tr>\n",
              "      <th>75%</th>\n",
              "      <td>0.000000</td>\n",
              "      <td>2.000000</td>\n",
              "      <td>18530.000000</td>\n",
              "      <td>39066.500000</td>\n",
              "      <td>14.000000</td>\n",
              "      <td>2.000000</td>\n",
              "      <td>23.000000</td>\n",
              "      <td>19461.000000</td>\n",
              "      <td>48.172699</td>\n",
              "      <td>-0.127683</td>\n",
              "      <td>320000.000000</td>\n",
              "      <td>0.000000</td>\n",
              "      <td>276.250000</td>\n",
              "      <td>7.000000</td>\n",
              "      <td>6.856250e+03</td>\n",
              "      <td>4916.250000</td>\n",
              "      <td>8.000000</td>\n",
              "    </tr>\n",
              "    <tr>\n",
              "      <th>max</th>\n",
              "      <td>12.000000</td>\n",
              "      <td>29.000000</td>\n",
              "      <td>22899.000000</td>\n",
              "      <td>595875.000000</td>\n",
              "      <td>47.000000</td>\n",
              "      <td>55.000000</td>\n",
              "      <td>861.000000</td>\n",
              "      <td>24252.000000</td>\n",
              "      <td>65.201935</td>\n",
              "      <td>174.885971</td>\n",
              "      <td>322541.000000</td>\n",
              "      <td>24.000000</td>\n",
              "      <td>600.000000</td>\n",
              "      <td>765.000000</td>\n",
              "      <td>1.991344e+06</td>\n",
              "      <td>433992.000000</td>\n",
              "      <td>128.000000</td>\n",
              "    </tr>\n",
              "  </tbody>\n",
              "</table>\n",
              "</div>\n",
              "      <button class=\"colab-df-convert\" onclick=\"convertToInteractive('df-d2e860e6-67fc-4f97-80a8-20113806e164')\"\n",
              "              title=\"Convert this dataframe to an interactive table.\"\n",
              "              style=\"display:none;\">\n",
              "        \n",
              "  <svg xmlns=\"http://www.w3.org/2000/svg\" height=\"24px\"viewBox=\"0 0 24 24\"\n",
              "       width=\"24px\">\n",
              "    <path d=\"M0 0h24v24H0V0z\" fill=\"none\"/>\n",
              "    <path d=\"M18.56 5.44l.94 2.06.94-2.06 2.06-.94-2.06-.94-.94-2.06-.94 2.06-2.06.94zm-11 1L8.5 8.5l.94-2.06 2.06-.94-2.06-.94L8.5 2.5l-.94 2.06-2.06.94zm10 10l.94 2.06.94-2.06 2.06-.94-2.06-.94-.94-2.06-.94 2.06-2.06.94z\"/><path d=\"M17.41 7.96l-1.37-1.37c-.4-.4-.92-.59-1.43-.59-.52 0-1.04.2-1.43.59L10.3 9.45l-7.72 7.72c-.78.78-.78 2.05 0 2.83L4 21.41c.39.39.9.59 1.41.59.51 0 1.02-.2 1.41-.59l7.78-7.78 2.81-2.81c.8-.78.8-2.07 0-2.86zM5.41 20L4 18.59l7.72-7.72 1.47 1.35L5.41 20z\"/>\n",
              "  </svg>\n",
              "      </button>\n",
              "      \n",
              "  <style>\n",
              "    .colab-df-container {\n",
              "      display:flex;\n",
              "      flex-wrap:wrap;\n",
              "      gap: 12px;\n",
              "    }\n",
              "\n",
              "    .colab-df-convert {\n",
              "      background-color: #E8F0FE;\n",
              "      border: none;\n",
              "      border-radius: 50%;\n",
              "      cursor: pointer;\n",
              "      display: none;\n",
              "      fill: #1967D2;\n",
              "      height: 32px;\n",
              "      padding: 0 0 0 0;\n",
              "      width: 32px;\n",
              "    }\n",
              "\n",
              "    .colab-df-convert:hover {\n",
              "      background-color: #E2EBFA;\n",
              "      box-shadow: 0px 1px 2px rgba(60, 64, 67, 0.3), 0px 1px 3px 1px rgba(60, 64, 67, 0.15);\n",
              "      fill: #174EA6;\n",
              "    }\n",
              "\n",
              "    [theme=dark] .colab-df-convert {\n",
              "      background-color: #3B4455;\n",
              "      fill: #D2E3FC;\n",
              "    }\n",
              "\n",
              "    [theme=dark] .colab-df-convert:hover {\n",
              "      background-color: #434B5C;\n",
              "      box-shadow: 0px 1px 3px 1px rgba(0, 0, 0, 0.15);\n",
              "      filter: drop-shadow(0px 1px 2px rgba(0, 0, 0, 0.3));\n",
              "      fill: #FFFFFF;\n",
              "    }\n",
              "  </style>\n",
              "\n",
              "      <script>\n",
              "        const buttonEl =\n",
              "          document.querySelector('#df-d2e860e6-67fc-4f97-80a8-20113806e164 button.colab-df-convert');\n",
              "        buttonEl.style.display =\n",
              "          google.colab.kernel.accessAllowed ? 'block' : 'none';\n",
              "\n",
              "        async function convertToInteractive(key) {\n",
              "          const element = document.querySelector('#df-d2e860e6-67fc-4f97-80a8-20113806e164');\n",
              "          const dataTable =\n",
              "            await google.colab.kernel.invokeFunction('convertToInteractive',\n",
              "                                                     [key], {});\n",
              "          if (!dataTable) return;\n",
              "\n",
              "          const docLinkHtml = 'Like what you see? Visit the ' +\n",
              "            '<a target=\"_blank\" href=https://colab.research.google.com/notebooks/data_table.ipynb>data table notebook</a>'\n",
              "            + ' to learn more about interactive tables.';\n",
              "          element.innerHTML = '';\n",
              "          dataTable['output_type'] = 'display_data';\n",
              "          await google.colab.output.renderOutput(dataTable, element);\n",
              "          const docLink = document.createElement('div');\n",
              "          docLink.innerHTML = docLinkHtml;\n",
              "          element.appendChild(docLink);\n",
              "        }\n",
              "      </script>\n",
              "    </div>\n",
              "  </div>\n",
              "  "
            ]
          },
          "metadata": {},
          "execution_count": 331
        }
      ],
      "source": [
        "df_tracks_exploration.describe()"
      ]
    },
    {
      "cell_type": "code",
      "execution_count": 332,
      "metadata": {
        "colab": {
          "base_uri": "https://localhost:8080/"
        },
        "id": "Ev81ApuBvAoI",
        "outputId": "22c51f13-a4df-42f8-8d79-b79e1a26625f"
      },
      "outputs": [
        {
          "output_type": "execute_result",
          "data": {
            "text/plain": [
              "(6400, 52)"
            ]
          },
          "metadata": {},
          "execution_count": 332
        }
      ],
      "source": [
        "df_tracks_exploration.shape"
      ]
    },
    {
      "cell_type": "code",
      "execution_count": 333,
      "metadata": {
        "colab": {
          "base_uri": "https://localhost:8080/",
          "height": 640
        },
        "id": "w5b_rwh4lNRE",
        "outputId": "2154fddb-fd21-4dbc-a776-639fefc9dc04"
      },
      "outputs": [
        {
          "output_type": "execute_result",
          "data": {
            "text/plain": [
              "            album                                                           \\\n",
              "         comments        date_created date_released engineer favorites  id   \n",
              "track_id                                                                     \n",
              "2               0 2008-11-26 01:44:45    2009-01-05      NaN         4   1   \n",
              "5               0 2008-11-26 01:44:45    2009-01-05      NaN         4   1   \n",
              "10              0 2008-11-26 01:45:08    2008-02-06      NaN         4   6   \n",
              "140             1 2008-11-26 01:49:59    2007-05-22      NaN         1  61   \n",
              "141             0 2008-11-26 01:49:57    2009-01-16      NaN         1  60   \n",
              "\n",
              "                                                                     \\\n",
              "                                                information listens   \n",
              "track_id                                                              \n",
              "2                                                   <p></p>    6073   \n",
              "5                                                   <p></p>    6073   \n",
              "10                                                      NaN   47632   \n",
              "140       <p>Alec K. Redfearn &amp; The Eyesores: Ellen ...    1300   \n",
              "141       <p>A full ensamble of strings, drums, electron...    1304   \n",
              "\n",
              "                                               ...       track           \\\n",
              "                                producer tags  ... information interest   \n",
              "track_id                                       ...                        \n",
              "2                                    NaN   []  ...         NaN     4656   \n",
              "5                                    NaN   []  ...         NaN     1933   \n",
              "10                                   NaN   []  ...         NaN    54881   \n",
              "140       Alec K. Refearn, Rob Pemberton   []  ...         NaN     1593   \n",
              "141                                  NaN   []  ...         NaN      839   \n",
              "\n",
              "                                                                           \\\n",
              "         language_code                                            license   \n",
              "track_id                                                                    \n",
              "2                   en  Attribution-NonCommercial-ShareAlike 3.0 Inter...   \n",
              "5                   en  Attribution-NonCommercial-ShareAlike 3.0 Inter...   \n",
              "10                  en  Attribution-NonCommercial-NoDerivatives (aka M...   \n",
              "140                 en  Attribution-Noncommercial-No Derivative Works ...   \n",
              "141                 en  Attribution-Noncommercial-No Derivative Works ...   \n",
              "\n",
              "                                                                     \n",
              "         listens lyricist number publisher tags               title  \n",
              "track_id                                                             \n",
              "2           1293      NaN      3       NaN   []                Food  \n",
              "5           1151      NaN      6       NaN   []          This World  \n",
              "10         50135      NaN      1       NaN   []             Freeway  \n",
              "140         1299      NaN      2       NaN   []  Queen Of The Wires  \n",
              "141          725      NaN      4       NaN   []                Ohio  \n",
              "\n",
              "[5 rows x 52 columns]"
            ],
            "text/html": [
              "\n",
              "  <div id=\"df-b11bb94b-71f6-4fc8-82f7-838f4d186065\">\n",
              "    <div class=\"colab-df-container\">\n",
              "      <div>\n",
              "<style scoped>\n",
              "    .dataframe tbody tr th:only-of-type {\n",
              "        vertical-align: middle;\n",
              "    }\n",
              "\n",
              "    .dataframe tbody tr th {\n",
              "        vertical-align: top;\n",
              "    }\n",
              "\n",
              "    .dataframe thead tr th {\n",
              "        text-align: left;\n",
              "    }\n",
              "\n",
              "    .dataframe thead tr:last-of-type th {\n",
              "        text-align: right;\n",
              "    }\n",
              "</style>\n",
              "<table border=\"1\" class=\"dataframe\">\n",
              "  <thead>\n",
              "    <tr>\n",
              "      <th></th>\n",
              "      <th colspan=\"10\" halign=\"left\">album</th>\n",
              "      <th>...</th>\n",
              "      <th colspan=\"10\" halign=\"left\">track</th>\n",
              "    </tr>\n",
              "    <tr>\n",
              "      <th></th>\n",
              "      <th>comments</th>\n",
              "      <th>date_created</th>\n",
              "      <th>date_released</th>\n",
              "      <th>engineer</th>\n",
              "      <th>favorites</th>\n",
              "      <th>id</th>\n",
              "      <th>information</th>\n",
              "      <th>listens</th>\n",
              "      <th>producer</th>\n",
              "      <th>tags</th>\n",
              "      <th>...</th>\n",
              "      <th>information</th>\n",
              "      <th>interest</th>\n",
              "      <th>language_code</th>\n",
              "      <th>license</th>\n",
              "      <th>listens</th>\n",
              "      <th>lyricist</th>\n",
              "      <th>number</th>\n",
              "      <th>publisher</th>\n",
              "      <th>tags</th>\n",
              "      <th>title</th>\n",
              "    </tr>\n",
              "    <tr>\n",
              "      <th>track_id</th>\n",
              "      <th></th>\n",
              "      <th></th>\n",
              "      <th></th>\n",
              "      <th></th>\n",
              "      <th></th>\n",
              "      <th></th>\n",
              "      <th></th>\n",
              "      <th></th>\n",
              "      <th></th>\n",
              "      <th></th>\n",
              "      <th></th>\n",
              "      <th></th>\n",
              "      <th></th>\n",
              "      <th></th>\n",
              "      <th></th>\n",
              "      <th></th>\n",
              "      <th></th>\n",
              "      <th></th>\n",
              "      <th></th>\n",
              "      <th></th>\n",
              "      <th></th>\n",
              "    </tr>\n",
              "  </thead>\n",
              "  <tbody>\n",
              "    <tr>\n",
              "      <th>2</th>\n",
              "      <td>0</td>\n",
              "      <td>2008-11-26 01:44:45</td>\n",
              "      <td>2009-01-05</td>\n",
              "      <td>NaN</td>\n",
              "      <td>4</td>\n",
              "      <td>1</td>\n",
              "      <td>&lt;p&gt;&lt;/p&gt;</td>\n",
              "      <td>6073</td>\n",
              "      <td>NaN</td>\n",
              "      <td>[]</td>\n",
              "      <td>...</td>\n",
              "      <td>NaN</td>\n",
              "      <td>4656</td>\n",
              "      <td>en</td>\n",
              "      <td>Attribution-NonCommercial-ShareAlike 3.0 Inter...</td>\n",
              "      <td>1293</td>\n",
              "      <td>NaN</td>\n",
              "      <td>3</td>\n",
              "      <td>NaN</td>\n",
              "      <td>[]</td>\n",
              "      <td>Food</td>\n",
              "    </tr>\n",
              "    <tr>\n",
              "      <th>5</th>\n",
              "      <td>0</td>\n",
              "      <td>2008-11-26 01:44:45</td>\n",
              "      <td>2009-01-05</td>\n",
              "      <td>NaN</td>\n",
              "      <td>4</td>\n",
              "      <td>1</td>\n",
              "      <td>&lt;p&gt;&lt;/p&gt;</td>\n",
              "      <td>6073</td>\n",
              "      <td>NaN</td>\n",
              "      <td>[]</td>\n",
              "      <td>...</td>\n",
              "      <td>NaN</td>\n",
              "      <td>1933</td>\n",
              "      <td>en</td>\n",
              "      <td>Attribution-NonCommercial-ShareAlike 3.0 Inter...</td>\n",
              "      <td>1151</td>\n",
              "      <td>NaN</td>\n",
              "      <td>6</td>\n",
              "      <td>NaN</td>\n",
              "      <td>[]</td>\n",
              "      <td>This World</td>\n",
              "    </tr>\n",
              "    <tr>\n",
              "      <th>10</th>\n",
              "      <td>0</td>\n",
              "      <td>2008-11-26 01:45:08</td>\n",
              "      <td>2008-02-06</td>\n",
              "      <td>NaN</td>\n",
              "      <td>4</td>\n",
              "      <td>6</td>\n",
              "      <td>NaN</td>\n",
              "      <td>47632</td>\n",
              "      <td>NaN</td>\n",
              "      <td>[]</td>\n",
              "      <td>...</td>\n",
              "      <td>NaN</td>\n",
              "      <td>54881</td>\n",
              "      <td>en</td>\n",
              "      <td>Attribution-NonCommercial-NoDerivatives (aka M...</td>\n",
              "      <td>50135</td>\n",
              "      <td>NaN</td>\n",
              "      <td>1</td>\n",
              "      <td>NaN</td>\n",
              "      <td>[]</td>\n",
              "      <td>Freeway</td>\n",
              "    </tr>\n",
              "    <tr>\n",
              "      <th>140</th>\n",
              "      <td>1</td>\n",
              "      <td>2008-11-26 01:49:59</td>\n",
              "      <td>2007-05-22</td>\n",
              "      <td>NaN</td>\n",
              "      <td>1</td>\n",
              "      <td>61</td>\n",
              "      <td>&lt;p&gt;Alec K. Redfearn &amp;amp; The Eyesores: Ellen ...</td>\n",
              "      <td>1300</td>\n",
              "      <td>Alec K. Refearn, Rob Pemberton</td>\n",
              "      <td>[]</td>\n",
              "      <td>...</td>\n",
              "      <td>NaN</td>\n",
              "      <td>1593</td>\n",
              "      <td>en</td>\n",
              "      <td>Attribution-Noncommercial-No Derivative Works ...</td>\n",
              "      <td>1299</td>\n",
              "      <td>NaN</td>\n",
              "      <td>2</td>\n",
              "      <td>NaN</td>\n",
              "      <td>[]</td>\n",
              "      <td>Queen Of The Wires</td>\n",
              "    </tr>\n",
              "    <tr>\n",
              "      <th>141</th>\n",
              "      <td>0</td>\n",
              "      <td>2008-11-26 01:49:57</td>\n",
              "      <td>2009-01-16</td>\n",
              "      <td>NaN</td>\n",
              "      <td>1</td>\n",
              "      <td>60</td>\n",
              "      <td>&lt;p&gt;A full ensamble of strings, drums, electron...</td>\n",
              "      <td>1304</td>\n",
              "      <td>NaN</td>\n",
              "      <td>[]</td>\n",
              "      <td>...</td>\n",
              "      <td>NaN</td>\n",
              "      <td>839</td>\n",
              "      <td>en</td>\n",
              "      <td>Attribution-Noncommercial-No Derivative Works ...</td>\n",
              "      <td>725</td>\n",
              "      <td>NaN</td>\n",
              "      <td>4</td>\n",
              "      <td>NaN</td>\n",
              "      <td>[]</td>\n",
              "      <td>Ohio</td>\n",
              "    </tr>\n",
              "  </tbody>\n",
              "</table>\n",
              "<p>5 rows × 52 columns</p>\n",
              "</div>\n",
              "      <button class=\"colab-df-convert\" onclick=\"convertToInteractive('df-b11bb94b-71f6-4fc8-82f7-838f4d186065')\"\n",
              "              title=\"Convert this dataframe to an interactive table.\"\n",
              "              style=\"display:none;\">\n",
              "        \n",
              "  <svg xmlns=\"http://www.w3.org/2000/svg\" height=\"24px\"viewBox=\"0 0 24 24\"\n",
              "       width=\"24px\">\n",
              "    <path d=\"M0 0h24v24H0V0z\" fill=\"none\"/>\n",
              "    <path d=\"M18.56 5.44l.94 2.06.94-2.06 2.06-.94-2.06-.94-.94-2.06-.94 2.06-2.06.94zm-11 1L8.5 8.5l.94-2.06 2.06-.94-2.06-.94L8.5 2.5l-.94 2.06-2.06.94zm10 10l.94 2.06.94-2.06 2.06-.94-2.06-.94-.94-2.06-.94 2.06-2.06.94z\"/><path d=\"M17.41 7.96l-1.37-1.37c-.4-.4-.92-.59-1.43-.59-.52 0-1.04.2-1.43.59L10.3 9.45l-7.72 7.72c-.78.78-.78 2.05 0 2.83L4 21.41c.39.39.9.59 1.41.59.51 0 1.02-.2 1.41-.59l7.78-7.78 2.81-2.81c.8-.78.8-2.07 0-2.86zM5.41 20L4 18.59l7.72-7.72 1.47 1.35L5.41 20z\"/>\n",
              "  </svg>\n",
              "      </button>\n",
              "      \n",
              "  <style>\n",
              "    .colab-df-container {\n",
              "      display:flex;\n",
              "      flex-wrap:wrap;\n",
              "      gap: 12px;\n",
              "    }\n",
              "\n",
              "    .colab-df-convert {\n",
              "      background-color: #E8F0FE;\n",
              "      border: none;\n",
              "      border-radius: 50%;\n",
              "      cursor: pointer;\n",
              "      display: none;\n",
              "      fill: #1967D2;\n",
              "      height: 32px;\n",
              "      padding: 0 0 0 0;\n",
              "      width: 32px;\n",
              "    }\n",
              "\n",
              "    .colab-df-convert:hover {\n",
              "      background-color: #E2EBFA;\n",
              "      box-shadow: 0px 1px 2px rgba(60, 64, 67, 0.3), 0px 1px 3px 1px rgba(60, 64, 67, 0.15);\n",
              "      fill: #174EA6;\n",
              "    }\n",
              "\n",
              "    [theme=dark] .colab-df-convert {\n",
              "      background-color: #3B4455;\n",
              "      fill: #D2E3FC;\n",
              "    }\n",
              "\n",
              "    [theme=dark] .colab-df-convert:hover {\n",
              "      background-color: #434B5C;\n",
              "      box-shadow: 0px 1px 3px 1px rgba(0, 0, 0, 0.15);\n",
              "      filter: drop-shadow(0px 1px 2px rgba(0, 0, 0, 0.3));\n",
              "      fill: #FFFFFF;\n",
              "    }\n",
              "  </style>\n",
              "\n",
              "      <script>\n",
              "        const buttonEl =\n",
              "          document.querySelector('#df-b11bb94b-71f6-4fc8-82f7-838f4d186065 button.colab-df-convert');\n",
              "        buttonEl.style.display =\n",
              "          google.colab.kernel.accessAllowed ? 'block' : 'none';\n",
              "\n",
              "        async function convertToInteractive(key) {\n",
              "          const element = document.querySelector('#df-b11bb94b-71f6-4fc8-82f7-838f4d186065');\n",
              "          const dataTable =\n",
              "            await google.colab.kernel.invokeFunction('convertToInteractive',\n",
              "                                                     [key], {});\n",
              "          if (!dataTable) return;\n",
              "\n",
              "          const docLinkHtml = 'Like what you see? Visit the ' +\n",
              "            '<a target=\"_blank\" href=https://colab.research.google.com/notebooks/data_table.ipynb>data table notebook</a>'\n",
              "            + ' to learn more about interactive tables.';\n",
              "          element.innerHTML = '';\n",
              "          dataTable['output_type'] = 'display_data';\n",
              "          await google.colab.output.renderOutput(dataTable, element);\n",
              "          const docLink = document.createElement('div');\n",
              "          docLink.innerHTML = docLinkHtml;\n",
              "          element.appendChild(docLink);\n",
              "        }\n",
              "      </script>\n",
              "    </div>\n",
              "  </div>\n",
              "  "
            ]
          },
          "metadata": {},
          "execution_count": 333
        }
      ],
      "source": [
=======
      "source": [
        "# Keep training set pristine; make copy solely for data exploration\n",
        "df_tracks_exploration = df_tracks_train.copy()"
      ],
      "metadata": {
        "id": "g7BY0E0iubYm"
      },
      "execution_count": 16,
      "outputs": []
    },
    {
      "cell_type": "code",
      "execution_count": 17,
      "metadata": {
        "colab": {
          "base_uri": "https://localhost:8080/"
        },
        "id": "f7uiSb12VhYG",
        "outputId": "b9cde2ab-145b-427f-f6fc-cb31bf37c8a4"
      },
      "outputs": [
        {
          "output_type": "stream",
          "name": "stdout",
          "text": [
            "<class 'pandas.core.frame.DataFrame'>\n",
            "Int64Index: 6400 entries, 2 to 155066\n",
            "Data columns (total 52 columns):\n",
            " #   Column                       Non-Null Count  Dtype         \n",
            "---  ------                       --------------  -----         \n",
            " 0   (album, comments)            6400 non-null   int64         \n",
            " 1   (album, date_created)        6400 non-null   datetime64[ns]\n",
            " 2   (album, date_released)       4161 non-null   datetime64[ns]\n",
            " 3   (album, engineer)            955 non-null    object        \n",
            " 4   (album, favorites)           6400 non-null   int64         \n",
            " 5   (album, id)                  6400 non-null   int64         \n",
            " 6   (album, information)         5231 non-null   category      \n",
            " 7   (album, listens)             6400 non-null   int64         \n",
            " 8   (album, producer)            1159 non-null   object        \n",
            " 9   (album, tags)                6400 non-null   object        \n",
            " 10  (album, title)               6400 non-null   object        \n",
            " 11  (album, tracks)              6400 non-null   int64         \n",
            " 12  (album, type)                6240 non-null   category      \n",
            " 13  (artist, active_year_begin)  1163 non-null   datetime64[ns]\n",
            " 14  (artist, active_year_end)    270 non-null    datetime64[ns]\n",
            " 15  (artist, associated_labels)  670 non-null    object        \n",
            " 16  (artist, bio)                4754 non-null   category      \n",
            " 17  (artist, comments)           6400 non-null   int64         \n",
            " 18  (artist, date_created)       6400 non-null   datetime64[ns]\n",
            " 19  (artist, favorites)          6400 non-null   int64         \n",
            " 20  (artist, id)                 6400 non-null   int64         \n",
            " 21  (artist, latitude)           2315 non-null   float64       \n",
            " 22  (artist, location)           4369 non-null   object        \n",
            " 23  (artist, longitude)          2315 non-null   float64       \n",
            " 24  (artist, members)            2676 non-null   object        \n",
            " 25  (artist, name)               6400 non-null   object        \n",
            " 26  (artist, related_projects)   585 non-null    object        \n",
            " 27  (artist, tags)               6400 non-null   object        \n",
            " 28  (artist, website)            5166 non-null   object        \n",
            " 29  (artist, wikipedia_page)     314 non-null    object        \n",
            " 30  (set, split)                 6400 non-null   object        \n",
            " 31  (set, subset)                6400 non-null   category      \n",
            " 32  (track, bit_rate)            6400 non-null   int64         \n",
            " 33  (track, comments)            6400 non-null   int64         \n",
            " 34  (track, composer)            153 non-null    object        \n",
            " 35  (track, date_created)        6400 non-null   datetime64[ns]\n",
            " 36  (track, date_recorded)       383 non-null    datetime64[ns]\n",
            " 37  (track, duration)            6400 non-null   int64         \n",
            " 38  (track, favorites)           6400 non-null   int64         \n",
            " 39  (track, genre_top)           6400 non-null   category      \n",
            " 40  (track, genres)              6400 non-null   object        \n",
            " 41  (track, genres_all)          6400 non-null   object        \n",
            " 42  (track, information)         150 non-null    object        \n",
            " 43  (track, interest)            6400 non-null   int64         \n",
            " 44  (track, language_code)       759 non-null    object        \n",
            " 45  (track, license)             6395 non-null   category      \n",
            " 46  (track, listens)             6400 non-null   int64         \n",
            " 47  (track, lyricist)            19 non-null     object        \n",
            " 48  (track, number)              6400 non-null   int64         \n",
            " 49  (track, publisher)           65 non-null     object        \n",
            " 50  (track, tags)                6400 non-null   object        \n",
            " 51  (track, title)               6400 non-null   object        \n",
            "dtypes: category(6), datetime64[ns](7), float64(2), int64(15), object(22)\n",
            "memory usage: 2.9+ MB\n"
          ]
        }
      ],
      "source": [
        "# Shows that FMA features in tracks.csv are organised (via MultiIndex) in a top \n",
        "# and sub property hierarchy, arranged as tuples\n",
        "# e.g album has \"sub-features\" comments, date_created, ..., tags, etc\n",
        "df_tracks_exploration.info()"
      ]
    },
    {
      "cell_type": "code",
      "execution_count": 18,
      "metadata": {
        "colab": {
          "base_uri": "https://localhost:8080/",
          "height": 396
        },
        "id": "-SVnl8l2Xl97",
        "outputId": "7be135c5-89ad-403e-9761-f20145e161be"
      },
      "outputs": [
        {
          "output_type": "execute_result",
          "data": {
            "text/plain": [
              "             album                                                         \\\n",
              "          comments    favorites            id        listens       tracks   \n",
              "count  6400.000000  6400.000000   6400.000000    6400.000000  6400.000000   \n",
              "mean      0.528594     1.869219  13618.313125   38797.147344    11.173125   \n",
              "std       1.388609     3.350438   5966.399303   64825.872121     8.105938   \n",
              "min       0.000000     0.000000      1.000000    1008.000000     1.000000   \n",
              "25%       0.000000     0.000000   9328.000000    8054.000000     6.000000   \n",
              "50%       0.000000     1.000000  15015.000000   16931.000000     9.000000   \n",
              "75%       0.000000     2.000000  18530.000000   39066.500000    14.000000   \n",
              "max      12.000000    29.000000  22899.000000  595875.000000    47.000000   \n",
              "\n",
              "            artist                                                       \\\n",
              "          comments    favorites            id     latitude    longitude   \n",
              "count  6400.000000  6400.000000   6400.000000  2315.000000  2315.000000   \n",
              "mean      2.576719    41.830312  13170.533438    39.005367   -41.263094   \n",
              "std       6.406288   110.817564   6906.783168    19.092404    67.658223   \n",
              "min       0.000000     0.000000      1.000000   -41.286460  -157.526855   \n",
              "25%       0.000000     2.000000   7444.000000    38.890370   -80.160084   \n",
              "50%       0.000000     7.000000  14070.500000    40.852505   -73.950000   \n",
              "75%       2.000000    23.000000  19461.000000    48.172699    -0.127683   \n",
              "max      55.000000   861.000000  24252.000000    65.201935   174.885971   \n",
              "\n",
              "               track                                                       \\\n",
              "            bit_rate     comments     duration    favorites      interest   \n",
              "count    6400.000000  6400.000000  6400.000000  6400.000000  6.400000e+03   \n",
              "mean   266134.936094     0.067812   227.745000     6.363125  6.918060e+03   \n",
              "std     60848.431950     0.527205    97.606551    17.999002  3.097571e+04   \n",
              "min    105237.000000     0.000000    60.000000     0.000000  4.630000e+02   \n",
              "25%    216918.250000     0.000000   161.000000     1.000000  1.855750e+03   \n",
              "50%    266278.000000     0.000000   214.000000     3.000000  3.510000e+03   \n",
              "75%    320000.000000     0.000000   276.250000     7.000000  6.856250e+03   \n",
              "max    322541.000000    24.000000   600.000000   765.000000  1.991344e+06   \n",
              "\n",
              "                                   \n",
              "             listens       number  \n",
              "count    6400.000000  6400.000000  \n",
              "mean     4694.797969     5.433438  \n",
              "std     11313.836217     5.957022  \n",
              "min       196.000000     0.000000  \n",
              "25%      1267.000000     2.000000  \n",
              "50%      2505.000000     4.000000  \n",
              "75%      4916.250000     8.000000  \n",
              "max    433992.000000   128.000000  "
            ],
            "text/html": [
              "\n",
              "  <div id=\"df-a73c3005-72ef-4e36-b62d-d58dbc0a83a0\">\n",
              "    <div class=\"colab-df-container\">\n",
              "      <div>\n",
              "<style scoped>\n",
              "    .dataframe tbody tr th:only-of-type {\n",
              "        vertical-align: middle;\n",
              "    }\n",
              "\n",
              "    .dataframe tbody tr th {\n",
              "        vertical-align: top;\n",
              "    }\n",
              "\n",
              "    .dataframe thead tr th {\n",
              "        text-align: left;\n",
              "    }\n",
              "</style>\n",
              "<table border=\"1\" class=\"dataframe\">\n",
              "  <thead>\n",
              "    <tr>\n",
              "      <th></th>\n",
              "      <th colspan=\"5\" halign=\"left\">album</th>\n",
              "      <th colspan=\"5\" halign=\"left\">artist</th>\n",
              "      <th colspan=\"7\" halign=\"left\">track</th>\n",
              "    </tr>\n",
              "    <tr>\n",
              "      <th></th>\n",
              "      <th>comments</th>\n",
              "      <th>favorites</th>\n",
              "      <th>id</th>\n",
              "      <th>listens</th>\n",
              "      <th>tracks</th>\n",
              "      <th>comments</th>\n",
              "      <th>favorites</th>\n",
              "      <th>id</th>\n",
              "      <th>latitude</th>\n",
              "      <th>longitude</th>\n",
              "      <th>bit_rate</th>\n",
              "      <th>comments</th>\n",
              "      <th>duration</th>\n",
              "      <th>favorites</th>\n",
              "      <th>interest</th>\n",
              "      <th>listens</th>\n",
              "      <th>number</th>\n",
              "    </tr>\n",
              "  </thead>\n",
              "  <tbody>\n",
              "    <tr>\n",
              "      <th>count</th>\n",
              "      <td>6400.000000</td>\n",
              "      <td>6400.000000</td>\n",
              "      <td>6400.000000</td>\n",
              "      <td>6400.000000</td>\n",
              "      <td>6400.000000</td>\n",
              "      <td>6400.000000</td>\n",
              "      <td>6400.000000</td>\n",
              "      <td>6400.000000</td>\n",
              "      <td>2315.000000</td>\n",
              "      <td>2315.000000</td>\n",
              "      <td>6400.000000</td>\n",
              "      <td>6400.000000</td>\n",
              "      <td>6400.000000</td>\n",
              "      <td>6400.000000</td>\n",
              "      <td>6.400000e+03</td>\n",
              "      <td>6400.000000</td>\n",
              "      <td>6400.000000</td>\n",
              "    </tr>\n",
              "    <tr>\n",
              "      <th>mean</th>\n",
              "      <td>0.528594</td>\n",
              "      <td>1.869219</td>\n",
              "      <td>13618.313125</td>\n",
              "      <td>38797.147344</td>\n",
              "      <td>11.173125</td>\n",
              "      <td>2.576719</td>\n",
              "      <td>41.830312</td>\n",
              "      <td>13170.533438</td>\n",
              "      <td>39.005367</td>\n",
              "      <td>-41.263094</td>\n",
              "      <td>266134.936094</td>\n",
              "      <td>0.067812</td>\n",
              "      <td>227.745000</td>\n",
              "      <td>6.363125</td>\n",
              "      <td>6.918060e+03</td>\n",
              "      <td>4694.797969</td>\n",
              "      <td>5.433438</td>\n",
              "    </tr>\n",
              "    <tr>\n",
              "      <th>std</th>\n",
              "      <td>1.388609</td>\n",
              "      <td>3.350438</td>\n",
              "      <td>5966.399303</td>\n",
              "      <td>64825.872121</td>\n",
              "      <td>8.105938</td>\n",
              "      <td>6.406288</td>\n",
              "      <td>110.817564</td>\n",
              "      <td>6906.783168</td>\n",
              "      <td>19.092404</td>\n",
              "      <td>67.658223</td>\n",
              "      <td>60848.431950</td>\n",
              "      <td>0.527205</td>\n",
              "      <td>97.606551</td>\n",
              "      <td>17.999002</td>\n",
              "      <td>3.097571e+04</td>\n",
              "      <td>11313.836217</td>\n",
              "      <td>5.957022</td>\n",
              "    </tr>\n",
              "    <tr>\n",
              "      <th>min</th>\n",
              "      <td>0.000000</td>\n",
              "      <td>0.000000</td>\n",
              "      <td>1.000000</td>\n",
              "      <td>1008.000000</td>\n",
              "      <td>1.000000</td>\n",
              "      <td>0.000000</td>\n",
              "      <td>0.000000</td>\n",
              "      <td>1.000000</td>\n",
              "      <td>-41.286460</td>\n",
              "      <td>-157.526855</td>\n",
              "      <td>105237.000000</td>\n",
              "      <td>0.000000</td>\n",
              "      <td>60.000000</td>\n",
              "      <td>0.000000</td>\n",
              "      <td>4.630000e+02</td>\n",
              "      <td>196.000000</td>\n",
              "      <td>0.000000</td>\n",
              "    </tr>\n",
              "    <tr>\n",
              "      <th>25%</th>\n",
              "      <td>0.000000</td>\n",
              "      <td>0.000000</td>\n",
              "      <td>9328.000000</td>\n",
              "      <td>8054.000000</td>\n",
              "      <td>6.000000</td>\n",
              "      <td>0.000000</td>\n",
              "      <td>2.000000</td>\n",
              "      <td>7444.000000</td>\n",
              "      <td>38.890370</td>\n",
              "      <td>-80.160084</td>\n",
              "      <td>216918.250000</td>\n",
              "      <td>0.000000</td>\n",
              "      <td>161.000000</td>\n",
              "      <td>1.000000</td>\n",
              "      <td>1.855750e+03</td>\n",
              "      <td>1267.000000</td>\n",
              "      <td>2.000000</td>\n",
              "    </tr>\n",
              "    <tr>\n",
              "      <th>50%</th>\n",
              "      <td>0.000000</td>\n",
              "      <td>1.000000</td>\n",
              "      <td>15015.000000</td>\n",
              "      <td>16931.000000</td>\n",
              "      <td>9.000000</td>\n",
              "      <td>0.000000</td>\n",
              "      <td>7.000000</td>\n",
              "      <td>14070.500000</td>\n",
              "      <td>40.852505</td>\n",
              "      <td>-73.950000</td>\n",
              "      <td>266278.000000</td>\n",
              "      <td>0.000000</td>\n",
              "      <td>214.000000</td>\n",
              "      <td>3.000000</td>\n",
              "      <td>3.510000e+03</td>\n",
              "      <td>2505.000000</td>\n",
              "      <td>4.000000</td>\n",
              "    </tr>\n",
              "    <tr>\n",
              "      <th>75%</th>\n",
              "      <td>0.000000</td>\n",
              "      <td>2.000000</td>\n",
              "      <td>18530.000000</td>\n",
              "      <td>39066.500000</td>\n",
              "      <td>14.000000</td>\n",
              "      <td>2.000000</td>\n",
              "      <td>23.000000</td>\n",
              "      <td>19461.000000</td>\n",
              "      <td>48.172699</td>\n",
              "      <td>-0.127683</td>\n",
              "      <td>320000.000000</td>\n",
              "      <td>0.000000</td>\n",
              "      <td>276.250000</td>\n",
              "      <td>7.000000</td>\n",
              "      <td>6.856250e+03</td>\n",
              "      <td>4916.250000</td>\n",
              "      <td>8.000000</td>\n",
              "    </tr>\n",
              "    <tr>\n",
              "      <th>max</th>\n",
              "      <td>12.000000</td>\n",
              "      <td>29.000000</td>\n",
              "      <td>22899.000000</td>\n",
              "      <td>595875.000000</td>\n",
              "      <td>47.000000</td>\n",
              "      <td>55.000000</td>\n",
              "      <td>861.000000</td>\n",
              "      <td>24252.000000</td>\n",
              "      <td>65.201935</td>\n",
              "      <td>174.885971</td>\n",
              "      <td>322541.000000</td>\n",
              "      <td>24.000000</td>\n",
              "      <td>600.000000</td>\n",
              "      <td>765.000000</td>\n",
              "      <td>1.991344e+06</td>\n",
              "      <td>433992.000000</td>\n",
              "      <td>128.000000</td>\n",
              "    </tr>\n",
              "  </tbody>\n",
              "</table>\n",
              "</div>\n",
              "      <button class=\"colab-df-convert\" onclick=\"convertToInteractive('df-a73c3005-72ef-4e36-b62d-d58dbc0a83a0')\"\n",
              "              title=\"Convert this dataframe to an interactive table.\"\n",
              "              style=\"display:none;\">\n",
              "        \n",
              "  <svg xmlns=\"http://www.w3.org/2000/svg\" height=\"24px\"viewBox=\"0 0 24 24\"\n",
              "       width=\"24px\">\n",
              "    <path d=\"M0 0h24v24H0V0z\" fill=\"none\"/>\n",
              "    <path d=\"M18.56 5.44l.94 2.06.94-2.06 2.06-.94-2.06-.94-.94-2.06-.94 2.06-2.06.94zm-11 1L8.5 8.5l.94-2.06 2.06-.94-2.06-.94L8.5 2.5l-.94 2.06-2.06.94zm10 10l.94 2.06.94-2.06 2.06-.94-2.06-.94-.94-2.06-.94 2.06-2.06.94z\"/><path d=\"M17.41 7.96l-1.37-1.37c-.4-.4-.92-.59-1.43-.59-.52 0-1.04.2-1.43.59L10.3 9.45l-7.72 7.72c-.78.78-.78 2.05 0 2.83L4 21.41c.39.39.9.59 1.41.59.51 0 1.02-.2 1.41-.59l7.78-7.78 2.81-2.81c.8-.78.8-2.07 0-2.86zM5.41 20L4 18.59l7.72-7.72 1.47 1.35L5.41 20z\"/>\n",
              "  </svg>\n",
              "      </button>\n",
              "      \n",
              "  <style>\n",
              "    .colab-df-container {\n",
              "      display:flex;\n",
              "      flex-wrap:wrap;\n",
              "      gap: 12px;\n",
              "    }\n",
              "\n",
              "    .colab-df-convert {\n",
              "      background-color: #E8F0FE;\n",
              "      border: none;\n",
              "      border-radius: 50%;\n",
              "      cursor: pointer;\n",
              "      display: none;\n",
              "      fill: #1967D2;\n",
              "      height: 32px;\n",
              "      padding: 0 0 0 0;\n",
              "      width: 32px;\n",
              "    }\n",
              "\n",
              "    .colab-df-convert:hover {\n",
              "      background-color: #E2EBFA;\n",
              "      box-shadow: 0px 1px 2px rgba(60, 64, 67, 0.3), 0px 1px 3px 1px rgba(60, 64, 67, 0.15);\n",
              "      fill: #174EA6;\n",
              "    }\n",
              "\n",
              "    [theme=dark] .colab-df-convert {\n",
              "      background-color: #3B4455;\n",
              "      fill: #D2E3FC;\n",
              "    }\n",
              "\n",
              "    [theme=dark] .colab-df-convert:hover {\n",
              "      background-color: #434B5C;\n",
              "      box-shadow: 0px 1px 3px 1px rgba(0, 0, 0, 0.15);\n",
              "      filter: drop-shadow(0px 1px 2px rgba(0, 0, 0, 0.3));\n",
              "      fill: #FFFFFF;\n",
              "    }\n",
              "  </style>\n",
              "\n",
              "      <script>\n",
              "        const buttonEl =\n",
              "          document.querySelector('#df-a73c3005-72ef-4e36-b62d-d58dbc0a83a0 button.colab-df-convert');\n",
              "        buttonEl.style.display =\n",
              "          google.colab.kernel.accessAllowed ? 'block' : 'none';\n",
              "\n",
              "        async function convertToInteractive(key) {\n",
              "          const element = document.querySelector('#df-a73c3005-72ef-4e36-b62d-d58dbc0a83a0');\n",
              "          const dataTable =\n",
              "            await google.colab.kernel.invokeFunction('convertToInteractive',\n",
              "                                                     [key], {});\n",
              "          if (!dataTable) return;\n",
              "\n",
              "          const docLinkHtml = 'Like what you see? Visit the ' +\n",
              "            '<a target=\"_blank\" href=https://colab.research.google.com/notebooks/data_table.ipynb>data table notebook</a>'\n",
              "            + ' to learn more about interactive tables.';\n",
              "          element.innerHTML = '';\n",
              "          dataTable['output_type'] = 'display_data';\n",
              "          await google.colab.output.renderOutput(dataTable, element);\n",
              "          const docLink = document.createElement('div');\n",
              "          docLink.innerHTML = docLinkHtml;\n",
              "          element.appendChild(docLink);\n",
              "        }\n",
              "      </script>\n",
              "    </div>\n",
              "  </div>\n",
              "  "
            ]
          },
          "metadata": {},
          "execution_count": 18
        }
      ],
      "source": [
        "df_tracks_exploration.describe()"
      ]
    },
    {
      "cell_type": "code",
      "execution_count": 19,
      "metadata": {
        "colab": {
          "base_uri": "https://localhost:8080/"
        },
        "id": "Ev81ApuBvAoI",
        "outputId": "aaf20c77-2f79-48df-9a90-c4e42f1d5768"
      },
      "outputs": [
        {
          "output_type": "execute_result",
          "data": {
            "text/plain": [
              "(6400, 52)"
            ]
          },
          "metadata": {},
          "execution_count": 19
        }
      ],
      "source": [
        "df_tracks_exploration.shape"
      ]
    },
    {
      "cell_type": "code",
      "execution_count": 20,
      "metadata": {
        "colab": {
          "base_uri": "https://localhost:8080/",
          "height": 640
        },
        "id": "w5b_rwh4lNRE",
        "outputId": "314fa1d2-7c6d-47a6-a475-1b79d21f4e8a"
      },
      "outputs": [
        {
          "output_type": "execute_result",
          "data": {
            "text/plain": [
              "            album                                                           \\\n",
              "         comments        date_created date_released engineer favorites  id   \n",
              "track_id                                                                     \n",
              "2               0 2008-11-26 01:44:45    2009-01-05      NaN         4   1   \n",
              "5               0 2008-11-26 01:44:45    2009-01-05      NaN         4   1   \n",
              "10              0 2008-11-26 01:45:08    2008-02-06      NaN         4   6   \n",
              "140             1 2008-11-26 01:49:59    2007-05-22      NaN         1  61   \n",
              "141             0 2008-11-26 01:49:57    2009-01-16      NaN         1  60   \n",
              "\n",
              "                                                                     \\\n",
              "                                                information listens   \n",
              "track_id                                                              \n",
              "2                                                   <p></p>    6073   \n",
              "5                                                   <p></p>    6073   \n",
              "10                                                      NaN   47632   \n",
              "140       <p>Alec K. Redfearn &amp; The Eyesores: Ellen ...    1300   \n",
              "141       <p>A full ensamble of strings, drums, electron...    1304   \n",
              "\n",
              "                                               ...       track           \\\n",
              "                                producer tags  ... information interest   \n",
              "track_id                                       ...                        \n",
              "2                                    NaN   []  ...         NaN     4656   \n",
              "5                                    NaN   []  ...         NaN     1933   \n",
              "10                                   NaN   []  ...         NaN    54881   \n",
              "140       Alec K. Refearn, Rob Pemberton   []  ...         NaN     1593   \n",
              "141                                  NaN   []  ...         NaN      839   \n",
              "\n",
              "                                                                           \\\n",
              "         language_code                                            license   \n",
              "track_id                                                                    \n",
              "2                   en  Attribution-NonCommercial-ShareAlike 3.0 Inter...   \n",
              "5                   en  Attribution-NonCommercial-ShareAlike 3.0 Inter...   \n",
              "10                  en  Attribution-NonCommercial-NoDerivatives (aka M...   \n",
              "140                 en  Attribution-Noncommercial-No Derivative Works ...   \n",
              "141                 en  Attribution-Noncommercial-No Derivative Works ...   \n",
              "\n",
              "                                                                     \n",
              "         listens lyricist number publisher tags               title  \n",
              "track_id                                                             \n",
              "2           1293      NaN      3       NaN   []                Food  \n",
              "5           1151      NaN      6       NaN   []          This World  \n",
              "10         50135      NaN      1       NaN   []             Freeway  \n",
              "140         1299      NaN      2       NaN   []  Queen Of The Wires  \n",
              "141          725      NaN      4       NaN   []                Ohio  \n",
              "\n",
              "[5 rows x 52 columns]"
            ],
            "text/html": [
              "\n",
              "  <div id=\"df-a8662f80-ca9c-4769-94e2-0c1d83101b43\">\n",
              "    <div class=\"colab-df-container\">\n",
              "      <div>\n",
              "<style scoped>\n",
              "    .dataframe tbody tr th:only-of-type {\n",
              "        vertical-align: middle;\n",
              "    }\n",
              "\n",
              "    .dataframe tbody tr th {\n",
              "        vertical-align: top;\n",
              "    }\n",
              "\n",
              "    .dataframe thead tr th {\n",
              "        text-align: left;\n",
              "    }\n",
              "\n",
              "    .dataframe thead tr:last-of-type th {\n",
              "        text-align: right;\n",
              "    }\n",
              "</style>\n",
              "<table border=\"1\" class=\"dataframe\">\n",
              "  <thead>\n",
              "    <tr>\n",
              "      <th></th>\n",
              "      <th colspan=\"10\" halign=\"left\">album</th>\n",
              "      <th>...</th>\n",
              "      <th colspan=\"10\" halign=\"left\">track</th>\n",
              "    </tr>\n",
              "    <tr>\n",
              "      <th></th>\n",
              "      <th>comments</th>\n",
              "      <th>date_created</th>\n",
              "      <th>date_released</th>\n",
              "      <th>engineer</th>\n",
              "      <th>favorites</th>\n",
              "      <th>id</th>\n",
              "      <th>information</th>\n",
              "      <th>listens</th>\n",
              "      <th>producer</th>\n",
              "      <th>tags</th>\n",
              "      <th>...</th>\n",
              "      <th>information</th>\n",
              "      <th>interest</th>\n",
              "      <th>language_code</th>\n",
              "      <th>license</th>\n",
              "      <th>listens</th>\n",
              "      <th>lyricist</th>\n",
              "      <th>number</th>\n",
              "      <th>publisher</th>\n",
              "      <th>tags</th>\n",
              "      <th>title</th>\n",
              "    </tr>\n",
              "    <tr>\n",
              "      <th>track_id</th>\n",
              "      <th></th>\n",
              "      <th></th>\n",
              "      <th></th>\n",
              "      <th></th>\n",
              "      <th></th>\n",
              "      <th></th>\n",
              "      <th></th>\n",
              "      <th></th>\n",
              "      <th></th>\n",
              "      <th></th>\n",
              "      <th></th>\n",
              "      <th></th>\n",
              "      <th></th>\n",
              "      <th></th>\n",
              "      <th></th>\n",
              "      <th></th>\n",
              "      <th></th>\n",
              "      <th></th>\n",
              "      <th></th>\n",
              "      <th></th>\n",
              "      <th></th>\n",
              "    </tr>\n",
              "  </thead>\n",
              "  <tbody>\n",
              "    <tr>\n",
              "      <th>2</th>\n",
              "      <td>0</td>\n",
              "      <td>2008-11-26 01:44:45</td>\n",
              "      <td>2009-01-05</td>\n",
              "      <td>NaN</td>\n",
              "      <td>4</td>\n",
              "      <td>1</td>\n",
              "      <td>&lt;p&gt;&lt;/p&gt;</td>\n",
              "      <td>6073</td>\n",
              "      <td>NaN</td>\n",
              "      <td>[]</td>\n",
              "      <td>...</td>\n",
              "      <td>NaN</td>\n",
              "      <td>4656</td>\n",
              "      <td>en</td>\n",
              "      <td>Attribution-NonCommercial-ShareAlike 3.0 Inter...</td>\n",
              "      <td>1293</td>\n",
              "      <td>NaN</td>\n",
              "      <td>3</td>\n",
              "      <td>NaN</td>\n",
              "      <td>[]</td>\n",
              "      <td>Food</td>\n",
              "    </tr>\n",
              "    <tr>\n",
              "      <th>5</th>\n",
              "      <td>0</td>\n",
              "      <td>2008-11-26 01:44:45</td>\n",
              "      <td>2009-01-05</td>\n",
              "      <td>NaN</td>\n",
              "      <td>4</td>\n",
              "      <td>1</td>\n",
              "      <td>&lt;p&gt;&lt;/p&gt;</td>\n",
              "      <td>6073</td>\n",
              "      <td>NaN</td>\n",
              "      <td>[]</td>\n",
              "      <td>...</td>\n",
              "      <td>NaN</td>\n",
              "      <td>1933</td>\n",
              "      <td>en</td>\n",
              "      <td>Attribution-NonCommercial-ShareAlike 3.0 Inter...</td>\n",
              "      <td>1151</td>\n",
              "      <td>NaN</td>\n",
              "      <td>6</td>\n",
              "      <td>NaN</td>\n",
              "      <td>[]</td>\n",
              "      <td>This World</td>\n",
              "    </tr>\n",
              "    <tr>\n",
              "      <th>10</th>\n",
              "      <td>0</td>\n",
              "      <td>2008-11-26 01:45:08</td>\n",
              "      <td>2008-02-06</td>\n",
              "      <td>NaN</td>\n",
              "      <td>4</td>\n",
              "      <td>6</td>\n",
              "      <td>NaN</td>\n",
              "      <td>47632</td>\n",
              "      <td>NaN</td>\n",
              "      <td>[]</td>\n",
              "      <td>...</td>\n",
              "      <td>NaN</td>\n",
              "      <td>54881</td>\n",
              "      <td>en</td>\n",
              "      <td>Attribution-NonCommercial-NoDerivatives (aka M...</td>\n",
              "      <td>50135</td>\n",
              "      <td>NaN</td>\n",
              "      <td>1</td>\n",
              "      <td>NaN</td>\n",
              "      <td>[]</td>\n",
              "      <td>Freeway</td>\n",
              "    </tr>\n",
              "    <tr>\n",
              "      <th>140</th>\n",
              "      <td>1</td>\n",
              "      <td>2008-11-26 01:49:59</td>\n",
              "      <td>2007-05-22</td>\n",
              "      <td>NaN</td>\n",
              "      <td>1</td>\n",
              "      <td>61</td>\n",
              "      <td>&lt;p&gt;Alec K. Redfearn &amp;amp; The Eyesores: Ellen ...</td>\n",
              "      <td>1300</td>\n",
              "      <td>Alec K. Refearn, Rob Pemberton</td>\n",
              "      <td>[]</td>\n",
              "      <td>...</td>\n",
              "      <td>NaN</td>\n",
              "      <td>1593</td>\n",
              "      <td>en</td>\n",
              "      <td>Attribution-Noncommercial-No Derivative Works ...</td>\n",
              "      <td>1299</td>\n",
              "      <td>NaN</td>\n",
              "      <td>2</td>\n",
              "      <td>NaN</td>\n",
              "      <td>[]</td>\n",
              "      <td>Queen Of The Wires</td>\n",
              "    </tr>\n",
              "    <tr>\n",
              "      <th>141</th>\n",
              "      <td>0</td>\n",
              "      <td>2008-11-26 01:49:57</td>\n",
              "      <td>2009-01-16</td>\n",
              "      <td>NaN</td>\n",
              "      <td>1</td>\n",
              "      <td>60</td>\n",
              "      <td>&lt;p&gt;A full ensamble of strings, drums, electron...</td>\n",
              "      <td>1304</td>\n",
              "      <td>NaN</td>\n",
              "      <td>[]</td>\n",
              "      <td>...</td>\n",
              "      <td>NaN</td>\n",
              "      <td>839</td>\n",
              "      <td>en</td>\n",
              "      <td>Attribution-Noncommercial-No Derivative Works ...</td>\n",
              "      <td>725</td>\n",
              "      <td>NaN</td>\n",
              "      <td>4</td>\n",
              "      <td>NaN</td>\n",
              "      <td>[]</td>\n",
              "      <td>Ohio</td>\n",
              "    </tr>\n",
              "  </tbody>\n",
              "</table>\n",
              "<p>5 rows × 52 columns</p>\n",
              "</div>\n",
              "      <button class=\"colab-df-convert\" onclick=\"convertToInteractive('df-a8662f80-ca9c-4769-94e2-0c1d83101b43')\"\n",
              "              title=\"Convert this dataframe to an interactive table.\"\n",
              "              style=\"display:none;\">\n",
              "        \n",
              "  <svg xmlns=\"http://www.w3.org/2000/svg\" height=\"24px\"viewBox=\"0 0 24 24\"\n",
              "       width=\"24px\">\n",
              "    <path d=\"M0 0h24v24H0V0z\" fill=\"none\"/>\n",
              "    <path d=\"M18.56 5.44l.94 2.06.94-2.06 2.06-.94-2.06-.94-.94-2.06-.94 2.06-2.06.94zm-11 1L8.5 8.5l.94-2.06 2.06-.94-2.06-.94L8.5 2.5l-.94 2.06-2.06.94zm10 10l.94 2.06.94-2.06 2.06-.94-2.06-.94-.94-2.06-.94 2.06-2.06.94z\"/><path d=\"M17.41 7.96l-1.37-1.37c-.4-.4-.92-.59-1.43-.59-.52 0-1.04.2-1.43.59L10.3 9.45l-7.72 7.72c-.78.78-.78 2.05 0 2.83L4 21.41c.39.39.9.59 1.41.59.51 0 1.02-.2 1.41-.59l7.78-7.78 2.81-2.81c.8-.78.8-2.07 0-2.86zM5.41 20L4 18.59l7.72-7.72 1.47 1.35L5.41 20z\"/>\n",
              "  </svg>\n",
              "      </button>\n",
              "      \n",
              "  <style>\n",
              "    .colab-df-container {\n",
              "      display:flex;\n",
              "      flex-wrap:wrap;\n",
              "      gap: 12px;\n",
              "    }\n",
              "\n",
              "    .colab-df-convert {\n",
              "      background-color: #E8F0FE;\n",
              "      border: none;\n",
              "      border-radius: 50%;\n",
              "      cursor: pointer;\n",
              "      display: none;\n",
              "      fill: #1967D2;\n",
              "      height: 32px;\n",
              "      padding: 0 0 0 0;\n",
              "      width: 32px;\n",
              "    }\n",
              "\n",
              "    .colab-df-convert:hover {\n",
              "      background-color: #E2EBFA;\n",
              "      box-shadow: 0px 1px 2px rgba(60, 64, 67, 0.3), 0px 1px 3px 1px rgba(60, 64, 67, 0.15);\n",
              "      fill: #174EA6;\n",
              "    }\n",
              "\n",
              "    [theme=dark] .colab-df-convert {\n",
              "      background-color: #3B4455;\n",
              "      fill: #D2E3FC;\n",
              "    }\n",
              "\n",
              "    [theme=dark] .colab-df-convert:hover {\n",
              "      background-color: #434B5C;\n",
              "      box-shadow: 0px 1px 3px 1px rgba(0, 0, 0, 0.15);\n",
              "      filter: drop-shadow(0px 1px 2px rgba(0, 0, 0, 0.3));\n",
              "      fill: #FFFFFF;\n",
              "    }\n",
              "  </style>\n",
              "\n",
              "      <script>\n",
              "        const buttonEl =\n",
              "          document.querySelector('#df-a8662f80-ca9c-4769-94e2-0c1d83101b43 button.colab-df-convert');\n",
              "        buttonEl.style.display =\n",
              "          google.colab.kernel.accessAllowed ? 'block' : 'none';\n",
              "\n",
              "        async function convertToInteractive(key) {\n",
              "          const element = document.querySelector('#df-a8662f80-ca9c-4769-94e2-0c1d83101b43');\n",
              "          const dataTable =\n",
              "            await google.colab.kernel.invokeFunction('convertToInteractive',\n",
              "                                                     [key], {});\n",
              "          if (!dataTable) return;\n",
              "\n",
              "          const docLinkHtml = 'Like what you see? Visit the ' +\n",
              "            '<a target=\"_blank\" href=https://colab.research.google.com/notebooks/data_table.ipynb>data table notebook</a>'\n",
              "            + ' to learn more about interactive tables.';\n",
              "          element.innerHTML = '';\n",
              "          dataTable['output_type'] = 'display_data';\n",
              "          await google.colab.output.renderOutput(dataTable, element);\n",
              "          const docLink = document.createElement('div');\n",
              "          docLink.innerHTML = docLinkHtml;\n",
              "          element.appendChild(docLink);\n",
              "        }\n",
              "      </script>\n",
              "    </div>\n",
              "  </div>\n",
              "  "
            ]
          },
          "metadata": {},
          "execution_count": 20
        }
      ],
      "source": [
>>>>>>> evan
        "# Show general structure, values and data types of properties for each track.\n",
        "df_tracks_exploration.head()\n",
        "\n",
        "# Interpretation: tracks.csv contains metadata on each track. Some attributes \n",
        "# could serve as features (e.g tags, artist), but these will not be used for \n",
        "# training as the project goal is to classify based on the music itself. \n",
        "\n",
        "# Only 'genre_top' (which is applicable for our FMA dataset size choice) will \n",
        "# be used via a later track_id join with features.csv, serving as our target \n",
        "# output variable y."
      ]
    },
    {
      "cell_type": "code",
<<<<<<< HEAD
      "execution_count": 334,
=======
      "execution_count": 21,
>>>>>>> evan
      "metadata": {
        "id": "3UmKZ9FZX_Hc"
      },
      "outputs": [],
      "source": [
        "# df_tracks_exploration.value_counts()"
      ]
    },
    {
      "cell_type": "code",
<<<<<<< HEAD
      "execution_count": 335,
=======
      "execution_count": 22,
>>>>>>> evan
      "metadata": {
        "colab": {
          "base_uri": "https://localhost:8080/",
          "height": 338
        },
        "id": "3vM_GDPTH2MU",
<<<<<<< HEAD
        "outputId": "b25eb0db-37b3-449b-d433-b0dca3720602"
=======
        "outputId": "495aae99-d6b2-4433-917a-db1f61b9dc36"
>>>>>>> evan
      },
      "outputs": [
        {
          "output_type": "execute_result",
          "data": {
            "text/plain": [
<<<<<<< HEAD
              "<matplotlib.axes._subplots.AxesSubplot at 0x7f0a6411e150>"
            ]
          },
          "metadata": {},
          "execution_count": 335
=======
              "<matplotlib.axes._subplots.AxesSubplot at 0x7f5e2d79a250>"
            ]
          },
          "metadata": {},
          "execution_count": 22
>>>>>>> evan
        },
        {
          "output_type": "display_data",
          "data": {
            "text/plain": [
              "<Figure size 1080x360 with 1 Axes>"
            ],
            "image/png": "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\n"
          },
          "metadata": {
            "needs_background": "light"
          }
        }
      ],
      "source": [
        "# Display top level genres are 8 balanced genre classes\n",
        "df_tracks_exploration['track']['genre_top'].hist(bins=50, figsize=(15, 5))"
      ]
    },
    {
      "cell_type": "markdown",
      "metadata": {
        "id": "DlvATjbKhOsY"
      },
      "source": [
        "##### Features Dataset\n",
        "\n",
        "This section explores features.csv."
      ]
    },
    {
      "cell_type": "code",
      "source": [
        "df_tracks_exploration.columns"
      ],
      "metadata": {
        "id": "y38ZyPXt0H7V",
<<<<<<< HEAD
        "outputId": "b0245d68-3c2c-441c-8f7f-467013bc62e7",
=======
        "outputId": "b67945a8-106f-4a67-9742-0af0b51d9d74",
>>>>>>> evan
        "colab": {
          "base_uri": "https://localhost:8080/"
        }
      },
<<<<<<< HEAD
      "execution_count": 336,
=======
      "execution_count": 23,
>>>>>>> evan
      "outputs": [
        {
          "output_type": "execute_result",
          "data": {
            "text/plain": [
              "MultiIndex([( 'album',          'comments'),\n",
              "            ( 'album',      'date_created'),\n",
              "            ( 'album',     'date_released'),\n",
              "            ( 'album',          'engineer'),\n",
              "            ( 'album',         'favorites'),\n",
              "            ( 'album',                'id'),\n",
              "            ( 'album',       'information'),\n",
              "            ( 'album',           'listens'),\n",
              "            ( 'album',          'producer'),\n",
              "            ( 'album',              'tags'),\n",
              "            ( 'album',             'title'),\n",
              "            ( 'album',            'tracks'),\n",
              "            ( 'album',              'type'),\n",
              "            ('artist', 'active_year_begin'),\n",
              "            ('artist',   'active_year_end'),\n",
              "            ('artist', 'associated_labels'),\n",
              "            ('artist',               'bio'),\n",
              "            ('artist',          'comments'),\n",
              "            ('artist',      'date_created'),\n",
              "            ('artist',         'favorites'),\n",
              "            ('artist',                'id'),\n",
              "            ('artist',          'latitude'),\n",
              "            ('artist',          'location'),\n",
              "            ('artist',         'longitude'),\n",
              "            ('artist',           'members'),\n",
              "            ('artist',              'name'),\n",
              "            ('artist',  'related_projects'),\n",
              "            ('artist',              'tags'),\n",
              "            ('artist',           'website'),\n",
              "            ('artist',    'wikipedia_page'),\n",
              "            (   'set',             'split'),\n",
              "            (   'set',            'subset'),\n",
              "            ( 'track',          'bit_rate'),\n",
              "            ( 'track',          'comments'),\n",
              "            ( 'track',          'composer'),\n",
              "            ( 'track',      'date_created'),\n",
              "            ( 'track',     'date_recorded'),\n",
              "            ( 'track',          'duration'),\n",
              "            ( 'track',         'favorites'),\n",
              "            ( 'track',         'genre_top'),\n",
              "            ( 'track',            'genres'),\n",
              "            ( 'track',        'genres_all'),\n",
              "            ( 'track',       'information'),\n",
              "            ( 'track',          'interest'),\n",
              "            ( 'track',     'language_code'),\n",
              "            ( 'track',           'license'),\n",
              "            ( 'track',           'listens'),\n",
              "            ( 'track',          'lyricist'),\n",
              "            ( 'track',            'number'),\n",
              "            ( 'track',         'publisher'),\n",
              "            ( 'track',              'tags'),\n",
              "            ( 'track',             'title')],\n",
              "           )"
            ]
          },
          "metadata": {},
<<<<<<< HEAD
          "execution_count": 336
=======
          "execution_count": 23
>>>>>>> evan
        }
      ]
    },
    {
      "cell_type": "code",
      "source": [
        "df_features.columns"
      ],
      "metadata": {
        "id": "H39JqaqA0UZS",
<<<<<<< HEAD
        "outputId": "0a40bea2-0035-4ec0-8584-44a17c563e1c",
=======
        "outputId": "0ce2f41d-8a78-42f1-e30b-c710663bfe5b",
>>>>>>> evan
        "colab": {
          "base_uri": "https://localhost:8080/"
        }
      },
<<<<<<< HEAD
      "execution_count": 337,
=======
      "execution_count": 24,
>>>>>>> evan
      "outputs": [
        {
          "output_type": "execute_result",
          "data": {
            "text/plain": [
              "MultiIndex([('chroma_cens', 'kurtosis', '01'),\n",
              "            ('chroma_cens', 'kurtosis', '02'),\n",
              "            ('chroma_cens', 'kurtosis', '03'),\n",
              "            ('chroma_cens', 'kurtosis', '04'),\n",
              "            ('chroma_cens', 'kurtosis', '05'),\n",
              "            ('chroma_cens', 'kurtosis', '06'),\n",
              "            ('chroma_cens', 'kurtosis', '07'),\n",
              "            ('chroma_cens', 'kurtosis', '08'),\n",
              "            ('chroma_cens', 'kurtosis', '09'),\n",
              "            ('chroma_cens', 'kurtosis', '10'),\n",
              "            ...\n",
              "            (    'tonnetz',      'std', '04'),\n",
              "            (    'tonnetz',      'std', '05'),\n",
              "            (    'tonnetz',      'std', '06'),\n",
              "            (        'zcr', 'kurtosis', '01'),\n",
              "            (        'zcr',      'max', '01'),\n",
              "            (        'zcr',     'mean', '01'),\n",
              "            (        'zcr',   'median', '01'),\n",
              "            (        'zcr',      'min', '01'),\n",
              "            (        'zcr',     'skew', '01'),\n",
              "            (        'zcr',      'std', '01')],\n",
              "           names=['feature', 'statistics', 'number'], length=518)"
            ]
          },
          "metadata": {},
<<<<<<< HEAD
          "execution_count": 337
=======
          "execution_count": 24
>>>>>>> evan
        }
      ]
    },
    {
      "cell_type": "code",
<<<<<<< HEAD
      "execution_count": 338,
=======
      "execution_count": 25,
>>>>>>> evan
      "metadata": {
        "colab": {
          "base_uri": "https://localhost:8080/"
        },
        "id": "bzG2mziqWGRq",
<<<<<<< HEAD
        "outputId": "8a761f4f-8c39-4e22-cc7e-3039213c6efe"
=======
        "outputId": "8289617d-929e-48ab-d2dc-c7e919731f39"
>>>>>>> evan
      },
      "outputs": [
        {
          "output_type": "stream",
          "name": "stdout",
          "text": [
            "<class 'pandas.core.frame.DataFrame'>\n",
            "Int64Index: 8000 entries, 2 to 155066\n",
            "Columns: 518 entries, ('chroma_cens', 'kurtosis', '01') to ('zcr', 'std', '01')\n",
            "dtypes: float64(518)\n",
            "memory usage: 31.7 MB\n"
          ]
        }
      ],
      "source": [
        "df_features.info()"
      ]
    },
    {
      "cell_type": "code",
<<<<<<< HEAD
      "execution_count": 339,
=======
      "execution_count": 26,
>>>>>>> evan
      "metadata": {
        "colab": {
          "base_uri": "https://localhost:8080/",
          "height": 456
        },
        "id": "Ut-_WHHRXr7q",
<<<<<<< HEAD
        "outputId": "587a1fd7-ac27-4e37-f556-d88f4916a16c"
=======
        "outputId": "2f3e50a5-17ec-4fdd-b943-4b7b279cf6ae"
>>>>>>> evan
      },
      "outputs": [
        {
          "output_type": "execute_result",
          "data": {
            "text/plain": [
              "feature     chroma_cens                                                      \\\n",
              "statistics     kurtosis                                                       \n",
              "number               01           02           03           04           05   \n",
              "count       8000.000000  8000.000000  8000.000000  8000.000000  8000.000000   \n",
              "mean           0.111983     0.007180     0.200494     0.005261     0.067485   \n",
              "std            1.656377     1.934319     6.073813     1.288859     1.636802   \n",
              "min           -1.803165    -1.816620    -1.825738    -1.760243    -1.781202   \n",
              "25%           -0.695236    -0.732614    -0.691606    -0.698568    -0.722502   \n",
              "50%           -0.225979    -0.288605    -0.217185    -0.265719    -0.267887   \n",
              "75%            0.426059     0.326636     0.447804     0.339266     0.387846   \n",
              "max           42.851593    79.781960   517.172424    26.313240    43.405674   \n",
              "\n",
              "feature                                                                      \\\n",
              "statistics                                                                    \n",
              "number               06           07           08           09           10   \n",
              "count       8000.000000  8000.000000  8000.000000  8000.000000  8000.000000   \n",
              "mean           0.077369     0.021349     0.139799     0.012609     0.091662   \n",
              "std            1.599574     2.086226     2.983964     1.810619     1.984203   \n",
              "min           -1.718097    -1.778957    -1.745497    -1.802878    -1.787692   \n",
              "25%           -0.695780    -0.738476    -0.696258    -0.734161    -0.724942   \n",
              "50%           -0.230598    -0.309080    -0.241916    -0.306807    -0.255516   \n",
              "75%            0.411859     0.323601     0.434207     0.324868     0.402692   \n",
              "max           47.604107   101.148888   188.753738    74.518082    75.878792   \n",
              "\n",
              "feature     ...      tonnetz                                    zcr  \\\n",
              "statistics  ...          std                               kurtosis   \n",
              "number      ...           04           05           06           01   \n",
              "count       ...  8000.000000  8000.000000  8000.000000  8000.000000   \n",
              "mean        ...     0.103515     0.021801     0.022063    31.577011   \n",
              "std         ...     0.036906     0.005843     0.005811    70.380338   \n",
              "min         ...     0.014479     0.006234     0.006667    -1.790083   \n",
              "25%         ...     0.076203     0.017550     0.017851     4.452607   \n",
              "50%         ...     0.099103     0.020881     0.021280    12.284789   \n",
              "75%         ...     0.125883     0.025197     0.025516    32.293960   \n",
              "max         ...     0.279182     0.058427     0.071633  1575.385254   \n",
              "\n",
              "feature                                                                      \\\n",
              "statistics          max         mean       median          min         skew   \n",
              "number               01           01           01           01           01   \n",
              "count       8000.000000  8000.000000  8000.000000  8000.000000  8000.000000   \n",
              "mean           0.395773     0.050856     0.041552     0.002503     3.519118   \n",
              "std            0.185470     0.028484     0.027080     0.004689     2.962467   \n",
              "min            0.032715     0.003490     0.000000     0.000000    -3.143864   \n",
              "25%            0.261719     0.032412     0.024414     0.000000     1.647383   \n",
              "50%            0.368652     0.046102     0.036621     0.000977     2.721854   \n",
              "75%            0.482422     0.062770     0.052246     0.003418     4.601721   \n",
              "max            0.999512     0.629665     0.749512     0.170898    36.000904   \n",
              "\n",
              "feature                  \n",
              "statistics          std  \n",
              "number               01  \n",
              "count       8000.000000  \n",
              "mean           0.040383  \n",
              "std            0.025868  \n",
              "min            0.002608  \n",
              "25%            0.022612  \n",
              "50%            0.033839  \n",
              "75%            0.051452  \n",
              "max            0.317725  \n",
              "\n",
              "[8 rows x 518 columns]"
            ],
            "text/html": [
              "\n",
<<<<<<< HEAD
              "  <div id=\"df-5db957ea-6954-481f-bc47-69c1e009d7e5\">\n",
=======
              "  <div id=\"df-e880ae96-9637-4b30-bf88-c2df670ba8bb\">\n",
>>>>>>> evan
              "    <div class=\"colab-df-container\">\n",
              "      <div>\n",
              "<style scoped>\n",
              "    .dataframe tbody tr th:only-of-type {\n",
              "        vertical-align: middle;\n",
              "    }\n",
              "\n",
              "    .dataframe tbody tr th {\n",
              "        vertical-align: top;\n",
              "    }\n",
              "\n",
              "    .dataframe thead tr th {\n",
              "        text-align: left;\n",
              "    }\n",
              "</style>\n",
              "<table border=\"1\" class=\"dataframe\">\n",
              "  <thead>\n",
              "    <tr>\n",
              "      <th>feature</th>\n",
              "      <th colspan=\"10\" halign=\"left\">chroma_cens</th>\n",
              "      <th>...</th>\n",
              "      <th colspan=\"3\" halign=\"left\">tonnetz</th>\n",
              "      <th colspan=\"7\" halign=\"left\">zcr</th>\n",
              "    </tr>\n",
              "    <tr>\n",
              "      <th>statistics</th>\n",
              "      <th colspan=\"10\" halign=\"left\">kurtosis</th>\n",
              "      <th>...</th>\n",
              "      <th colspan=\"3\" halign=\"left\">std</th>\n",
              "      <th>kurtosis</th>\n",
              "      <th>max</th>\n",
              "      <th>mean</th>\n",
              "      <th>median</th>\n",
              "      <th>min</th>\n",
              "      <th>skew</th>\n",
              "      <th>std</th>\n",
              "    </tr>\n",
              "    <tr>\n",
              "      <th>number</th>\n",
              "      <th>01</th>\n",
              "      <th>02</th>\n",
              "      <th>03</th>\n",
              "      <th>04</th>\n",
              "      <th>05</th>\n",
              "      <th>06</th>\n",
              "      <th>07</th>\n",
              "      <th>08</th>\n",
              "      <th>09</th>\n",
              "      <th>10</th>\n",
              "      <th>...</th>\n",
              "      <th>04</th>\n",
              "      <th>05</th>\n",
              "      <th>06</th>\n",
              "      <th>01</th>\n",
              "      <th>01</th>\n",
              "      <th>01</th>\n",
              "      <th>01</th>\n",
              "      <th>01</th>\n",
              "      <th>01</th>\n",
              "      <th>01</th>\n",
              "    </tr>\n",
              "  </thead>\n",
              "  <tbody>\n",
              "    <tr>\n",
              "      <th>count</th>\n",
              "      <td>8000.000000</td>\n",
              "      <td>8000.000000</td>\n",
              "      <td>8000.000000</td>\n",
              "      <td>8000.000000</td>\n",
              "      <td>8000.000000</td>\n",
              "      <td>8000.000000</td>\n",
              "      <td>8000.000000</td>\n",
              "      <td>8000.000000</td>\n",
              "      <td>8000.000000</td>\n",
              "      <td>8000.000000</td>\n",
              "      <td>...</td>\n",
              "      <td>8000.000000</td>\n",
              "      <td>8000.000000</td>\n",
              "      <td>8000.000000</td>\n",
              "      <td>8000.000000</td>\n",
              "      <td>8000.000000</td>\n",
              "      <td>8000.000000</td>\n",
              "      <td>8000.000000</td>\n",
              "      <td>8000.000000</td>\n",
              "      <td>8000.000000</td>\n",
              "      <td>8000.000000</td>\n",
              "    </tr>\n",
              "    <tr>\n",
              "      <th>mean</th>\n",
              "      <td>0.111983</td>\n",
              "      <td>0.007180</td>\n",
              "      <td>0.200494</td>\n",
              "      <td>0.005261</td>\n",
              "      <td>0.067485</td>\n",
              "      <td>0.077369</td>\n",
              "      <td>0.021349</td>\n",
              "      <td>0.139799</td>\n",
              "      <td>0.012609</td>\n",
              "      <td>0.091662</td>\n",
              "      <td>...</td>\n",
              "      <td>0.103515</td>\n",
              "      <td>0.021801</td>\n",
              "      <td>0.022063</td>\n",
              "      <td>31.577011</td>\n",
              "      <td>0.395773</td>\n",
              "      <td>0.050856</td>\n",
              "      <td>0.041552</td>\n",
              "      <td>0.002503</td>\n",
              "      <td>3.519118</td>\n",
              "      <td>0.040383</td>\n",
              "    </tr>\n",
              "    <tr>\n",
              "      <th>std</th>\n",
              "      <td>1.656377</td>\n",
              "      <td>1.934319</td>\n",
              "      <td>6.073813</td>\n",
              "      <td>1.288859</td>\n",
              "      <td>1.636802</td>\n",
              "      <td>1.599574</td>\n",
              "      <td>2.086226</td>\n",
              "      <td>2.983964</td>\n",
              "      <td>1.810619</td>\n",
              "      <td>1.984203</td>\n",
              "      <td>...</td>\n",
              "      <td>0.036906</td>\n",
              "      <td>0.005843</td>\n",
              "      <td>0.005811</td>\n",
              "      <td>70.380338</td>\n",
              "      <td>0.185470</td>\n",
              "      <td>0.028484</td>\n",
              "      <td>0.027080</td>\n",
              "      <td>0.004689</td>\n",
              "      <td>2.962467</td>\n",
              "      <td>0.025868</td>\n",
              "    </tr>\n",
              "    <tr>\n",
              "      <th>min</th>\n",
              "      <td>-1.803165</td>\n",
              "      <td>-1.816620</td>\n",
              "      <td>-1.825738</td>\n",
              "      <td>-1.760243</td>\n",
              "      <td>-1.781202</td>\n",
              "      <td>-1.718097</td>\n",
              "      <td>-1.778957</td>\n",
              "      <td>-1.745497</td>\n",
              "      <td>-1.802878</td>\n",
              "      <td>-1.787692</td>\n",
              "      <td>...</td>\n",
              "      <td>0.014479</td>\n",
              "      <td>0.006234</td>\n",
              "      <td>0.006667</td>\n",
              "      <td>-1.790083</td>\n",
              "      <td>0.032715</td>\n",
              "      <td>0.003490</td>\n",
              "      <td>0.000000</td>\n",
              "      <td>0.000000</td>\n",
              "      <td>-3.143864</td>\n",
              "      <td>0.002608</td>\n",
              "    </tr>\n",
              "    <tr>\n",
              "      <th>25%</th>\n",
              "      <td>-0.695236</td>\n",
              "      <td>-0.732614</td>\n",
              "      <td>-0.691606</td>\n",
              "      <td>-0.698568</td>\n",
              "      <td>-0.722502</td>\n",
              "      <td>-0.695780</td>\n",
              "      <td>-0.738476</td>\n",
              "      <td>-0.696258</td>\n",
              "      <td>-0.734161</td>\n",
              "      <td>-0.724942</td>\n",
              "      <td>...</td>\n",
              "      <td>0.076203</td>\n",
              "      <td>0.017550</td>\n",
              "      <td>0.017851</td>\n",
              "      <td>4.452607</td>\n",
              "      <td>0.261719</td>\n",
              "      <td>0.032412</td>\n",
              "      <td>0.024414</td>\n",
              "      <td>0.000000</td>\n",
              "      <td>1.647383</td>\n",
              "      <td>0.022612</td>\n",
              "    </tr>\n",
              "    <tr>\n",
              "      <th>50%</th>\n",
              "      <td>-0.225979</td>\n",
              "      <td>-0.288605</td>\n",
              "      <td>-0.217185</td>\n",
              "      <td>-0.265719</td>\n",
              "      <td>-0.267887</td>\n",
              "      <td>-0.230598</td>\n",
              "      <td>-0.309080</td>\n",
              "      <td>-0.241916</td>\n",
              "      <td>-0.306807</td>\n",
              "      <td>-0.255516</td>\n",
              "      <td>...</td>\n",
              "      <td>0.099103</td>\n",
              "      <td>0.020881</td>\n",
              "      <td>0.021280</td>\n",
              "      <td>12.284789</td>\n",
              "      <td>0.368652</td>\n",
              "      <td>0.046102</td>\n",
              "      <td>0.036621</td>\n",
              "      <td>0.000977</td>\n",
              "      <td>2.721854</td>\n",
              "      <td>0.033839</td>\n",
              "    </tr>\n",
              "    <tr>\n",
              "      <th>75%</th>\n",
              "      <td>0.426059</td>\n",
              "      <td>0.326636</td>\n",
              "      <td>0.447804</td>\n",
              "      <td>0.339266</td>\n",
              "      <td>0.387846</td>\n",
              "      <td>0.411859</td>\n",
              "      <td>0.323601</td>\n",
              "      <td>0.434207</td>\n",
              "      <td>0.324868</td>\n",
              "      <td>0.402692</td>\n",
              "      <td>...</td>\n",
              "      <td>0.125883</td>\n",
              "      <td>0.025197</td>\n",
              "      <td>0.025516</td>\n",
              "      <td>32.293960</td>\n",
              "      <td>0.482422</td>\n",
              "      <td>0.062770</td>\n",
              "      <td>0.052246</td>\n",
              "      <td>0.003418</td>\n",
              "      <td>4.601721</td>\n",
              "      <td>0.051452</td>\n",
              "    </tr>\n",
              "    <tr>\n",
              "      <th>max</th>\n",
              "      <td>42.851593</td>\n",
              "      <td>79.781960</td>\n",
              "      <td>517.172424</td>\n",
              "      <td>26.313240</td>\n",
              "      <td>43.405674</td>\n",
              "      <td>47.604107</td>\n",
              "      <td>101.148888</td>\n",
              "      <td>188.753738</td>\n",
              "      <td>74.518082</td>\n",
              "      <td>75.878792</td>\n",
              "      <td>...</td>\n",
              "      <td>0.279182</td>\n",
              "      <td>0.058427</td>\n",
              "      <td>0.071633</td>\n",
              "      <td>1575.385254</td>\n",
              "      <td>0.999512</td>\n",
              "      <td>0.629665</td>\n",
              "      <td>0.749512</td>\n",
              "      <td>0.170898</td>\n",
              "      <td>36.000904</td>\n",
              "      <td>0.317725</td>\n",
              "    </tr>\n",
              "  </tbody>\n",
              "</table>\n",
              "<p>8 rows × 518 columns</p>\n",
              "</div>\n",
<<<<<<< HEAD
              "      <button class=\"colab-df-convert\" onclick=\"convertToInteractive('df-5db957ea-6954-481f-bc47-69c1e009d7e5')\"\n",
=======
              "      <button class=\"colab-df-convert\" onclick=\"convertToInteractive('df-e880ae96-9637-4b30-bf88-c2df670ba8bb')\"\n",
>>>>>>> evan
              "              title=\"Convert this dataframe to an interactive table.\"\n",
              "              style=\"display:none;\">\n",
              "        \n",
              "  <svg xmlns=\"http://www.w3.org/2000/svg\" height=\"24px\"viewBox=\"0 0 24 24\"\n",
              "       width=\"24px\">\n",
              "    <path d=\"M0 0h24v24H0V0z\" fill=\"none\"/>\n",
              "    <path d=\"M18.56 5.44l.94 2.06.94-2.06 2.06-.94-2.06-.94-.94-2.06-.94 2.06-2.06.94zm-11 1L8.5 8.5l.94-2.06 2.06-.94-2.06-.94L8.5 2.5l-.94 2.06-2.06.94zm10 10l.94 2.06.94-2.06 2.06-.94-2.06-.94-.94-2.06-.94 2.06-2.06.94z\"/><path d=\"M17.41 7.96l-1.37-1.37c-.4-.4-.92-.59-1.43-.59-.52 0-1.04.2-1.43.59L10.3 9.45l-7.72 7.72c-.78.78-.78 2.05 0 2.83L4 21.41c.39.39.9.59 1.41.59.51 0 1.02-.2 1.41-.59l7.78-7.78 2.81-2.81c.8-.78.8-2.07 0-2.86zM5.41 20L4 18.59l7.72-7.72 1.47 1.35L5.41 20z\"/>\n",
              "  </svg>\n",
              "      </button>\n",
              "      \n",
              "  <style>\n",
              "    .colab-df-container {\n",
              "      display:flex;\n",
              "      flex-wrap:wrap;\n",
              "      gap: 12px;\n",
              "    }\n",
              "\n",
              "    .colab-df-convert {\n",
              "      background-color: #E8F0FE;\n",
              "      border: none;\n",
              "      border-radius: 50%;\n",
              "      cursor: pointer;\n",
              "      display: none;\n",
              "      fill: #1967D2;\n",
              "      height: 32px;\n",
              "      padding: 0 0 0 0;\n",
              "      width: 32px;\n",
              "    }\n",
              "\n",
              "    .colab-df-convert:hover {\n",
              "      background-color: #E2EBFA;\n",
              "      box-shadow: 0px 1px 2px rgba(60, 64, 67, 0.3), 0px 1px 3px 1px rgba(60, 64, 67, 0.15);\n",
              "      fill: #174EA6;\n",
              "    }\n",
              "\n",
              "    [theme=dark] .colab-df-convert {\n",
              "      background-color: #3B4455;\n",
              "      fill: #D2E3FC;\n",
              "    }\n",
              "\n",
              "    [theme=dark] .colab-df-convert:hover {\n",
              "      background-color: #434B5C;\n",
              "      box-shadow: 0px 1px 3px 1px rgba(0, 0, 0, 0.15);\n",
              "      filter: drop-shadow(0px 1px 2px rgba(0, 0, 0, 0.3));\n",
              "      fill: #FFFFFF;\n",
              "    }\n",
              "  </style>\n",
              "\n",
              "      <script>\n",
              "        const buttonEl =\n",
<<<<<<< HEAD
              "          document.querySelector('#df-5db957ea-6954-481f-bc47-69c1e009d7e5 button.colab-df-convert');\n",
=======
              "          document.querySelector('#df-e880ae96-9637-4b30-bf88-c2df670ba8bb button.colab-df-convert');\n",
>>>>>>> evan
              "        buttonEl.style.display =\n",
              "          google.colab.kernel.accessAllowed ? 'block' : 'none';\n",
              "\n",
              "        async function convertToInteractive(key) {\n",
<<<<<<< HEAD
              "          const element = document.querySelector('#df-5db957ea-6954-481f-bc47-69c1e009d7e5');\n",
=======
              "          const element = document.querySelector('#df-e880ae96-9637-4b30-bf88-c2df670ba8bb');\n",
>>>>>>> evan
              "          const dataTable =\n",
              "            await google.colab.kernel.invokeFunction('convertToInteractive',\n",
              "                                                     [key], {});\n",
              "          if (!dataTable) return;\n",
              "\n",
              "          const docLinkHtml = 'Like what you see? Visit the ' +\n",
              "            '<a target=\"_blank\" href=https://colab.research.google.com/notebooks/data_table.ipynb>data table notebook</a>'\n",
              "            + ' to learn more about interactive tables.';\n",
              "          element.innerHTML = '';\n",
              "          dataTable['output_type'] = 'display_data';\n",
              "          await google.colab.output.renderOutput(dataTable, element);\n",
              "          const docLink = document.createElement('div');\n",
              "          docLink.innerHTML = docLinkHtml;\n",
              "          element.appendChild(docLink);\n",
              "        }\n",
              "      </script>\n",
              "    </div>\n",
              "  </div>\n",
              "  "
            ]
          },
          "metadata": {},
<<<<<<< HEAD
          "execution_count": 339
=======
          "execution_count": 26
>>>>>>> evan
        }
      ],
      "source": [
        "df_features.describe()"
      ]
    },
    {
      "cell_type": "code",
<<<<<<< HEAD
      "execution_count": 340,
=======
      "execution_count": 27,
>>>>>>> evan
      "metadata": {
        "colab": {
          "base_uri": "https://localhost:8080/"
        },
        "id": "9oLO2GA9IkMx",
<<<<<<< HEAD
        "outputId": "f8a39148-8455-40c3-ab96-38a6ba16b917"
=======
        "outputId": "012ad7e5-388c-4b02-cd3c-04122108bd82"
>>>>>>> evan
      },
      "outputs": [
        {
          "output_type": "execute_result",
          "data": {
            "text/plain": [
              "Index(['chroma_cens', 'chroma_cqt', 'chroma_stft', 'mfcc', 'rmse',\n",
              "       'spectral_bandwidth', 'spectral_centroid', 'spectral_contrast',\n",
              "       'spectral_rolloff', 'tonnetz', 'zcr'],\n",
              "      dtype='object', name='feature')"
            ]
          },
          "metadata": {},
<<<<<<< HEAD
          "execution_count": 340
=======
          "execution_count": 27
>>>>>>> evan
        }
      ],
      "source": [
        "# Display top level features\n",
        "df_features.columns.levels[0]"
      ]
    },
    {
      "cell_type": "code",
<<<<<<< HEAD
      "execution_count": 341,
=======
      "execution_count": 28,
>>>>>>> evan
      "metadata": {
        "colab": {
          "base_uri": "https://localhost:8080/"
        },
        "id": "xqmBzA-0joPQ",
<<<<<<< HEAD
        "outputId": "d4ec8b02-e45d-4c77-a5f7-bc8c7ffeb46b"
=======
        "outputId": "216f3829-cb6c-4903-f4f8-ecbdc8ebb216"
>>>>>>> evan
      },
      "outputs": [
        {
          "output_type": "execute_result",
          "data": {
            "text/plain": [
              "[('chroma_cens', 'kurtosis', '01'),\n",
              " ('chroma_cens', 'kurtosis', '02'),\n",
              " ('chroma_cens', 'kurtosis', '03'),\n",
              " ('chroma_cens', 'kurtosis', '04'),\n",
              " ('chroma_cens', 'kurtosis', '05'),\n",
              " ('chroma_cens', 'kurtosis', '06'),\n",
              " ('chroma_cens', 'kurtosis', '07'),\n",
              " ('chroma_cens', 'kurtosis', '08'),\n",
              " ('chroma_cens', 'kurtosis', '09'),\n",
              " ('chroma_cens', 'kurtosis', '10'),\n",
              " ('chroma_cens', 'kurtosis', '11'),\n",
              " ('chroma_cens', 'kurtosis', '12'),\n",
              " ('chroma_cens', 'max', '01'),\n",
              " ('chroma_cens', 'max', '02'),\n",
              " ('chroma_cens', 'max', '03'),\n",
              " ('chroma_cens', 'max', '04'),\n",
              " ('chroma_cens', 'max', '05'),\n",
              " ('chroma_cens', 'max', '06'),\n",
              " ('chroma_cens', 'max', '07'),\n",
              " ('chroma_cens', 'max', '08'),\n",
              " ('chroma_cens', 'max', '09'),\n",
              " ('chroma_cens', 'max', '10'),\n",
              " ('chroma_cens', 'max', '11'),\n",
              " ('chroma_cens', 'max', '12'),\n",
              " ('chroma_cens', 'mean', '01'),\n",
              " ('chroma_cens', 'mean', '02'),\n",
              " ('chroma_cens', 'mean', '03'),\n",
              " ('chroma_cens', 'mean', '04'),\n",
              " ('chroma_cens', 'mean', '05'),\n",
              " ('chroma_cens', 'mean', '06'),\n",
              " ('chroma_cens', 'mean', '07'),\n",
              " ('chroma_cens', 'mean', '08'),\n",
              " ('chroma_cens', 'mean', '09'),\n",
              " ('chroma_cens', 'mean', '10'),\n",
              " ('chroma_cens', 'mean', '11'),\n",
              " ('chroma_cens', 'mean', '12'),\n",
              " ('chroma_cens', 'median', '01'),\n",
              " ('chroma_cens', 'median', '02'),\n",
              " ('chroma_cens', 'median', '03'),\n",
              " ('chroma_cens', 'median', '04'),\n",
              " ('chroma_cens', 'median', '05'),\n",
              " ('chroma_cens', 'median', '06'),\n",
              " ('chroma_cens', 'median', '07'),\n",
              " ('chroma_cens', 'median', '08'),\n",
              " ('chroma_cens', 'median', '09'),\n",
              " ('chroma_cens', 'median', '10'),\n",
              " ('chroma_cens', 'median', '11'),\n",
              " ('chroma_cens', 'median', '12'),\n",
              " ('chroma_cens', 'min', '01'),\n",
              " ('chroma_cens', 'min', '02'),\n",
              " ('chroma_cens', 'min', '03'),\n",
              " ('chroma_cens', 'min', '04'),\n",
              " ('chroma_cens', 'min', '05'),\n",
              " ('chroma_cens', 'min', '06'),\n",
              " ('chroma_cens', 'min', '07'),\n",
              " ('chroma_cens', 'min', '08'),\n",
              " ('chroma_cens', 'min', '09'),\n",
              " ('chroma_cens', 'min', '10'),\n",
              " ('chroma_cens', 'min', '11'),\n",
              " ('chroma_cens', 'min', '12'),\n",
              " ('chroma_cens', 'skew', '01'),\n",
              " ('chroma_cens', 'skew', '02'),\n",
              " ('chroma_cens', 'skew', '03'),\n",
              " ('chroma_cens', 'skew', '04'),\n",
              " ('chroma_cens', 'skew', '05'),\n",
              " ('chroma_cens', 'skew', '06'),\n",
              " ('chroma_cens', 'skew', '07'),\n",
              " ('chroma_cens', 'skew', '08'),\n",
              " ('chroma_cens', 'skew', '09'),\n",
              " ('chroma_cens', 'skew', '10'),\n",
              " ('chroma_cens', 'skew', '11'),\n",
              " ('chroma_cens', 'skew', '12'),\n",
              " ('chroma_cens', 'std', '01'),\n",
              " ('chroma_cens', 'std', '02'),\n",
              " ('chroma_cens', 'std', '03'),\n",
              " ('chroma_cens', 'std', '04'),\n",
              " ('chroma_cens', 'std', '05'),\n",
              " ('chroma_cens', 'std', '06'),\n",
              " ('chroma_cens', 'std', '07'),\n",
              " ('chroma_cens', 'std', '08'),\n",
              " ('chroma_cens', 'std', '09'),\n",
              " ('chroma_cens', 'std', '10'),\n",
              " ('chroma_cens', 'std', '11'),\n",
              " ('chroma_cens', 'std', '12'),\n",
              " ('chroma_cqt', 'kurtosis', '01'),\n",
              " ('chroma_cqt', 'kurtosis', '02'),\n",
              " ('chroma_cqt', 'kurtosis', '03'),\n",
              " ('chroma_cqt', 'kurtosis', '04'),\n",
              " ('chroma_cqt', 'kurtosis', '05'),\n",
              " ('chroma_cqt', 'kurtosis', '06'),\n",
              " ('chroma_cqt', 'kurtosis', '07'),\n",
              " ('chroma_cqt', 'kurtosis', '08'),\n",
              " ('chroma_cqt', 'kurtosis', '09'),\n",
              " ('chroma_cqt', 'kurtosis', '10'),\n",
              " ('chroma_cqt', 'kurtosis', '11'),\n",
              " ('chroma_cqt', 'kurtosis', '12'),\n",
              " ('chroma_cqt', 'max', '01'),\n",
              " ('chroma_cqt', 'max', '02'),\n",
              " ('chroma_cqt', 'max', '03'),\n",
              " ('chroma_cqt', 'max', '04'),\n",
              " ('chroma_cqt', 'max', '05'),\n",
              " ('chroma_cqt', 'max', '06'),\n",
              " ('chroma_cqt', 'max', '07'),\n",
              " ('chroma_cqt', 'max', '08'),\n",
              " ('chroma_cqt', 'max', '09'),\n",
              " ('chroma_cqt', 'max', '10'),\n",
              " ('chroma_cqt', 'max', '11'),\n",
              " ('chroma_cqt', 'max', '12'),\n",
              " ('chroma_cqt', 'mean', '01'),\n",
              " ('chroma_cqt', 'mean', '02'),\n",
              " ('chroma_cqt', 'mean', '03'),\n",
              " ('chroma_cqt', 'mean', '04'),\n",
              " ('chroma_cqt', 'mean', '05'),\n",
              " ('chroma_cqt', 'mean', '06'),\n",
              " ('chroma_cqt', 'mean', '07'),\n",
              " ('chroma_cqt', 'mean', '08'),\n",
              " ('chroma_cqt', 'mean', '09'),\n",
              " ('chroma_cqt', 'mean', '10'),\n",
              " ('chroma_cqt', 'mean', '11'),\n",
              " ('chroma_cqt', 'mean', '12'),\n",
              " ('chroma_cqt', 'median', '01'),\n",
              " ('chroma_cqt', 'median', '02'),\n",
              " ('chroma_cqt', 'median', '03'),\n",
              " ('chroma_cqt', 'median', '04'),\n",
              " ('chroma_cqt', 'median', '05'),\n",
              " ('chroma_cqt', 'median', '06'),\n",
              " ('chroma_cqt', 'median', '07'),\n",
              " ('chroma_cqt', 'median', '08'),\n",
              " ('chroma_cqt', 'median', '09'),\n",
              " ('chroma_cqt', 'median', '10'),\n",
              " ('chroma_cqt', 'median', '11'),\n",
              " ('chroma_cqt', 'median', '12'),\n",
              " ('chroma_cqt', 'min', '01'),\n",
              " ('chroma_cqt', 'min', '02'),\n",
              " ('chroma_cqt', 'min', '03'),\n",
              " ('chroma_cqt', 'min', '04'),\n",
              " ('chroma_cqt', 'min', '05'),\n",
              " ('chroma_cqt', 'min', '06'),\n",
              " ('chroma_cqt', 'min', '07'),\n",
              " ('chroma_cqt', 'min', '08'),\n",
              " ('chroma_cqt', 'min', '09'),\n",
              " ('chroma_cqt', 'min', '10'),\n",
              " ('chroma_cqt', 'min', '11'),\n",
              " ('chroma_cqt', 'min', '12'),\n",
              " ('chroma_cqt', 'skew', '01'),\n",
              " ('chroma_cqt', 'skew', '02'),\n",
              " ('chroma_cqt', 'skew', '03'),\n",
              " ('chroma_cqt', 'skew', '04'),\n",
              " ('chroma_cqt', 'skew', '05'),\n",
              " ('chroma_cqt', 'skew', '06'),\n",
              " ('chroma_cqt', 'skew', '07'),\n",
              " ('chroma_cqt', 'skew', '08'),\n",
              " ('chroma_cqt', 'skew', '09'),\n",
              " ('chroma_cqt', 'skew', '10'),\n",
              " ('chroma_cqt', 'skew', '11'),\n",
              " ('chroma_cqt', 'skew', '12'),\n",
              " ('chroma_cqt', 'std', '01'),\n",
              " ('chroma_cqt', 'std', '02'),\n",
              " ('chroma_cqt', 'std', '03'),\n",
              " ('chroma_cqt', 'std', '04'),\n",
              " ('chroma_cqt', 'std', '05'),\n",
              " ('chroma_cqt', 'std', '06'),\n",
              " ('chroma_cqt', 'std', '07'),\n",
              " ('chroma_cqt', 'std', '08'),\n",
              " ('chroma_cqt', 'std', '09'),\n",
              " ('chroma_cqt', 'std', '10'),\n",
              " ('chroma_cqt', 'std', '11'),\n",
              " ('chroma_cqt', 'std', '12'),\n",
              " ('chroma_stft', 'kurtosis', '01'),\n",
              " ('chroma_stft', 'kurtosis', '02'),\n",
              " ('chroma_stft', 'kurtosis', '03'),\n",
              " ('chroma_stft', 'kurtosis', '04'),\n",
              " ('chroma_stft', 'kurtosis', '05'),\n",
              " ('chroma_stft', 'kurtosis', '06'),\n",
              " ('chroma_stft', 'kurtosis', '07'),\n",
              " ('chroma_stft', 'kurtosis', '08'),\n",
              " ('chroma_stft', 'kurtosis', '09'),\n",
              " ('chroma_stft', 'kurtosis', '10'),\n",
              " ('chroma_stft', 'kurtosis', '11'),\n",
              " ('chroma_stft', 'kurtosis', '12'),\n",
              " ('chroma_stft', 'max', '01'),\n",
              " ('chroma_stft', 'max', '02'),\n",
              " ('chroma_stft', 'max', '03'),\n",
              " ('chroma_stft', 'max', '04'),\n",
              " ('chroma_stft', 'max', '05'),\n",
              " ('chroma_stft', 'max', '06'),\n",
              " ('chroma_stft', 'max', '07'),\n",
              " ('chroma_stft', 'max', '08'),\n",
              " ('chroma_stft', 'max', '09'),\n",
              " ('chroma_stft', 'max', '10'),\n",
              " ('chroma_stft', 'max', '11'),\n",
              " ('chroma_stft', 'max', '12'),\n",
              " ('chroma_stft', 'mean', '01'),\n",
              " ('chroma_stft', 'mean', '02'),\n",
              " ('chroma_stft', 'mean', '03'),\n",
              " ('chroma_stft', 'mean', '04'),\n",
              " ('chroma_stft', 'mean', '05'),\n",
              " ('chroma_stft', 'mean', '06'),\n",
              " ('chroma_stft', 'mean', '07'),\n",
              " ('chroma_stft', 'mean', '08'),\n",
              " ('chroma_stft', 'mean', '09'),\n",
              " ('chroma_stft', 'mean', '10'),\n",
              " ('chroma_stft', 'mean', '11'),\n",
              " ('chroma_stft', 'mean', '12'),\n",
              " ('chroma_stft', 'median', '01'),\n",
              " ('chroma_stft', 'median', '02'),\n",
              " ('chroma_stft', 'median', '03'),\n",
              " ('chroma_stft', 'median', '04'),\n",
              " ('chroma_stft', 'median', '05'),\n",
              " ('chroma_stft', 'median', '06'),\n",
              " ('chroma_stft', 'median', '07'),\n",
              " ('chroma_stft', 'median', '08'),\n",
              " ('chroma_stft', 'median', '09'),\n",
              " ('chroma_stft', 'median', '10'),\n",
              " ('chroma_stft', 'median', '11'),\n",
              " ('chroma_stft', 'median', '12'),\n",
              " ('chroma_stft', 'min', '01'),\n",
              " ('chroma_stft', 'min', '02'),\n",
              " ('chroma_stft', 'min', '03'),\n",
              " ('chroma_stft', 'min', '04'),\n",
              " ('chroma_stft', 'min', '05'),\n",
              " ('chroma_stft', 'min', '06'),\n",
              " ('chroma_stft', 'min', '07'),\n",
              " ('chroma_stft', 'min', '08'),\n",
              " ('chroma_stft', 'min', '09'),\n",
              " ('chroma_stft', 'min', '10'),\n",
              " ('chroma_stft', 'min', '11'),\n",
              " ('chroma_stft', 'min', '12'),\n",
              " ('chroma_stft', 'skew', '01'),\n",
              " ('chroma_stft', 'skew', '02'),\n",
              " ('chroma_stft', 'skew', '03'),\n",
              " ('chroma_stft', 'skew', '04'),\n",
              " ('chroma_stft', 'skew', '05'),\n",
              " ('chroma_stft', 'skew', '06'),\n",
              " ('chroma_stft', 'skew', '07'),\n",
              " ('chroma_stft', 'skew', '08'),\n",
              " ('chroma_stft', 'skew', '09'),\n",
              " ('chroma_stft', 'skew', '10'),\n",
              " ('chroma_stft', 'skew', '11'),\n",
              " ('chroma_stft', 'skew', '12'),\n",
              " ('chroma_stft', 'std', '01'),\n",
              " ('chroma_stft', 'std', '02'),\n",
              " ('chroma_stft', 'std', '03'),\n",
              " ('chroma_stft', 'std', '04'),\n",
              " ('chroma_stft', 'std', '05'),\n",
              " ('chroma_stft', 'std', '06'),\n",
              " ('chroma_stft', 'std', '07'),\n",
              " ('chroma_stft', 'std', '08'),\n",
              " ('chroma_stft', 'std', '09'),\n",
              " ('chroma_stft', 'std', '10'),\n",
              " ('chroma_stft', 'std', '11'),\n",
              " ('chroma_stft', 'std', '12'),\n",
              " ('mfcc', 'kurtosis', '01'),\n",
              " ('mfcc', 'kurtosis', '02'),\n",
              " ('mfcc', 'kurtosis', '03'),\n",
              " ('mfcc', 'kurtosis', '04'),\n",
              " ('mfcc', 'kurtosis', '05'),\n",
              " ('mfcc', 'kurtosis', '06'),\n",
              " ('mfcc', 'kurtosis', '07'),\n",
              " ('mfcc', 'kurtosis', '08'),\n",
              " ('mfcc', 'kurtosis', '09'),\n",
              " ('mfcc', 'kurtosis', '10'),\n",
              " ('mfcc', 'kurtosis', '11'),\n",
              " ('mfcc', 'kurtosis', '12'),\n",
              " ('mfcc', 'kurtosis', '13'),\n",
              " ('mfcc', 'kurtosis', '14'),\n",
              " ('mfcc', 'kurtosis', '15'),\n",
              " ('mfcc', 'kurtosis', '16'),\n",
              " ('mfcc', 'kurtosis', '17'),\n",
              " ('mfcc', 'kurtosis', '18'),\n",
              " ('mfcc', 'kurtosis', '19'),\n",
              " ('mfcc', 'kurtosis', '20'),\n",
              " ('mfcc', 'max', '01'),\n",
              " ('mfcc', 'max', '02'),\n",
              " ('mfcc', 'max', '03'),\n",
              " ('mfcc', 'max', '04'),\n",
              " ('mfcc', 'max', '05'),\n",
              " ('mfcc', 'max', '06'),\n",
              " ('mfcc', 'max', '07'),\n",
              " ('mfcc', 'max', '08'),\n",
              " ('mfcc', 'max', '09'),\n",
              " ('mfcc', 'max', '10'),\n",
              " ('mfcc', 'max', '11'),\n",
              " ('mfcc', 'max', '12'),\n",
              " ('mfcc', 'max', '13'),\n",
              " ('mfcc', 'max', '14'),\n",
              " ('mfcc', 'max', '15'),\n",
              " ('mfcc', 'max', '16'),\n",
              " ('mfcc', 'max', '17'),\n",
              " ('mfcc', 'max', '18'),\n",
              " ('mfcc', 'max', '19'),\n",
              " ('mfcc', 'max', '20'),\n",
              " ('mfcc', 'mean', '01'),\n",
              " ('mfcc', 'mean', '02'),\n",
              " ('mfcc', 'mean', '03'),\n",
              " ('mfcc', 'mean', '04'),\n",
              " ('mfcc', 'mean', '05'),\n",
              " ('mfcc', 'mean', '06'),\n",
              " ('mfcc', 'mean', '07'),\n",
              " ('mfcc', 'mean', '08'),\n",
              " ('mfcc', 'mean', '09'),\n",
              " ('mfcc', 'mean', '10'),\n",
              " ('mfcc', 'mean', '11'),\n",
              " ('mfcc', 'mean', '12'),\n",
              " ('mfcc', 'mean', '13'),\n",
              " ('mfcc', 'mean', '14'),\n",
              " ('mfcc', 'mean', '15'),\n",
              " ('mfcc', 'mean', '16'),\n",
              " ('mfcc', 'mean', '17'),\n",
              " ('mfcc', 'mean', '18'),\n",
              " ('mfcc', 'mean', '19'),\n",
              " ('mfcc', 'mean', '20'),\n",
              " ('mfcc', 'median', '01'),\n",
              " ('mfcc', 'median', '02'),\n",
              " ('mfcc', 'median', '03'),\n",
              " ('mfcc', 'median', '04'),\n",
              " ('mfcc', 'median', '05'),\n",
              " ('mfcc', 'median', '06'),\n",
              " ('mfcc', 'median', '07'),\n",
              " ('mfcc', 'median', '08'),\n",
              " ('mfcc', 'median', '09'),\n",
              " ('mfcc', 'median', '10'),\n",
              " ('mfcc', 'median', '11'),\n",
              " ('mfcc', 'median', '12'),\n",
              " ('mfcc', 'median', '13'),\n",
              " ('mfcc', 'median', '14'),\n",
              " ('mfcc', 'median', '15'),\n",
              " ('mfcc', 'median', '16'),\n",
              " ('mfcc', 'median', '17'),\n",
              " ('mfcc', 'median', '18'),\n",
              " ('mfcc', 'median', '19'),\n",
              " ('mfcc', 'median', '20'),\n",
              " ('mfcc', 'min', '01'),\n",
              " ('mfcc', 'min', '02'),\n",
              " ('mfcc', 'min', '03'),\n",
              " ('mfcc', 'min', '04'),\n",
              " ('mfcc', 'min', '05'),\n",
              " ('mfcc', 'min', '06'),\n",
              " ('mfcc', 'min', '07'),\n",
              " ('mfcc', 'min', '08'),\n",
              " ('mfcc', 'min', '09'),\n",
              " ('mfcc', 'min', '10'),\n",
              " ('mfcc', 'min', '11'),\n",
              " ('mfcc', 'min', '12'),\n",
              " ('mfcc', 'min', '13'),\n",
              " ('mfcc', 'min', '14'),\n",
              " ('mfcc', 'min', '15'),\n",
              " ('mfcc', 'min', '16'),\n",
              " ('mfcc', 'min', '17'),\n",
              " ('mfcc', 'min', '18'),\n",
              " ('mfcc', 'min', '19'),\n",
              " ('mfcc', 'min', '20'),\n",
              " ('mfcc', 'skew', '01'),\n",
              " ('mfcc', 'skew', '02'),\n",
              " ('mfcc', 'skew', '03'),\n",
              " ('mfcc', 'skew', '04'),\n",
              " ('mfcc', 'skew', '05'),\n",
              " ('mfcc', 'skew', '06'),\n",
              " ('mfcc', 'skew', '07'),\n",
              " ('mfcc', 'skew', '08'),\n",
              " ('mfcc', 'skew', '09'),\n",
              " ('mfcc', 'skew', '10'),\n",
              " ('mfcc', 'skew', '11'),\n",
              " ('mfcc', 'skew', '12'),\n",
              " ('mfcc', 'skew', '13'),\n",
              " ('mfcc', 'skew', '14'),\n",
              " ('mfcc', 'skew', '15'),\n",
              " ('mfcc', 'skew', '16'),\n",
              " ('mfcc', 'skew', '17'),\n",
              " ('mfcc', 'skew', '18'),\n",
              " ('mfcc', 'skew', '19'),\n",
              " ('mfcc', 'skew', '20'),\n",
              " ('mfcc', 'std', '01'),\n",
              " ('mfcc', 'std', '02'),\n",
              " ('mfcc', 'std', '03'),\n",
              " ('mfcc', 'std', '04'),\n",
              " ('mfcc', 'std', '05'),\n",
              " ('mfcc', 'std', '06'),\n",
              " ('mfcc', 'std', '07'),\n",
              " ('mfcc', 'std', '08'),\n",
              " ('mfcc', 'std', '09'),\n",
              " ('mfcc', 'std', '10'),\n",
              " ('mfcc', 'std', '11'),\n",
              " ('mfcc', 'std', '12'),\n",
              " ('mfcc', 'std', '13'),\n",
              " ('mfcc', 'std', '14'),\n",
              " ('mfcc', 'std', '15'),\n",
              " ('mfcc', 'std', '16'),\n",
              " ('mfcc', 'std', '17'),\n",
              " ('mfcc', 'std', '18'),\n",
              " ('mfcc', 'std', '19'),\n",
              " ('mfcc', 'std', '20'),\n",
              " ('rmse', 'kurtosis', '01'),\n",
              " ('rmse', 'max', '01'),\n",
              " ('rmse', 'mean', '01'),\n",
              " ('rmse', 'median', '01'),\n",
              " ('rmse', 'min', '01'),\n",
              " ('rmse', 'skew', '01'),\n",
              " ('rmse', 'std', '01'),\n",
              " ('spectral_bandwidth', 'kurtosis', '01'),\n",
              " ('spectral_bandwidth', 'max', '01'),\n",
              " ('spectral_bandwidth', 'mean', '01'),\n",
              " ('spectral_bandwidth', 'median', '01'),\n",
              " ('spectral_bandwidth', 'min', '01'),\n",
              " ('spectral_bandwidth', 'skew', '01'),\n",
              " ('spectral_bandwidth', 'std', '01'),\n",
              " ('spectral_centroid', 'kurtosis', '01'),\n",
              " ('spectral_centroid', 'max', '01'),\n",
              " ('spectral_centroid', 'mean', '01'),\n",
              " ('spectral_centroid', 'median', '01'),\n",
              " ('spectral_centroid', 'min', '01'),\n",
              " ('spectral_centroid', 'skew', '01'),\n",
              " ('spectral_centroid', 'std', '01'),\n",
              " ('spectral_contrast', 'kurtosis', '01'),\n",
              " ('spectral_contrast', 'kurtosis', '02'),\n",
              " ('spectral_contrast', 'kurtosis', '03'),\n",
              " ('spectral_contrast', 'kurtosis', '04'),\n",
              " ('spectral_contrast', 'kurtosis', '05'),\n",
              " ('spectral_contrast', 'kurtosis', '06'),\n",
              " ('spectral_contrast', 'kurtosis', '07'),\n",
              " ('spectral_contrast', 'max', '01'),\n",
              " ('spectral_contrast', 'max', '02'),\n",
              " ('spectral_contrast', 'max', '03'),\n",
              " ('spectral_contrast', 'max', '04'),\n",
              " ('spectral_contrast', 'max', '05'),\n",
              " ('spectral_contrast', 'max', '06'),\n",
              " ('spectral_contrast', 'max', '07'),\n",
              " ('spectral_contrast', 'mean', '01'),\n",
              " ('spectral_contrast', 'mean', '02'),\n",
              " ('spectral_contrast', 'mean', '03'),\n",
              " ('spectral_contrast', 'mean', '04'),\n",
              " ('spectral_contrast', 'mean', '05'),\n",
              " ('spectral_contrast', 'mean', '06'),\n",
              " ('spectral_contrast', 'mean', '07'),\n",
              " ('spectral_contrast', 'median', '01'),\n",
              " ('spectral_contrast', 'median', '02'),\n",
              " ('spectral_contrast', 'median', '03'),\n",
              " ('spectral_contrast', 'median', '04'),\n",
              " ('spectral_contrast', 'median', '05'),\n",
              " ('spectral_contrast', 'median', '06'),\n",
              " ('spectral_contrast', 'median', '07'),\n",
              " ('spectral_contrast', 'min', '01'),\n",
              " ('spectral_contrast', 'min', '02'),\n",
              " ('spectral_contrast', 'min', '03'),\n",
              " ('spectral_contrast', 'min', '04'),\n",
              " ('spectral_contrast', 'min', '05'),\n",
              " ('spectral_contrast', 'min', '06'),\n",
              " ('spectral_contrast', 'min', '07'),\n",
              " ('spectral_contrast', 'skew', '01'),\n",
              " ('spectral_contrast', 'skew', '02'),\n",
              " ('spectral_contrast', 'skew', '03'),\n",
              " ('spectral_contrast', 'skew', '04'),\n",
              " ('spectral_contrast', 'skew', '05'),\n",
              " ('spectral_contrast', 'skew', '06'),\n",
              " ('spectral_contrast', 'skew', '07'),\n",
              " ('spectral_contrast', 'std', '01'),\n",
              " ('spectral_contrast', 'std', '02'),\n",
              " ('spectral_contrast', 'std', '03'),\n",
              " ('spectral_contrast', 'std', '04'),\n",
              " ('spectral_contrast', 'std', '05'),\n",
              " ('spectral_contrast', 'std', '06'),\n",
              " ('spectral_contrast', 'std', '07'),\n",
              " ('spectral_rolloff', 'kurtosis', '01'),\n",
              " ('spectral_rolloff', 'max', '01'),\n",
              " ('spectral_rolloff', 'mean', '01'),\n",
              " ('spectral_rolloff', 'median', '01'),\n",
              " ('spectral_rolloff', 'min', '01'),\n",
              " ('spectral_rolloff', 'skew', '01'),\n",
              " ('spectral_rolloff', 'std', '01'),\n",
              " ('tonnetz', 'kurtosis', '01'),\n",
              " ('tonnetz', 'kurtosis', '02'),\n",
              " ('tonnetz', 'kurtosis', '03'),\n",
              " ('tonnetz', 'kurtosis', '04'),\n",
              " ('tonnetz', 'kurtosis', '05'),\n",
              " ('tonnetz', 'kurtosis', '06'),\n",
              " ('tonnetz', 'max', '01'),\n",
              " ('tonnetz', 'max', '02'),\n",
              " ('tonnetz', 'max', '03'),\n",
              " ('tonnetz', 'max', '04'),\n",
              " ('tonnetz', 'max', '05'),\n",
              " ('tonnetz', 'max', '06'),\n",
              " ('tonnetz', 'mean', '01'),\n",
              " ('tonnetz', 'mean', '02'),\n",
              " ('tonnetz', 'mean', '03'),\n",
              " ('tonnetz', 'mean', '04'),\n",
              " ('tonnetz', 'mean', '05'),\n",
              " ('tonnetz', 'mean', '06'),\n",
              " ('tonnetz', 'median', '01'),\n",
              " ('tonnetz', 'median', '02'),\n",
              " ('tonnetz', 'median', '03'),\n",
              " ('tonnetz', 'median', '04'),\n",
              " ('tonnetz', 'median', '05'),\n",
              " ('tonnetz', 'median', '06'),\n",
              " ('tonnetz', 'min', '01'),\n",
              " ('tonnetz', 'min', '02'),\n",
              " ('tonnetz', 'min', '03'),\n",
              " ('tonnetz', 'min', '04'),\n",
              " ('tonnetz', 'min', '05'),\n",
              " ('tonnetz', 'min', '06'),\n",
              " ('tonnetz', 'skew', '01'),\n",
              " ('tonnetz', 'skew', '02'),\n",
              " ('tonnetz', 'skew', '03'),\n",
              " ('tonnetz', 'skew', '04'),\n",
              " ('tonnetz', 'skew', '05'),\n",
              " ('tonnetz', 'skew', '06'),\n",
              " ('tonnetz', 'std', '01'),\n",
              " ('tonnetz', 'std', '02'),\n",
              " ('tonnetz', 'std', '03'),\n",
              " ('tonnetz', 'std', '04'),\n",
              " ('tonnetz', 'std', '05'),\n",
              " ('tonnetz', 'std', '06'),\n",
              " ('zcr', 'kurtosis', '01'),\n",
              " ('zcr', 'max', '01'),\n",
              " ('zcr', 'mean', '01'),\n",
              " ('zcr', 'median', '01'),\n",
              " ('zcr', 'min', '01'),\n",
              " ('zcr', 'skew', '01'),\n",
              " ('zcr', 'std', '01')]"
            ]
          },
          "metadata": {},
<<<<<<< HEAD
          "execution_count": 341
=======
          "execution_count": 28
>>>>>>> evan
        }
      ],
      "source": [
        "# Shows each audio feature is sub-featured in terms of a statistical measure, such as kurtosis and skew.\n",
        "list(df_features.columns)"
      ]
    },
    {
      "cell_type": "code",
<<<<<<< HEAD
      "execution_count": 342,
=======
      "execution_count": 29,
>>>>>>> evan
      "metadata": {
        "colab": {
          "base_uri": "https://localhost:8080/"
        },
        "id": "VzLBUz3K3p1M",
<<<<<<< HEAD
        "outputId": "5492c371-d90c-4fdb-d77b-76c6402851be"
=======
        "outputId": "c388cd47-eece-441c-e5c6-300490415050"
>>>>>>> evan
      },
      "outputs": [
        {
          "output_type": "execute_result",
          "data": {
            "text/plain": [
              "(8000, 518)"
            ]
          },
          "metadata": {},
<<<<<<< HEAD
          "execution_count": 342
=======
          "execution_count": 29
>>>>>>> evan
        }
      ],
      "source": [
        "df_features.shape"
      ]
    },
    {
      "cell_type": "code",
<<<<<<< HEAD
      "execution_count": 343,
=======
      "execution_count": 30,
>>>>>>> evan
      "metadata": {
        "colab": {
          "base_uri": "https://localhost:8080/",
          "height": 394
        },
        "id": "9zUQNGea32Ww",
<<<<<<< HEAD
        "outputId": "5bf4917f-569f-4b1d-d501-2adf05fd48da"
=======
        "outputId": "cbe8e442-6d82-4f36-8a60-2972a8e29185"
>>>>>>> evan
      },
      "outputs": [
        {
          "output_type": "execute_result",
          "data": {
            "text/plain": [
              "feature    chroma_cens                                                    \\\n",
              "statistics    kurtosis                                                     \n",
              "number              01        02        03        04        05        06   \n",
              "track_id                                                                   \n",
              "2             7.180653  5.230309  0.249321  1.347620  1.482478  0.531371   \n",
              "5             0.527563 -0.077654 -0.279610  0.685883  1.937570  0.880839   \n",
              "10            3.702245 -0.291193  2.196742 -0.234449  1.367364  0.998411   \n",
              "140           0.533579 -0.623885 -1.086205 -1.081079 -0.765151 -0.072282   \n",
              "141           0.172898 -0.284804 -1.169662 -1.062855 -0.706868 -0.708281   \n",
              "\n",
              "feature                                             ...   tonnetz            \\\n",
              "statistics                                          ...       std             \n",
              "number            07        08        09        10  ...        04        05   \n",
              "track_id                                            ...                       \n",
              "2           1.481593  2.691455  0.866868  1.341231  ...  0.054125  0.012226   \n",
              "5          -0.923192 -0.927232  0.666617  1.038546  ...  0.040730  0.012691   \n",
              "10          1.770694  1.604566  0.521217  1.982386  ...  0.074358  0.017952   \n",
              "140        -0.882913 -0.582376 -0.884749 -0.645214  ...  0.157683  0.028070   \n",
              "141        -0.204884  0.023624 -0.642770 -0.786291  ...  0.145994  0.024342   \n",
              "\n",
              "feature                     zcr                                          \\\n",
              "statistics             kurtosis       max      mean    median       min   \n",
              "number            06         01        01        01        01        01   \n",
              "track_id                                                                  \n",
              "2           0.012111   5.758890  0.459473  0.085629  0.071289  0.000000   \n",
              "5           0.014759   6.808415  0.375000  0.053114  0.041504  0.000000   \n",
              "10          0.013921  21.434212  0.452148  0.077515  0.071777  0.000000   \n",
              "140         0.025946  11.052547  0.379395  0.052379  0.036621  0.001953   \n",
              "141         0.032111  32.994659  0.415527  0.040267  0.034668  0.002930   \n",
              "\n",
              "feature                         \n",
              "statistics      skew       std  \n",
              "number            01        01  \n",
              "track_id                        \n",
              "2           2.089872  0.061448  \n",
              "5           2.193303  0.044861  \n",
              "10          3.542325  0.040800  \n",
              "140         3.143968  0.057712  \n",
              "141         4.204097  0.028665  \n",
              "\n",
              "[5 rows x 518 columns]"
            ],
            "text/html": [
              "\n",
<<<<<<< HEAD
              "  <div id=\"df-502410d5-aadf-4989-849d-2e6d92872ceb\">\n",
=======
              "  <div id=\"df-0ee770c7-5bd7-4c4b-90ed-ad5306eb5fd4\">\n",
>>>>>>> evan
              "    <div class=\"colab-df-container\">\n",
              "      <div>\n",
              "<style scoped>\n",
              "    .dataframe tbody tr th:only-of-type {\n",
              "        vertical-align: middle;\n",
              "    }\n",
              "\n",
              "    .dataframe tbody tr th {\n",
              "        vertical-align: top;\n",
              "    }\n",
              "\n",
              "    .dataframe thead tr th {\n",
              "        text-align: left;\n",
              "    }\n",
              "\n",
              "    .dataframe thead tr:last-of-type th {\n",
              "        text-align: right;\n",
              "    }\n",
              "</style>\n",
              "<table border=\"1\" class=\"dataframe\">\n",
              "  <thead>\n",
              "    <tr>\n",
              "      <th>feature</th>\n",
              "      <th colspan=\"10\" halign=\"left\">chroma_cens</th>\n",
              "      <th>...</th>\n",
              "      <th colspan=\"3\" halign=\"left\">tonnetz</th>\n",
              "      <th colspan=\"7\" halign=\"left\">zcr</th>\n",
              "    </tr>\n",
              "    <tr>\n",
              "      <th>statistics</th>\n",
              "      <th colspan=\"10\" halign=\"left\">kurtosis</th>\n",
              "      <th>...</th>\n",
              "      <th colspan=\"3\" halign=\"left\">std</th>\n",
              "      <th>kurtosis</th>\n",
              "      <th>max</th>\n",
              "      <th>mean</th>\n",
              "      <th>median</th>\n",
              "      <th>min</th>\n",
              "      <th>skew</th>\n",
              "      <th>std</th>\n",
              "    </tr>\n",
              "    <tr>\n",
              "      <th>number</th>\n",
              "      <th>01</th>\n",
              "      <th>02</th>\n",
              "      <th>03</th>\n",
              "      <th>04</th>\n",
              "      <th>05</th>\n",
              "      <th>06</th>\n",
              "      <th>07</th>\n",
              "      <th>08</th>\n",
              "      <th>09</th>\n",
              "      <th>10</th>\n",
              "      <th>...</th>\n",
              "      <th>04</th>\n",
              "      <th>05</th>\n",
              "      <th>06</th>\n",
              "      <th>01</th>\n",
              "      <th>01</th>\n",
              "      <th>01</th>\n",
              "      <th>01</th>\n",
              "      <th>01</th>\n",
              "      <th>01</th>\n",
              "      <th>01</th>\n",
              "    </tr>\n",
              "    <tr>\n",
              "      <th>track_id</th>\n",
              "      <th></th>\n",
              "      <th></th>\n",
              "      <th></th>\n",
              "      <th></th>\n",
              "      <th></th>\n",
              "      <th></th>\n",
              "      <th></th>\n",
              "      <th></th>\n",
              "      <th></th>\n",
              "      <th></th>\n",
              "      <th></th>\n",
              "      <th></th>\n",
              "      <th></th>\n",
              "      <th></th>\n",
              "      <th></th>\n",
              "      <th></th>\n",
              "      <th></th>\n",
              "      <th></th>\n",
              "      <th></th>\n",
              "      <th></th>\n",
              "      <th></th>\n",
              "    </tr>\n",
              "  </thead>\n",
              "  <tbody>\n",
              "    <tr>\n",
              "      <th>2</th>\n",
              "      <td>7.180653</td>\n",
              "      <td>5.230309</td>\n",
              "      <td>0.249321</td>\n",
              "      <td>1.347620</td>\n",
              "      <td>1.482478</td>\n",
              "      <td>0.531371</td>\n",
              "      <td>1.481593</td>\n",
              "      <td>2.691455</td>\n",
              "      <td>0.866868</td>\n",
              "      <td>1.341231</td>\n",
              "      <td>...</td>\n",
              "      <td>0.054125</td>\n",
              "      <td>0.012226</td>\n",
              "      <td>0.012111</td>\n",
              "      <td>5.758890</td>\n",
              "      <td>0.459473</td>\n",
              "      <td>0.085629</td>\n",
              "      <td>0.071289</td>\n",
              "      <td>0.000000</td>\n",
              "      <td>2.089872</td>\n",
              "      <td>0.061448</td>\n",
              "    </tr>\n",
              "    <tr>\n",
              "      <th>5</th>\n",
              "      <td>0.527563</td>\n",
              "      <td>-0.077654</td>\n",
              "      <td>-0.279610</td>\n",
              "      <td>0.685883</td>\n",
              "      <td>1.937570</td>\n",
              "      <td>0.880839</td>\n",
              "      <td>-0.923192</td>\n",
              "      <td>-0.927232</td>\n",
              "      <td>0.666617</td>\n",
              "      <td>1.038546</td>\n",
              "      <td>...</td>\n",
              "      <td>0.040730</td>\n",
              "      <td>0.012691</td>\n",
              "      <td>0.014759</td>\n",
              "      <td>6.808415</td>\n",
              "      <td>0.375000</td>\n",
              "      <td>0.053114</td>\n",
              "      <td>0.041504</td>\n",
              "      <td>0.000000</td>\n",
              "      <td>2.193303</td>\n",
              "      <td>0.044861</td>\n",
              "    </tr>\n",
              "    <tr>\n",
              "      <th>10</th>\n",
              "      <td>3.702245</td>\n",
              "      <td>-0.291193</td>\n",
              "      <td>2.196742</td>\n",
              "      <td>-0.234449</td>\n",
              "      <td>1.367364</td>\n",
              "      <td>0.998411</td>\n",
              "      <td>1.770694</td>\n",
              "      <td>1.604566</td>\n",
              "      <td>0.521217</td>\n",
              "      <td>1.982386</td>\n",
              "      <td>...</td>\n",
              "      <td>0.074358</td>\n",
              "      <td>0.017952</td>\n",
              "      <td>0.013921</td>\n",
              "      <td>21.434212</td>\n",
              "      <td>0.452148</td>\n",
              "      <td>0.077515</td>\n",
              "      <td>0.071777</td>\n",
              "      <td>0.000000</td>\n",
              "      <td>3.542325</td>\n",
              "      <td>0.040800</td>\n",
              "    </tr>\n",
              "    <tr>\n",
              "      <th>140</th>\n",
              "      <td>0.533579</td>\n",
              "      <td>-0.623885</td>\n",
              "      <td>-1.086205</td>\n",
              "      <td>-1.081079</td>\n",
              "      <td>-0.765151</td>\n",
              "      <td>-0.072282</td>\n",
              "      <td>-0.882913</td>\n",
              "      <td>-0.582376</td>\n",
              "      <td>-0.884749</td>\n",
              "      <td>-0.645214</td>\n",
              "      <td>...</td>\n",
              "      <td>0.157683</td>\n",
              "      <td>0.028070</td>\n",
              "      <td>0.025946</td>\n",
              "      <td>11.052547</td>\n",
              "      <td>0.379395</td>\n",
              "      <td>0.052379</td>\n",
              "      <td>0.036621</td>\n",
              "      <td>0.001953</td>\n",
              "      <td>3.143968</td>\n",
              "      <td>0.057712</td>\n",
              "    </tr>\n",
              "    <tr>\n",
              "      <th>141</th>\n",
              "      <td>0.172898</td>\n",
              "      <td>-0.284804</td>\n",
              "      <td>-1.169662</td>\n",
              "      <td>-1.062855</td>\n",
              "      <td>-0.706868</td>\n",
              "      <td>-0.708281</td>\n",
              "      <td>-0.204884</td>\n",
              "      <td>0.023624</td>\n",
              "      <td>-0.642770</td>\n",
              "      <td>-0.786291</td>\n",
              "      <td>...</td>\n",
              "      <td>0.145994</td>\n",
              "      <td>0.024342</td>\n",
              "      <td>0.032111</td>\n",
              "      <td>32.994659</td>\n",
              "      <td>0.415527</td>\n",
              "      <td>0.040267</td>\n",
              "      <td>0.034668</td>\n",
              "      <td>0.002930</td>\n",
              "      <td>4.204097</td>\n",
              "      <td>0.028665</td>\n",
              "    </tr>\n",
              "  </tbody>\n",
              "</table>\n",
              "<p>5 rows × 518 columns</p>\n",
              "</div>\n",
<<<<<<< HEAD
              "      <button class=\"colab-df-convert\" onclick=\"convertToInteractive('df-502410d5-aadf-4989-849d-2e6d92872ceb')\"\n",
=======
              "      <button class=\"colab-df-convert\" onclick=\"convertToInteractive('df-0ee770c7-5bd7-4c4b-90ed-ad5306eb5fd4')\"\n",
>>>>>>> evan
              "              title=\"Convert this dataframe to an interactive table.\"\n",
              "              style=\"display:none;\">\n",
              "        \n",
              "  <svg xmlns=\"http://www.w3.org/2000/svg\" height=\"24px\"viewBox=\"0 0 24 24\"\n",
              "       width=\"24px\">\n",
              "    <path d=\"M0 0h24v24H0V0z\" fill=\"none\"/>\n",
              "    <path d=\"M18.56 5.44l.94 2.06.94-2.06 2.06-.94-2.06-.94-.94-2.06-.94 2.06-2.06.94zm-11 1L8.5 8.5l.94-2.06 2.06-.94-2.06-.94L8.5 2.5l-.94 2.06-2.06.94zm10 10l.94 2.06.94-2.06 2.06-.94-2.06-.94-.94-2.06-.94 2.06-2.06.94z\"/><path d=\"M17.41 7.96l-1.37-1.37c-.4-.4-.92-.59-1.43-.59-.52 0-1.04.2-1.43.59L10.3 9.45l-7.72 7.72c-.78.78-.78 2.05 0 2.83L4 21.41c.39.39.9.59 1.41.59.51 0 1.02-.2 1.41-.59l7.78-7.78 2.81-2.81c.8-.78.8-2.07 0-2.86zM5.41 20L4 18.59l7.72-7.72 1.47 1.35L5.41 20z\"/>\n",
              "  </svg>\n",
              "      </button>\n",
              "      \n",
              "  <style>\n",
              "    .colab-df-container {\n",
              "      display:flex;\n",
              "      flex-wrap:wrap;\n",
              "      gap: 12px;\n",
              "    }\n",
              "\n",
              "    .colab-df-convert {\n",
              "      background-color: #E8F0FE;\n",
              "      border: none;\n",
              "      border-radius: 50%;\n",
              "      cursor: pointer;\n",
              "      display: none;\n",
              "      fill: #1967D2;\n",
              "      height: 32px;\n",
              "      padding: 0 0 0 0;\n",
              "      width: 32px;\n",
              "    }\n",
              "\n",
              "    .colab-df-convert:hover {\n",
              "      background-color: #E2EBFA;\n",
              "      box-shadow: 0px 1px 2px rgba(60, 64, 67, 0.3), 0px 1px 3px 1px rgba(60, 64, 67, 0.15);\n",
              "      fill: #174EA6;\n",
              "    }\n",
              "\n",
              "    [theme=dark] .colab-df-convert {\n",
              "      background-color: #3B4455;\n",
              "      fill: #D2E3FC;\n",
              "    }\n",
              "\n",
              "    [theme=dark] .colab-df-convert:hover {\n",
              "      background-color: #434B5C;\n",
              "      box-shadow: 0px 1px 3px 1px rgba(0, 0, 0, 0.15);\n",
              "      filter: drop-shadow(0px 1px 2px rgba(0, 0, 0, 0.3));\n",
              "      fill: #FFFFFF;\n",
              "    }\n",
              "  </style>\n",
              "\n",
              "      <script>\n",
              "        const buttonEl =\n",
<<<<<<< HEAD
              "          document.querySelector('#df-502410d5-aadf-4989-849d-2e6d92872ceb button.colab-df-convert');\n",
=======
              "          document.querySelector('#df-0ee770c7-5bd7-4c4b-90ed-ad5306eb5fd4 button.colab-df-convert');\n",
>>>>>>> evan
              "        buttonEl.style.display =\n",
              "          google.colab.kernel.accessAllowed ? 'block' : 'none';\n",
              "\n",
              "        async function convertToInteractive(key) {\n",
<<<<<<< HEAD
              "          const element = document.querySelector('#df-502410d5-aadf-4989-849d-2e6d92872ceb');\n",
=======
              "          const element = document.querySelector('#df-0ee770c7-5bd7-4c4b-90ed-ad5306eb5fd4');\n",
>>>>>>> evan
              "          const dataTable =\n",
              "            await google.colab.kernel.invokeFunction('convertToInteractive',\n",
              "                                                     [key], {});\n",
              "          if (!dataTable) return;\n",
              "\n",
              "          const docLinkHtml = 'Like what you see? Visit the ' +\n",
              "            '<a target=\"_blank\" href=https://colab.research.google.com/notebooks/data_table.ipynb>data table notebook</a>'\n",
              "            + ' to learn more about interactive tables.';\n",
              "          element.innerHTML = '';\n",
              "          dataTable['output_type'] = 'display_data';\n",
              "          await google.colab.output.renderOutput(dataTable, element);\n",
              "          const docLink = document.createElement('div');\n",
              "          docLink.innerHTML = docLinkHtml;\n",
              "          element.appendChild(docLink);\n",
              "        }\n",
              "      </script>\n",
              "    </div>\n",
              "  </div>\n",
              "  "
            ]
          },
          "metadata": {},
<<<<<<< HEAD
          "execution_count": 343
=======
          "execution_count": 30
>>>>>>> evan
        }
      ],
      "source": [
        "df_features.head()"
      ]
    },
    {
      "cell_type": "code",
<<<<<<< HEAD
      "execution_count": 344,
=======
      "execution_count": 31,
>>>>>>> evan
      "metadata": {
        "colab": {
          "base_uri": "https://localhost:8080/",
          "height": 1000
        },
        "id": "1FL4iiFuYLPh",
<<<<<<< HEAD
        "outputId": "f5b26a75-05c0-49ea-f9b9-e7c467237b80"
=======
        "outputId": "0c517c1b-5b34-4e29-aec5-1991aa392ea3"
>>>>>>> evan
      },
      "outputs": [
        {
          "output_type": "execute_result",
          "data": {
            "text/plain": [
<<<<<<< HEAD
              "array([[<matplotlib.axes._subplots.AxesSubplot object at 0x7f0ae6cfafd0>,\n",
              "        <matplotlib.axes._subplots.AxesSubplot object at 0x7f0a675c0150>,\n",
              "        <matplotlib.axes._subplots.AxesSubplot object at 0x7f0a6331f750>,\n",
              "        <matplotlib.axes._subplots.AxesSubplot object at 0x7f0a6470d4d0>,\n",
              "        <matplotlib.axes._subplots.AxesSubplot object at 0x7f0a680cc690>,\n",
              "        <matplotlib.axes._subplots.AxesSubplot object at 0x7f0a63bc3a90>],\n",
              "       [<matplotlib.axes._subplots.AxesSubplot object at 0x7f0a65d76590>,\n",
              "        <matplotlib.axes._subplots.AxesSubplot object at 0x7f0a659bd150>,\n",
              "        <matplotlib.axes._subplots.AxesSubplot object at 0x7f0a65d8e450>,\n",
              "        <matplotlib.axes._subplots.AxesSubplot object at 0x7f0a6591d650>,\n",
              "        <matplotlib.axes._subplots.AxesSubplot object at 0x7f0a68392c50>,\n",
              "        <matplotlib.axes._subplots.AxesSubplot object at 0x7f0a62fd1a90>],\n",
              "       [<matplotlib.axes._subplots.AxesSubplot object at 0x7f0a655d5110>,\n",
              "        <matplotlib.axes._subplots.AxesSubplot object at 0x7f0ae8c13350>,\n",
              "        <matplotlib.axes._subplots.AxesSubplot object at 0x7f0a67a3a650>,\n",
              "        <matplotlib.axes._subplots.AxesSubplot object at 0x7f0a643cc2d0>,\n",
              "        <matplotlib.axes._subplots.AxesSubplot object at 0x7f0a6728a7d0>,\n",
              "        <matplotlib.axes._subplots.AxesSubplot object at 0x7f0a672b6850>],\n",
              "       [<matplotlib.axes._subplots.AxesSubplot object at 0x7f0a6723ce10>,\n",
              "        <matplotlib.axes._subplots.AxesSubplot object at 0x7f0a67201790>,\n",
              "        <matplotlib.axes._subplots.AxesSubplot object at 0x7f0a67195b90>,\n",
              "        <matplotlib.axes._subplots.AxesSubplot object at 0x7f0a64e4b090>,\n",
              "        <matplotlib.axes._subplots.AxesSubplot object at 0x7f0a6708fb10>,\n",
              "        <matplotlib.axes._subplots.AxesSubplot object at 0x7f0a670c0310>],\n",
              "       [<matplotlib.axes._subplots.AxesSubplot object at 0x7f0a67099790>,\n",
              "        <matplotlib.axes._subplots.AxesSubplot object at 0x7f0a64f2f950>,\n",
              "        <matplotlib.axes._subplots.AxesSubplot object at 0x7f0a67028e10>,\n",
              "        <matplotlib.axes._subplots.AxesSubplot object at 0x7f0a66ff06d0>,\n",
              "        <matplotlib.axes._subplots.AxesSubplot object at 0x7f0a66f9e7d0>,\n",
              "        <matplotlib.axes._subplots.AxesSubplot object at 0x7f0a66f40750>],\n",
              "       [<matplotlib.axes._subplots.AxesSubplot object at 0x7f0a66efcad0>,\n",
              "        <matplotlib.axes._subplots.AxesSubplot object at 0x7f0a66aa0c90>,\n",
              "        <matplotlib.axes._subplots.AxesSubplot object at 0x7f0a66a4cfd0>,\n",
              "        <matplotlib.axes._subplots.AxesSubplot object at 0x7f0a66a1eed0>,\n",
              "        <matplotlib.axes._subplots.AxesSubplot object at 0x7f0a66894bd0>,\n",
              "        <matplotlib.axes._subplots.AxesSubplot object at 0x7f0a66863090>],\n",
              "       [<matplotlib.axes._subplots.AxesSubplot object at 0x7f0a66830fd0>,\n",
              "        <matplotlib.axes._subplots.AxesSubplot object at 0x7f0a667e1910>,\n",
              "        <matplotlib.axes._subplots.AxesSubplot object at 0x7f0a66742a90>,\n",
              "        <matplotlib.axes._subplots.AxesSubplot object at 0x7f0a665ec790>,\n",
              "        <matplotlib.axes._subplots.AxesSubplot object at 0x7f0a664e7a10>,\n",
              "        <matplotlib.axes._subplots.AxesSubplot object at 0x7f0a6644ac90>]],\n",
=======
              "array([[<matplotlib.axes._subplots.AxesSubplot object at 0x7f5e2de255d0>,\n",
              "        <matplotlib.axes._subplots.AxesSubplot object at 0x7f5e2de331d0>,\n",
              "        <matplotlib.axes._subplots.AxesSubplot object at 0x7f5e2de42d90>,\n",
              "        <matplotlib.axes._subplots.AxesSubplot object at 0x7f5e2ddded10>,\n",
              "        <matplotlib.axes._subplots.AxesSubplot object at 0x7f5e2ddee710>,\n",
              "        <matplotlib.axes._subplots.AxesSubplot object at 0x7f5e2de09350>],\n",
              "       [<matplotlib.axes._subplots.AxesSubplot object at 0x7f5e2dd9ab50>,\n",
              "        <matplotlib.axes._subplots.AxesSubplot object at 0x7f5e2ddab310>,\n",
              "        <matplotlib.axes._subplots.AxesSubplot object at 0x7f5e2ddab190>,\n",
              "        <matplotlib.axes._subplots.AxesSubplot object at 0x7f5e2dac3310>,\n",
              "        <matplotlib.axes._subplots.AxesSubplot object at 0x7f5e2da68fd0>,\n",
              "        <matplotlib.axes._subplots.AxesSubplot object at 0x7f5e2da7c810>],\n",
              "       [<matplotlib.axes._subplots.AxesSubplot object at 0x7f5e2da0f290>,\n",
              "        <matplotlib.axes._subplots.AxesSubplot object at 0x7f5e2da1fcd0>,\n",
              "        <matplotlib.axes._subplots.AxesSubplot object at 0x7f5e2da32a90>,\n",
              "        <matplotlib.axes._subplots.AxesSubplot object at 0x7f5e2da44250>,\n",
              "        <matplotlib.axes._subplots.AxesSubplot object at 0x7f5e2de14dd0>,\n",
              "        <matplotlib.axes._subplots.AxesSubplot object at 0x7f5e2de7cb90>],\n",
              "       [<matplotlib.axes._subplots.AxesSubplot object at 0x7f5e2de680d0>,\n",
              "        <matplotlib.axes._subplots.AxesSubplot object at 0x7f5e2de55c50>,\n",
              "        <matplotlib.axes._subplots.AxesSubplot object at 0x7f5e2dec2ad0>,\n",
              "        <matplotlib.axes._subplots.AxesSubplot object at 0x7f5e2deb2690>,\n",
              "        <matplotlib.axes._subplots.AxesSubplot object at 0x7f5e2d9d30d0>,\n",
              "        <matplotlib.axes._subplots.AxesSubplot object at 0x7f5e2e1aa490>],\n",
              "       [<matplotlib.axes._subplots.AxesSubplot object at 0x7f5e2e193050>,\n",
              "        <matplotlib.axes._subplots.AxesSubplot object at 0x7f5e2e2031d0>,\n",
              "        <matplotlib.axes._subplots.AxesSubplot object at 0x7f5e2e1ef110>,\n",
              "        <matplotlib.axes._subplots.AxesSubplot object at 0x7f5e2e1e0350>,\n",
              "        <matplotlib.axes._subplots.AxesSubplot object at 0x7f5e2e1d1210>,\n",
              "        <matplotlib.axes._subplots.AxesSubplot object at 0x7f5e2e243710>],\n",
              "       [<matplotlib.axes._subplots.AxesSubplot object at 0x7f5e2e22b510>,\n",
              "        <matplotlib.axes._subplots.AxesSubplot object at 0x7f5e2e218b10>,\n",
              "        <matplotlib.axes._subplots.AxesSubplot object at 0x7f5e2e28af90>,\n",
              "        <matplotlib.axes._subplots.AxesSubplot object at 0x7f5e2e27f1d0>,\n",
              "        <matplotlib.axes._subplots.AxesSubplot object at 0x7f5e2e264590>,\n",
              "        <matplotlib.axes._subplots.AxesSubplot object at 0x7f5e2e254490>],\n",
              "       [<matplotlib.axes._subplots.AxesSubplot object at 0x7f5e2e2c34d0>,\n",
              "        <matplotlib.axes._subplots.AxesSubplot object at 0x7f5e2e2b3690>,\n",
              "        <matplotlib.axes._subplots.AxesSubplot object at 0x7f5e2e58c6d0>,\n",
              "        <matplotlib.axes._subplots.AxesSubplot object at 0x7f5e2e5f8390>,\n",
              "        <matplotlib.axes._subplots.AxesSubplot object at 0x7f5e2e5e9850>,\n",
              "        <matplotlib.axes._subplots.AxesSubplot object at 0x7f5e2e5da690>]],\n",
>>>>>>> evan
              "      dtype=object)"
            ]
          },
          "metadata": {},
<<<<<<< HEAD
          "execution_count": 344
=======
          "execution_count": 31
>>>>>>> evan
        },
        {
          "output_type": "display_data",
          "data": {
            "text/plain": [
              "<Figure size 1800x1080 with 42 Axes>"
            ],
            "image/png": "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\n"
          },
          "metadata": {
            "needs_background": "light"
          }
        }
      ],
      "source": [
        "df_features['tonnetz'].hist(figsize=(25,15))"
      ]
    },
    {
      "cell_type": "code",
<<<<<<< HEAD
      "execution_count": 345,
=======
      "execution_count": 32,
>>>>>>> evan
      "metadata": {
        "id": "BKP0niJINO9j"
      },
      "outputs": [],
      "source": [
        "# attributes = [\"median_house_ value\", \"median_income\", \"total_rooms\", \"housing_median_age\"]\n",
        "# scatter_matrix(features[attributes], figsize=(12, 8))"
      ]
    },
    {
      "cell_type": "code",
<<<<<<< HEAD
      "execution_count": 346,
=======
      "execution_count": 33,
>>>>>>> evan
      "metadata": {
        "colab": {
          "base_uri": "https://localhost:8080/",
          "height": 455
        },
        "id": "HM0wf2zGxN5E",
<<<<<<< HEAD
        "outputId": "3bac8c5f-cc59-48bc-d98e-2e03a4d81b36"
=======
        "outputId": "ffb25a92-abe1-4ac1-8cf4-5f003c721c27"
>>>>>>> evan
      },
      "outputs": [
        {
          "output_type": "execute_result",
          "data": {
            "text/plain": [
              "             split subset\n",
              "track_id                 \n",
              "2         training  small\n",
              "5         training  small\n",
              "10        training  small\n",
              "140       training  small\n",
              "141       training  small\n",
              "...            ...    ...\n",
              "153955    training  small\n",
              "153956    training  small\n",
              "154413    training  small\n",
              "154414    training  small\n",
              "155066    training  small\n",
              "\n",
              "[6400 rows x 2 columns]"
            ],
            "text/html": [
              "\n",
<<<<<<< HEAD
              "  <div id=\"df-00cad0cf-a2d2-47df-a042-4fb1aa3f1676\">\n",
=======
              "  <div id=\"df-6079942a-85a4-44cc-9f93-85a228cbb74d\">\n",
>>>>>>> evan
              "    <div class=\"colab-df-container\">\n",
              "      <div>\n",
              "<style scoped>\n",
              "    .dataframe tbody tr th:only-of-type {\n",
              "        vertical-align: middle;\n",
              "    }\n",
              "\n",
              "    .dataframe tbody tr th {\n",
              "        vertical-align: top;\n",
              "    }\n",
              "\n",
              "    .dataframe thead th {\n",
              "        text-align: right;\n",
              "    }\n",
              "</style>\n",
              "<table border=\"1\" class=\"dataframe\">\n",
              "  <thead>\n",
              "    <tr style=\"text-align: right;\">\n",
              "      <th></th>\n",
              "      <th>split</th>\n",
              "      <th>subset</th>\n",
              "    </tr>\n",
              "    <tr>\n",
              "      <th>track_id</th>\n",
              "      <th></th>\n",
              "      <th></th>\n",
              "    </tr>\n",
              "  </thead>\n",
              "  <tbody>\n",
              "    <tr>\n",
              "      <th>2</th>\n",
              "      <td>training</td>\n",
              "      <td>small</td>\n",
              "    </tr>\n",
              "    <tr>\n",
              "      <th>5</th>\n",
              "      <td>training</td>\n",
              "      <td>small</td>\n",
              "    </tr>\n",
              "    <tr>\n",
              "      <th>10</th>\n",
              "      <td>training</td>\n",
              "      <td>small</td>\n",
              "    </tr>\n",
              "    <tr>\n",
              "      <th>140</th>\n",
              "      <td>training</td>\n",
              "      <td>small</td>\n",
              "    </tr>\n",
              "    <tr>\n",
              "      <th>141</th>\n",
              "      <td>training</td>\n",
              "      <td>small</td>\n",
              "    </tr>\n",
              "    <tr>\n",
              "      <th>...</th>\n",
              "      <td>...</td>\n",
              "      <td>...</td>\n",
              "    </tr>\n",
              "    <tr>\n",
              "      <th>153955</th>\n",
              "      <td>training</td>\n",
              "      <td>small</td>\n",
              "    </tr>\n",
              "    <tr>\n",
              "      <th>153956</th>\n",
              "      <td>training</td>\n",
              "      <td>small</td>\n",
              "    </tr>\n",
              "    <tr>\n",
              "      <th>154413</th>\n",
              "      <td>training</td>\n",
              "      <td>small</td>\n",
              "    </tr>\n",
              "    <tr>\n",
              "      <th>154414</th>\n",
              "      <td>training</td>\n",
              "      <td>small</td>\n",
              "    </tr>\n",
              "    <tr>\n",
              "      <th>155066</th>\n",
              "      <td>training</td>\n",
              "      <td>small</td>\n",
              "    </tr>\n",
              "  </tbody>\n",
              "</table>\n",
              "<p>6400 rows × 2 columns</p>\n",
              "</div>\n",
<<<<<<< HEAD
              "      <button class=\"colab-df-convert\" onclick=\"convertToInteractive('df-00cad0cf-a2d2-47df-a042-4fb1aa3f1676')\"\n",
=======
              "      <button class=\"colab-df-convert\" onclick=\"convertToInteractive('df-6079942a-85a4-44cc-9f93-85a228cbb74d')\"\n",
>>>>>>> evan
              "              title=\"Convert this dataframe to an interactive table.\"\n",
              "              style=\"display:none;\">\n",
              "        \n",
              "  <svg xmlns=\"http://www.w3.org/2000/svg\" height=\"24px\"viewBox=\"0 0 24 24\"\n",
              "       width=\"24px\">\n",
              "    <path d=\"M0 0h24v24H0V0z\" fill=\"none\"/>\n",
              "    <path d=\"M18.56 5.44l.94 2.06.94-2.06 2.06-.94-2.06-.94-.94-2.06-.94 2.06-2.06.94zm-11 1L8.5 8.5l.94-2.06 2.06-.94-2.06-.94L8.5 2.5l-.94 2.06-2.06.94zm10 10l.94 2.06.94-2.06 2.06-.94-2.06-.94-.94-2.06-.94 2.06-2.06.94z\"/><path d=\"M17.41 7.96l-1.37-1.37c-.4-.4-.92-.59-1.43-.59-.52 0-1.04.2-1.43.59L10.3 9.45l-7.72 7.72c-.78.78-.78 2.05 0 2.83L4 21.41c.39.39.9.59 1.41.59.51 0 1.02-.2 1.41-.59l7.78-7.78 2.81-2.81c.8-.78.8-2.07 0-2.86zM5.41 20L4 18.59l7.72-7.72 1.47 1.35L5.41 20z\"/>\n",
              "  </svg>\n",
              "      </button>\n",
              "      \n",
              "  <style>\n",
              "    .colab-df-container {\n",
              "      display:flex;\n",
              "      flex-wrap:wrap;\n",
              "      gap: 12px;\n",
              "    }\n",
              "\n",
              "    .colab-df-convert {\n",
              "      background-color: #E8F0FE;\n",
              "      border: none;\n",
              "      border-radius: 50%;\n",
              "      cursor: pointer;\n",
              "      display: none;\n",
              "      fill: #1967D2;\n",
              "      height: 32px;\n",
              "      padding: 0 0 0 0;\n",
              "      width: 32px;\n",
              "    }\n",
              "\n",
              "    .colab-df-convert:hover {\n",
              "      background-color: #E2EBFA;\n",
              "      box-shadow: 0px 1px 2px rgba(60, 64, 67, 0.3), 0px 1px 3px 1px rgba(60, 64, 67, 0.15);\n",
              "      fill: #174EA6;\n",
              "    }\n",
              "\n",
              "    [theme=dark] .colab-df-convert {\n",
              "      background-color: #3B4455;\n",
              "      fill: #D2E3FC;\n",
              "    }\n",
              "\n",
              "    [theme=dark] .colab-df-convert:hover {\n",
              "      background-color: #434B5C;\n",
              "      box-shadow: 0px 1px 3px 1px rgba(0, 0, 0, 0.15);\n",
              "      filter: drop-shadow(0px 1px 2px rgba(0, 0, 0, 0.3));\n",
              "      fill: #FFFFFF;\n",
              "    }\n",
              "  </style>\n",
              "\n",
              "      <script>\n",
              "        const buttonEl =\n",
<<<<<<< HEAD
              "          document.querySelector('#df-00cad0cf-a2d2-47df-a042-4fb1aa3f1676 button.colab-df-convert');\n",
=======
              "          document.querySelector('#df-6079942a-85a4-44cc-9f93-85a228cbb74d button.colab-df-convert');\n",
>>>>>>> evan
              "        buttonEl.style.display =\n",
              "          google.colab.kernel.accessAllowed ? 'block' : 'none';\n",
              "\n",
              "        async function convertToInteractive(key) {\n",
<<<<<<< HEAD
              "          const element = document.querySelector('#df-00cad0cf-a2d2-47df-a042-4fb1aa3f1676');\n",
=======
              "          const element = document.querySelector('#df-6079942a-85a4-44cc-9f93-85a228cbb74d');\n",
>>>>>>> evan
              "          const dataTable =\n",
              "            await google.colab.kernel.invokeFunction('convertToInteractive',\n",
              "                                                     [key], {});\n",
              "          if (!dataTable) return;\n",
              "\n",
              "          const docLinkHtml = 'Like what you see? Visit the ' +\n",
              "            '<a target=\"_blank\" href=https://colab.research.google.com/notebooks/data_table.ipynb>data table notebook</a>'\n",
              "            + ' to learn more about interactive tables.';\n",
              "          element.innerHTML = '';\n",
              "          dataTable['output_type'] = 'display_data';\n",
              "          await google.colab.output.renderOutput(dataTable, element);\n",
              "          const docLink = document.createElement('div');\n",
              "          docLink.innerHTML = docLinkHtml;\n",
              "          element.appendChild(docLink);\n",
              "        }\n",
              "      </script>\n",
              "    </div>\n",
              "  </div>\n",
              "  "
            ]
          },
          "metadata": {},
<<<<<<< HEAD
          "execution_count": 346
=======
          "execution_count": 33
>>>>>>> evan
        }
      ],
      "source": [
        "df_tracks_exploration['set']"
      ]
    },
    {
      "cell_type": "code",
<<<<<<< HEAD
      "execution_count": 347,
=======
      "execution_count": 34,
>>>>>>> evan
      "metadata": {
        "colab": {
          "base_uri": "https://localhost:8080/",
          "height": 362
        },
        "id": "bVKoyh5JoUDe",
<<<<<<< HEAD
        "outputId": "07fce622-cb86-4439-9c0c-390459a37e1a"
=======
        "outputId": "426489bd-79c4-4c06-a3a3-c2e181c87887"
>>>>>>> evan
      },
      "outputs": [
        {
          "output_type": "execute_result",
          "data": {
            "text/plain": [
              "statistics  kurtosis                                                    \\\n",
              "number            01        02        03        04        05        06   \n",
              "track_id                                                                 \n",
              "2           3.856789  1.541901  0.000816  0.330728  0.118731 -0.342687   \n",
              "5           2.624517  2.415293  0.440233 -0.782131 -0.771069 -0.724216   \n",
              "10          5.076893  1.161854  2.095651  1.372743 -0.203574 -0.345354   \n",
              "140         0.384906  1.203378  0.429393  0.639471 -0.080144 -0.440946   \n",
              "141        -0.038922  4.771146 -0.378949 -0.309047 -0.661308 -0.531602   \n",
              "\n",
              "statistics                                          ...        std            \\\n",
              "number            07        08        09        10  ...         11        12   \n",
              "track_id                                            ...                        \n",
              "2          -0.259252  0.146735  0.410656 -0.162872  ...  10.059609  8.601942   \n",
              "5           0.090260  0.152119  0.261731 -0.608905  ...   8.863638  9.581952   \n",
              "10         -0.529139  0.561974  0.281350 -0.150672  ...   8.289734  7.985110   \n",
              "140        -0.432567 -0.126163  0.507695  0.408915  ...   9.883532  8.250456   \n",
              "141         0.029186  0.662524 -0.084562  0.965640  ...   9.464321  8.119837   \n",
              "\n",
              "statistics                                                              \\\n",
              "number            13        14        15        16        17        18   \n",
              "track_id                                                                 \n",
              "2           9.284250  9.245516  8.520863  8.560472  7.651871  7.246555   \n",
              "5           8.895723  8.141456  8.201844  7.780963  7.132692  7.539753   \n",
              "10          7.075400  6.972649  7.071393  7.270959  7.051070  6.928591   \n",
              "140         8.085891  8.114858  8.832722  8.157245  7.297486  7.734456   \n",
              "141         8.918522  8.059117  9.339061  8.451561  8.426965  8.341757   \n",
              "\n",
              "statistics                      \n",
              "number            19        20  \n",
              "track_id                        \n",
              "2           7.077188  7.391859  \n",
              "5           8.452527  7.334442  \n",
              "10          6.430473  6.186294  \n",
              "140         7.807103  7.986255  \n",
              "141         8.572934  9.351485  \n",
              "\n",
              "[5 rows x 140 columns]"
            ],
            "text/html": [
              "\n",
<<<<<<< HEAD
              "  <div id=\"df-998e7f9d-c1d8-4427-a377-2ce91d22aaff\">\n",
=======
              "  <div id=\"df-1a909d7c-785e-4e5b-9ef6-05d040841635\">\n",
>>>>>>> evan
              "    <div class=\"colab-df-container\">\n",
              "      <div>\n",
              "<style scoped>\n",
              "    .dataframe tbody tr th:only-of-type {\n",
              "        vertical-align: middle;\n",
              "    }\n",
              "\n",
              "    .dataframe tbody tr th {\n",
              "        vertical-align: top;\n",
              "    }\n",
              "\n",
              "    .dataframe thead tr th {\n",
              "        text-align: left;\n",
              "    }\n",
              "\n",
              "    .dataframe thead tr:last-of-type th {\n",
              "        text-align: right;\n",
              "    }\n",
              "</style>\n",
              "<table border=\"1\" class=\"dataframe\">\n",
              "  <thead>\n",
              "    <tr>\n",
              "      <th>statistics</th>\n",
              "      <th colspan=\"10\" halign=\"left\">kurtosis</th>\n",
              "      <th>...</th>\n",
              "      <th colspan=\"10\" halign=\"left\">std</th>\n",
              "    </tr>\n",
              "    <tr>\n",
              "      <th>number</th>\n",
              "      <th>01</th>\n",
              "      <th>02</th>\n",
              "      <th>03</th>\n",
              "      <th>04</th>\n",
              "      <th>05</th>\n",
              "      <th>06</th>\n",
              "      <th>07</th>\n",
              "      <th>08</th>\n",
              "      <th>09</th>\n",
              "      <th>10</th>\n",
              "      <th>...</th>\n",
              "      <th>11</th>\n",
              "      <th>12</th>\n",
              "      <th>13</th>\n",
              "      <th>14</th>\n",
              "      <th>15</th>\n",
              "      <th>16</th>\n",
              "      <th>17</th>\n",
              "      <th>18</th>\n",
              "      <th>19</th>\n",
              "      <th>20</th>\n",
              "    </tr>\n",
              "    <tr>\n",
              "      <th>track_id</th>\n",
              "      <th></th>\n",
              "      <th></th>\n",
              "      <th></th>\n",
              "      <th></th>\n",
              "      <th></th>\n",
              "      <th></th>\n",
              "      <th></th>\n",
              "      <th></th>\n",
              "      <th></th>\n",
              "      <th></th>\n",
              "      <th></th>\n",
              "      <th></th>\n",
              "      <th></th>\n",
              "      <th></th>\n",
              "      <th></th>\n",
              "      <th></th>\n",
              "      <th></th>\n",
              "      <th></th>\n",
              "      <th></th>\n",
              "      <th></th>\n",
              "      <th></th>\n",
              "    </tr>\n",
              "  </thead>\n",
              "  <tbody>\n",
              "    <tr>\n",
              "      <th>2</th>\n",
              "      <td>3.856789</td>\n",
              "      <td>1.541901</td>\n",
              "      <td>0.000816</td>\n",
              "      <td>0.330728</td>\n",
              "      <td>0.118731</td>\n",
              "      <td>-0.342687</td>\n",
              "      <td>-0.259252</td>\n",
              "      <td>0.146735</td>\n",
              "      <td>0.410656</td>\n",
              "      <td>-0.162872</td>\n",
              "      <td>...</td>\n",
              "      <td>10.059609</td>\n",
              "      <td>8.601942</td>\n",
              "      <td>9.284250</td>\n",
              "      <td>9.245516</td>\n",
              "      <td>8.520863</td>\n",
              "      <td>8.560472</td>\n",
              "      <td>7.651871</td>\n",
              "      <td>7.246555</td>\n",
              "      <td>7.077188</td>\n",
              "      <td>7.391859</td>\n",
              "    </tr>\n",
              "    <tr>\n",
              "      <th>5</th>\n",
              "      <td>2.624517</td>\n",
              "      <td>2.415293</td>\n",
              "      <td>0.440233</td>\n",
              "      <td>-0.782131</td>\n",
              "      <td>-0.771069</td>\n",
              "      <td>-0.724216</td>\n",
              "      <td>0.090260</td>\n",
              "      <td>0.152119</td>\n",
              "      <td>0.261731</td>\n",
              "      <td>-0.608905</td>\n",
              "      <td>...</td>\n",
              "      <td>8.863638</td>\n",
              "      <td>9.581952</td>\n",
              "      <td>8.895723</td>\n",
              "      <td>8.141456</td>\n",
              "      <td>8.201844</td>\n",
              "      <td>7.780963</td>\n",
              "      <td>7.132692</td>\n",
              "      <td>7.539753</td>\n",
              "      <td>8.452527</td>\n",
              "      <td>7.334442</td>\n",
              "    </tr>\n",
              "    <tr>\n",
              "      <th>10</th>\n",
              "      <td>5.076893</td>\n",
              "      <td>1.161854</td>\n",
              "      <td>2.095651</td>\n",
              "      <td>1.372743</td>\n",
              "      <td>-0.203574</td>\n",
              "      <td>-0.345354</td>\n",
              "      <td>-0.529139</td>\n",
              "      <td>0.561974</td>\n",
              "      <td>0.281350</td>\n",
              "      <td>-0.150672</td>\n",
              "      <td>...</td>\n",
              "      <td>8.289734</td>\n",
              "      <td>7.985110</td>\n",
              "      <td>7.075400</td>\n",
              "      <td>6.972649</td>\n",
              "      <td>7.071393</td>\n",
              "      <td>7.270959</td>\n",
              "      <td>7.051070</td>\n",
              "      <td>6.928591</td>\n",
              "      <td>6.430473</td>\n",
              "      <td>6.186294</td>\n",
              "    </tr>\n",
              "    <tr>\n",
              "      <th>140</th>\n",
              "      <td>0.384906</td>\n",
              "      <td>1.203378</td>\n",
              "      <td>0.429393</td>\n",
              "      <td>0.639471</td>\n",
              "      <td>-0.080144</td>\n",
              "      <td>-0.440946</td>\n",
              "      <td>-0.432567</td>\n",
              "      <td>-0.126163</td>\n",
              "      <td>0.507695</td>\n",
              "      <td>0.408915</td>\n",
              "      <td>...</td>\n",
              "      <td>9.883532</td>\n",
              "      <td>8.250456</td>\n",
              "      <td>8.085891</td>\n",
              "      <td>8.114858</td>\n",
              "      <td>8.832722</td>\n",
              "      <td>8.157245</td>\n",
              "      <td>7.297486</td>\n",
              "      <td>7.734456</td>\n",
              "      <td>7.807103</td>\n",
              "      <td>7.986255</td>\n",
              "    </tr>\n",
              "    <tr>\n",
              "      <th>141</th>\n",
              "      <td>-0.038922</td>\n",
              "      <td>4.771146</td>\n",
              "      <td>-0.378949</td>\n",
              "      <td>-0.309047</td>\n",
              "      <td>-0.661308</td>\n",
              "      <td>-0.531602</td>\n",
              "      <td>0.029186</td>\n",
              "      <td>0.662524</td>\n",
              "      <td>-0.084562</td>\n",
              "      <td>0.965640</td>\n",
              "      <td>...</td>\n",
              "      <td>9.464321</td>\n",
              "      <td>8.119837</td>\n",
              "      <td>8.918522</td>\n",
              "      <td>8.059117</td>\n",
              "      <td>9.339061</td>\n",
              "      <td>8.451561</td>\n",
              "      <td>8.426965</td>\n",
              "      <td>8.341757</td>\n",
              "      <td>8.572934</td>\n",
              "      <td>9.351485</td>\n",
              "    </tr>\n",
              "  </tbody>\n",
              "</table>\n",
              "<p>5 rows × 140 columns</p>\n",
              "</div>\n",
<<<<<<< HEAD
              "      <button class=\"colab-df-convert\" onclick=\"convertToInteractive('df-998e7f9d-c1d8-4427-a377-2ce91d22aaff')\"\n",
=======
              "      <button class=\"colab-df-convert\" onclick=\"convertToInteractive('df-1a909d7c-785e-4e5b-9ef6-05d040841635')\"\n",
>>>>>>> evan
              "              title=\"Convert this dataframe to an interactive table.\"\n",
              "              style=\"display:none;\">\n",
              "        \n",
              "  <svg xmlns=\"http://www.w3.org/2000/svg\" height=\"24px\"viewBox=\"0 0 24 24\"\n",
              "       width=\"24px\">\n",
              "    <path d=\"M0 0h24v24H0V0z\" fill=\"none\"/>\n",
              "    <path d=\"M18.56 5.44l.94 2.06.94-2.06 2.06-.94-2.06-.94-.94-2.06-.94 2.06-2.06.94zm-11 1L8.5 8.5l.94-2.06 2.06-.94-2.06-.94L8.5 2.5l-.94 2.06-2.06.94zm10 10l.94 2.06.94-2.06 2.06-.94-2.06-.94-.94-2.06-.94 2.06-2.06.94z\"/><path d=\"M17.41 7.96l-1.37-1.37c-.4-.4-.92-.59-1.43-.59-.52 0-1.04.2-1.43.59L10.3 9.45l-7.72 7.72c-.78.78-.78 2.05 0 2.83L4 21.41c.39.39.9.59 1.41.59.51 0 1.02-.2 1.41-.59l7.78-7.78 2.81-2.81c.8-.78.8-2.07 0-2.86zM5.41 20L4 18.59l7.72-7.72 1.47 1.35L5.41 20z\"/>\n",
              "  </svg>\n",
              "      </button>\n",
              "      \n",
              "  <style>\n",
              "    .colab-df-container {\n",
              "      display:flex;\n",
              "      flex-wrap:wrap;\n",
              "      gap: 12px;\n",
              "    }\n",
              "\n",
              "    .colab-df-convert {\n",
              "      background-color: #E8F0FE;\n",
              "      border: none;\n",
              "      border-radius: 50%;\n",
              "      cursor: pointer;\n",
              "      display: none;\n",
              "      fill: #1967D2;\n",
              "      height: 32px;\n",
              "      padding: 0 0 0 0;\n",
              "      width: 32px;\n",
              "    }\n",
              "\n",
              "    .colab-df-convert:hover {\n",
              "      background-color: #E2EBFA;\n",
              "      box-shadow: 0px 1px 2px rgba(60, 64, 67, 0.3), 0px 1px 3px 1px rgba(60, 64, 67, 0.15);\n",
              "      fill: #174EA6;\n",
              "    }\n",
              "\n",
              "    [theme=dark] .colab-df-convert {\n",
              "      background-color: #3B4455;\n",
              "      fill: #D2E3FC;\n",
              "    }\n",
              "\n",
              "    [theme=dark] .colab-df-convert:hover {\n",
              "      background-color: #434B5C;\n",
              "      box-shadow: 0px 1px 3px 1px rgba(0, 0, 0, 0.15);\n",
              "      filter: drop-shadow(0px 1px 2px rgba(0, 0, 0, 0.3));\n",
              "      fill: #FFFFFF;\n",
              "    }\n",
              "  </style>\n",
              "\n",
              "      <script>\n",
              "        const buttonEl =\n",
<<<<<<< HEAD
              "          document.querySelector('#df-998e7f9d-c1d8-4427-a377-2ce91d22aaff button.colab-df-convert');\n",
=======
              "          document.querySelector('#df-1a909d7c-785e-4e5b-9ef6-05d040841635 button.colab-df-convert');\n",
>>>>>>> evan
              "        buttonEl.style.display =\n",
              "          google.colab.kernel.accessAllowed ? 'block' : 'none';\n",
              "\n",
              "        async function convertToInteractive(key) {\n",
<<<<<<< HEAD
              "          const element = document.querySelector('#df-998e7f9d-c1d8-4427-a377-2ce91d22aaff');\n",
=======
              "          const element = document.querySelector('#df-1a909d7c-785e-4e5b-9ef6-05d040841635');\n",
>>>>>>> evan
              "          const dataTable =\n",
              "            await google.colab.kernel.invokeFunction('convertToInteractive',\n",
              "                                                     [key], {});\n",
              "          if (!dataTable) return;\n",
              "\n",
              "          const docLinkHtml = 'Like what you see? Visit the ' +\n",
              "            '<a target=\"_blank\" href=https://colab.research.google.com/notebooks/data_table.ipynb>data table notebook</a>'\n",
              "            + ' to learn more about interactive tables.';\n",
              "          element.innerHTML = '';\n",
              "          dataTable['output_type'] = 'display_data';\n",
              "          await google.colab.output.renderOutput(dataTable, element);\n",
              "          const docLink = document.createElement('div');\n",
              "          docLink.innerHTML = docLinkHtml;\n",
              "          element.appendChild(docLink);\n",
              "        }\n",
              "      </script>\n",
              "    </div>\n",
              "  </div>\n",
              "  "
            ]
          },
          "metadata": {},
<<<<<<< HEAD
          "execution_count": 347
=======
          "execution_count": 34
>>>>>>> evan
        }
      ],
      "source": [
        "df_mfcc = df_features['mfcc']\n",
        "df_mfcc.head()"
      ]
    },
    {
      "cell_type": "code",
<<<<<<< HEAD
      "execution_count": 348,
=======
      "execution_count": 35,
>>>>>>> evan
      "metadata": {
        "colab": {
          "base_uri": "https://localhost:8080/"
        },
        "id": "C8Eb79QToYbs",
<<<<<<< HEAD
        "outputId": "9ce02f27-350e-472b-c94e-fc40a60003a5"
=======
        "outputId": "c6af0127-0243-4c5e-ef72-734a520e5488"
>>>>>>> evan
      },
      "outputs": [
        {
          "output_type": "execute_result",
          "data": {
            "text/plain": [
              "(8000, 140)"
            ]
          },
          "metadata": {},
<<<<<<< HEAD
          "execution_count": 348
=======
          "execution_count": 35
>>>>>>> evan
        }
      ],
      "source": [
        "df_mfcc.shape"
      ]
    },
    {
      "cell_type": "code",
<<<<<<< HEAD
      "execution_count": 349,
=======
      "execution_count": 36,
>>>>>>> evan
      "metadata": {
        "colab": {
          "base_uri": "https://localhost:8080/",
          "height": 356
        },
        "id": "Lg9gh41Soais",
<<<<<<< HEAD
        "outputId": "3876708d-5368-47de-f88a-982420dd7439"
=======
        "outputId": "245cc7af-efad-4c38-dded-16b353ed04f8"
>>>>>>> evan
      },
      "outputs": [
        {
          "output_type": "stream",
          "name": "stdout",
          "text": [
            "(8000,) (8000,) (8000,)\n"
          ]
        },
        {
          "output_type": "stream",
          "name": "stderr",
          "text": [
            "/usr/local/lib/python3.7/dist-packages/sklearn/utils/validation.py:1692: FutureWarning: Feature names only support names that are all strings. Got feature names with dtypes: ['tuple']. An error will be raised in 1.2.\n",
            "  FutureWarning,\n"
          ]
        },
        {
          "output_type": "display_data",
          "data": {
            "text/plain": [
              "<Figure size 432x288 with 1 Axes>"
            ],
            "image/png": "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\n"
          },
          "metadata": {
            "needs_background": "light"
          }
        },
        {
          "output_type": "execute_result",
          "data": {
            "text/plain": [
              "((2000, 2), (2000,))"
            ]
          },
          "metadata": {},
<<<<<<< HEAD
          "execution_count": 349
=======
          "execution_count": 36
>>>>>>> evan
        }
      ],
      "source": [
        "small = df_tracks['set', 'subset'] <= 'small'\n",
        "genre_Instrumental = df_tracks['track', 'genre_top'] == 'Instrumental'\n",
        "genre2_HH = df_tracks['track', 'genre_top'] == 'Hip-Hop'\n",
        "\n",
        "print(small.shape, genre_Instrumental.shape, genre2_HH.shape)\n",
        "\n",
        "X = df_features.loc[small & (genre_Instrumental | genre2_HH), 'mfcc']\n",
        "X = skl.decomposition.PCA(n_components=2).fit_transform(X)\n",
        "\n",
        "y = df_tracks.loc[small & (genre_Instrumental | genre2_HH), ('track', 'genre_top')]\n",
        "y = skl.preprocessing.LabelEncoder().fit_transform(y)\n",
        "\n",
        "plt.scatter(X[:,0], X[:,1], c=y, cmap='RdBu', alpha=0.5)\n",
        "plt.show()\n",
        "X.shape, y.shape"
      ]
    },
    {
      "cell_type": "markdown",
      "metadata": {
        "id": "cu_alJXho7Le"
      },
      "source": [
        "### Univariate Analysis"
      ]
    },
    {
      "cell_type": "code",
<<<<<<< HEAD
      "execution_count": 350,
=======
      "execution_count": 37,
>>>>>>> evan
      "metadata": {
        "id": "1PiJylyeo-et"
      },
      "outputs": [],
      "source": [
        "# TODO"
      ]
    },
    {
      "cell_type": "markdown",
      "metadata": {
        "id": "pA-L9EEHpCBb"
      },
      "source": [
        "### Bivariate Analysis"
      ]
    },
    {
      "cell_type": "code",
<<<<<<< HEAD
      "execution_count": 351,
=======
      "execution_count": 38,
>>>>>>> evan
      "metadata": {
        "id": "mgd6olYQry7C"
      },
      "outputs": [],
      "source": [
        "# features_corr_matrix = features.corr()\n",
        "# features_corr_matrix['tonnetz'].sort_values(ascending=False)"
      ]
    },
    {
      "cell_type": "markdown",
      "metadata": {
        "id": "YogaJfYurxV_"
      },
      "source": [
        "#### Pairwise Correlations"
      ]
    },
    {
      "cell_type": "code",
<<<<<<< HEAD
      "execution_count": 352,
=======
      "execution_count": null,
>>>>>>> evan
      "metadata": {
        "id": "H1sDMWTKpD2R"
      },
      "outputs": [],
      "source": [
        "# TODO"
      ]
    },
    {
      "cell_type": "markdown",
      "metadata": {
        "id": "CJlgnn-SmzSk"
      },
      "source": [
        "# Data Preprocessing"
      ]
    },
    {
      "cell_type": "markdown",
      "metadata": {
        "id": "LQOcLfnM0-zd"
      },
      "source": [
        "### General"
      ]
    },
    {
      "cell_type": "markdown",
      "metadata": {
        "id": "u105yAWT1EAe"
      },
      "source": []
    },
    {
      "cell_type": "code",
<<<<<<< HEAD
      "execution_count": 353,
=======
      "execution_count": 40,
>>>>>>> evan
      "metadata": {
        "id": "k1n_FM1QC8Ze"
      },
      "outputs": [],
      "source": [
        "# Random seed for repeated execution reproducibility \n",
        "RANDOM_SEED = 42"
      ]
    },
    {
      "cell_type": "code",
<<<<<<< HEAD
      "execution_count": 355,
=======
      "execution_count": 41,
>>>>>>> evan
      "metadata": {
        "id": "ZrPdpBVQsFE8",
        "colab": {
          "base_uri": "https://localhost:8080/"
        },
<<<<<<< HEAD
        "outputId": "fa07e97c-04bc-4b2f-81fc-282ee3b722e4"
=======
        "outputId": "6059328a-62bf-4ec5-d1d8-29faccb71c32"
>>>>>>> evan
      },
      "outputs": [
        {
          "output_type": "stream",
          "name": "stdout",
          "text": [
            "Genres (8): ['Electronic', 'Experimental', 'Folk', 'Hip-Hop', 'Instrumental', 'International', 'Pop', 'Rock']\n"
          ]
        }
      ],
      "source": [
        "genres = list(LabelEncoder().fit(df_tracks['track', 'genre_top']).classes_)\n",
        "print('Genres ({}): {}'.format(len(genres), genres))"
      ]
    },
    {
      "cell_type": "code",
<<<<<<< HEAD
      "execution_count": 356,
=======
      "execution_count": 44,
>>>>>>> evan
      "metadata": {
        "id": "LPW0BaydQLwJ"
      },
      "outputs": [],
      "source": [
<<<<<<< HEAD
        "def preprocess(tracks, features, columns, multi_label=False, verbose=False):\n",
        "    # Assign an integer value to each genre.\n",
        "    enc = LabelEncoder()\n",
        "    labels = tracks['track', 'genre_top']\n",
        "\n",
        "    # Split in training, validation and testing sets.\n",
        "    y_train = enc.fit_transform(labels[df_train])\n",
        "    y_val = enc.transform(labels[df_val])\n",
        "    y_test = enc.transform(labels[df_test])\n",
=======
        "def preprocess_pipeline(tracks, features, columns):\n",
        "    # Encode each genre with an integer\n",
        "    enc = LabelEncoder()\n",
        "    genres = tracks['track', 'genre_top']\n",
        "\n",
        "    # Split into training, validation and testing sets\n",
        "    y_train = enc.fit_transform(genres[df_train])\n",
        "    y_val = enc.transform(genres[df_val])\n",
        "    y_test = enc.transform(genres[df_test])\n",
>>>>>>> evan
        "    X_train = df_features.loc[df_train, columns].values\n",
        "    X_val = df_features.loc[df_val, columns].values\n",
        "    X_test = df_features.loc[df_test, columns].values\n",
        "    X_train, y_train = shuffle(X_train, y_train, random_state=RANDOM_SEED)\n",
        "    \n",
        "    # Standardize features, removing mean (to 0) and scaling to unit variance.\n",
        "    scaler = StandardScaler(copy=False)\n",
        "    scaler.fit_transform(X_train)\n",
        "    scaler.transform(X_val)\n",
        "    scaler.transform(X_test)\n",
        "    \n",
        "    return y_train, y_val, y_test, X_train, X_val, X_test"
      ]
    },
    {
      "cell_type": "code",
<<<<<<< HEAD
      "execution_count": 357,
=======
      "execution_count": 45,
>>>>>>> evan
      "metadata": {
        "id": "yMF3UCCxqorU",
        "colab": {
          "base_uri": "https://localhost:8080/"
        },
        "outputId": "eec7cd70-0fa1-4353-d975-13104415cb6e"
      },
      "outputs": [
        {
          "output_type": "stream",
          "name": "stdout",
          "text": [
            "Dataset split: 6400 training, 800 validation, 800 testing\n"
          ]
        }
      ],
      "source": [
<<<<<<< HEAD
        "def test_classifiers_features(classifiers, feature_sets, multi_label=False):\n",
        "    columns = list(classifiers.keys()).insert(0, 'dim')\n",
        "    scores = pd.DataFrame(columns=columns, index=feature_sets.keys())\n",
        "    for fset_name, fset in tqdm.notebook.tqdm(feature_sets.items(), desc='features'):\n",
        "        y_train, y_val, y_test, X_train, X_val, X_test = preprocess(df_tracks, df_features, fset, multi_label)\n",
        "        scores.loc[fset_name, 'dim'] = X_train.shape[1]\n",
        "        for clf_name, clf in classifiers.items(): \n",
        "            clf.fit(X_train, y_train)\n",
        "            score = clf.score(X_test, y_test)\n",
        "            scores.loc[fset_name, clf_name] = score\n",
        "            y_pred = clf.predict(X_test)\n",
        "    return scores"
      ]
    },
    {
      "cell_type": "code",
      "execution_count": 358,
      "metadata": {
        "id": "CqKwlOLTDKCo"
      },
      "outputs": [],
      "source": [
        "# Helper function, highlights the top performance scoring model for each feature subset\n",
        "def format_scores(scores):\n",
        "    def highlight(s):\n",
        "        is_max = s == max(s[1:])\n",
        "        return ['background-color: green' if v else '' for v in is_max]\n",
        "    scores = scores.style.apply(highlight, axis=1)\n",
        "    return scores.format('{:.2%}', subset = pd.IndexSlice[:, scores.columns[1]:])"
=======
        "df_train = df_tracks_train.index\n",
        "df_val = df_tracks_validation.index\n",
        "df_test = df_tracks_test.index\n",
        "\n",
        "print('Dataset split: {} training, {} validation, {} testing'.format(*map(len, [df_train, df_val, df_test])))"
>>>>>>> evan
      ]
    },
    {
      "cell_type": "code",
      "execution_count": 373,
      "metadata": {
        "id": "yMF3UCCxqorU",
        "colab": {
          "base_uri": "https://localhost:8080/"
        },
        "outputId": "b58f5919-19ce-49cf-de83-1946b5c317e6"
      },
      "outputs": [
        {
          "output_type": "stream",
          "name": "stdout",
          "text": [
            "Split: 6400 training, 800 validation, 800 testing\n"
          ]
        }
      ],
      "source": [
        "df_train = df_tracks_train.index\n",
        "df_val = df_tracks_validation.index\n",
        "df_test = df_tracks_test.index\n",
        "\n",
        "print('Dataset split: {} training, {} validation, {} testing'.format(*map(len, [df_train, df_val, df_test])))"
      ]
    },
    {
      "cell_type": "markdown",
      "metadata": {
        "id": "bjjBJQaasom2"
      },
      "source": [
        "### Spectrograms (For CRNN Model)"
      ]
    },
    {
      "cell_type": "code",
<<<<<<< HEAD
      "execution_count": 359,
=======
      "execution_count": 67,
>>>>>>> evan
      "metadata": {
        "id": "Jw6HPJEiqEvO"
      },
      "outputs": [],
      "source": [
        "def get_audio_path(audio_dir, track_id):\n",
        "    tid_str = '{:06d}'.format(track_id)\n",
        "    return os.path.join(audio_dir, tid_str[:3], tid_str + '.mp3')\n",
        "\n",
        "\"\"\"\n",
        "Get track IDs from the mp3s in a directory.\n",
        "\"\"\"\n",
        "def get_trackIDs_from_dir(audio_dir):\n",
        "    tids = []\n",
        "    for _, dirnames, files in os.walk(audio_dir):\n",
        "        if dirnames == []:\n",
        "            tids.extend(int(file[:-4]) for file in files)\n",
        "    return tids"
      ]
    },
    {
      "cell_type": "code",
<<<<<<< HEAD
      "execution_count": 360,
      "metadata": {
        "id": "P5wLqZTzqYqT",
        "colab": {
          "base_uri": "https://localhost:8080/"
        },
        "outputId": "427b230c-1962-4ec0-cf1b-c3e1898a8f5c"
      },
      "outputs": [
        {
          "output_type": "execute_result",
          "data": {
            "text/plain": [
              "8000"
            ]
          },
          "metadata": {},
          "execution_count": 360
        }
      ],
=======
      "execution_count": null,
      "metadata": {
        "id": "P5wLqZTzqYqT"
      },
      "outputs": [],
>>>>>>> evan
      "source": [
        "track_ids = get_trackIDs_from_dir(f\"{INPUT_DIR}/fma_small\")\n",
        "len(track_ids)  # should return 8 * 1000 = 8000, 1000 songs per genre"
      ]
    },
    {
      "cell_type": "code",
<<<<<<< HEAD
      "execution_count": 361,
      "metadata": {
        "id": "oEuJaevIr0sH",
        "colab": {
          "base_uri": "https://localhost:8080/",
          "height": 269
        },
        "outputId": "b46ee799-dcf6-4d0e-b0ba-fda1f1726385"
      },
      "outputs": [
        {
          "output_type": "execute_result",
          "data": {
            "text/plain": [
              "               set            track track_id\n",
              "             split subset genre_top         \n",
              "track_id                                    \n",
              "2         training  small   Hip-Hop        2\n",
              "5         training  small   Hip-Hop        5\n",
              "10        training  small       Pop       10\n",
              "140       training  small      Folk      140\n",
              "141       training  small      Folk      141"
            ],
            "text/html": [
              "\n",
              "  <div id=\"df-41c68cf5-bd9b-4109-a8f2-e919a8d93ae0\">\n",
              "    <div class=\"colab-df-container\">\n",
              "      <div>\n",
              "<style scoped>\n",
              "    .dataframe tbody tr th:only-of-type {\n",
              "        vertical-align: middle;\n",
              "    }\n",
              "\n",
              "    .dataframe tbody tr th {\n",
              "        vertical-align: top;\n",
              "    }\n",
              "\n",
              "    .dataframe thead tr th {\n",
              "        text-align: left;\n",
              "    }\n",
              "\n",
              "    .dataframe thead tr:last-of-type th {\n",
              "        text-align: right;\n",
              "    }\n",
              "</style>\n",
              "<table border=\"1\" class=\"dataframe\">\n",
              "  <thead>\n",
              "    <tr>\n",
              "      <th></th>\n",
              "      <th colspan=\"2\" halign=\"left\">set</th>\n",
              "      <th>track</th>\n",
              "      <th>track_id</th>\n",
              "    </tr>\n",
              "    <tr>\n",
              "      <th></th>\n",
              "      <th>split</th>\n",
              "      <th>subset</th>\n",
              "      <th>genre_top</th>\n",
              "      <th></th>\n",
              "    </tr>\n",
              "    <tr>\n",
              "      <th>track_id</th>\n",
              "      <th></th>\n",
              "      <th></th>\n",
              "      <th></th>\n",
              "      <th></th>\n",
              "    </tr>\n",
              "  </thead>\n",
              "  <tbody>\n",
              "    <tr>\n",
              "      <th>2</th>\n",
              "      <td>training</td>\n",
              "      <td>small</td>\n",
              "      <td>Hip-Hop</td>\n",
              "      <td>2</td>\n",
              "    </tr>\n",
              "    <tr>\n",
              "      <th>5</th>\n",
              "      <td>training</td>\n",
              "      <td>small</td>\n",
              "      <td>Hip-Hop</td>\n",
              "      <td>5</td>\n",
              "    </tr>\n",
              "    <tr>\n",
              "      <th>10</th>\n",
              "      <td>training</td>\n",
              "      <td>small</td>\n",
              "      <td>Pop</td>\n",
              "      <td>10</td>\n",
              "    </tr>\n",
              "    <tr>\n",
              "      <th>140</th>\n",
              "      <td>training</td>\n",
              "      <td>small</td>\n",
              "      <td>Folk</td>\n",
              "      <td>140</td>\n",
              "    </tr>\n",
              "    <tr>\n",
              "      <th>141</th>\n",
              "      <td>training</td>\n",
              "      <td>small</td>\n",
              "      <td>Folk</td>\n",
              "      <td>141</td>\n",
              "    </tr>\n",
              "  </tbody>\n",
              "</table>\n",
              "</div>\n",
              "      <button class=\"colab-df-convert\" onclick=\"convertToInteractive('df-41c68cf5-bd9b-4109-a8f2-e919a8d93ae0')\"\n",
              "              title=\"Convert this dataframe to an interactive table.\"\n",
              "              style=\"display:none;\">\n",
              "        \n",
              "  <svg xmlns=\"http://www.w3.org/2000/svg\" height=\"24px\"viewBox=\"0 0 24 24\"\n",
              "       width=\"24px\">\n",
              "    <path d=\"M0 0h24v24H0V0z\" fill=\"none\"/>\n",
              "    <path d=\"M18.56 5.44l.94 2.06.94-2.06 2.06-.94-2.06-.94-.94-2.06-.94 2.06-2.06.94zm-11 1L8.5 8.5l.94-2.06 2.06-.94-2.06-.94L8.5 2.5l-.94 2.06-2.06.94zm10 10l.94 2.06.94-2.06 2.06-.94-2.06-.94-.94-2.06-.94 2.06-2.06.94z\"/><path d=\"M17.41 7.96l-1.37-1.37c-.4-.4-.92-.59-1.43-.59-.52 0-1.04.2-1.43.59L10.3 9.45l-7.72 7.72c-.78.78-.78 2.05 0 2.83L4 21.41c.39.39.9.59 1.41.59.51 0 1.02-.2 1.41-.59l7.78-7.78 2.81-2.81c.8-.78.8-2.07 0-2.86zM5.41 20L4 18.59l7.72-7.72 1.47 1.35L5.41 20z\"/>\n",
              "  </svg>\n",
              "      </button>\n",
              "      \n",
              "  <style>\n",
              "    .colab-df-container {\n",
              "      display:flex;\n",
              "      flex-wrap:wrap;\n",
              "      gap: 12px;\n",
              "    }\n",
              "\n",
              "    .colab-df-convert {\n",
              "      background-color: #E8F0FE;\n",
              "      border: none;\n",
              "      border-radius: 50%;\n",
              "      cursor: pointer;\n",
              "      display: none;\n",
              "      fill: #1967D2;\n",
              "      height: 32px;\n",
              "      padding: 0 0 0 0;\n",
              "      width: 32px;\n",
              "    }\n",
              "\n",
              "    .colab-df-convert:hover {\n",
              "      background-color: #E2EBFA;\n",
              "      box-shadow: 0px 1px 2px rgba(60, 64, 67, 0.3), 0px 1px 3px 1px rgba(60, 64, 67, 0.15);\n",
              "      fill: #174EA6;\n",
              "    }\n",
              "\n",
              "    [theme=dark] .colab-df-convert {\n",
              "      background-color: #3B4455;\n",
              "      fill: #D2E3FC;\n",
              "    }\n",
              "\n",
              "    [theme=dark] .colab-df-convert:hover {\n",
              "      background-color: #434B5C;\n",
              "      box-shadow: 0px 1px 3px 1px rgba(0, 0, 0, 0.15);\n",
              "      filter: drop-shadow(0px 1px 2px rgba(0, 0, 0, 0.3));\n",
              "      fill: #FFFFFF;\n",
              "    }\n",
              "  </style>\n",
              "\n",
              "      <script>\n",
              "        const buttonEl =\n",
              "          document.querySelector('#df-41c68cf5-bd9b-4109-a8f2-e919a8d93ae0 button.colab-df-convert');\n",
              "        buttonEl.style.display =\n",
              "          google.colab.kernel.accessAllowed ? 'block' : 'none';\n",
              "\n",
              "        async function convertToInteractive(key) {\n",
              "          const element = document.querySelector('#df-41c68cf5-bd9b-4109-a8f2-e919a8d93ae0');\n",
              "          const dataTable =\n",
              "            await google.colab.kernel.invokeFunction('convertToInteractive',\n",
              "                                                     [key], {});\n",
              "          if (!dataTable) return;\n",
              "\n",
              "          const docLinkHtml = 'Like what you see? Visit the ' +\n",
              "            '<a target=\"_blank\" href=https://colab.research.google.com/notebooks/data_table.ipynb>data table notebook</a>'\n",
              "            + ' to learn more about interactive tables.';\n",
              "          element.innerHTML = '';\n",
              "          dataTable['output_type'] = 'display_data';\n",
              "          await google.colab.output.renderOutput(dataTable, element);\n",
              "          const docLink = document.createElement('div');\n",
              "          docLink.innerHTML = docLinkHtml;\n",
              "          element.appendChild(docLink);\n",
              "        }\n",
              "      </script>\n",
              "    </div>\n",
              "  </div>\n",
              "  "
            ]
          },
          "metadata": {},
          "execution_count": 361
        }
      ],
=======
      "execution_count": null,
      "metadata": {
        "id": "oEuJaevIr0sH"
      },
      "outputs": [],
>>>>>>> evan
      "source": [
        "keep_cols = [\n",
        "    ('set', 'split'),\n",
        "    ('set', 'subset'),\n",
        "    ('track', 'genre_top')\n",
        "]\n",
        "\n",
        "filepath = 'input/fma_metadata/tracks.csv'\n",
        "tracks = pd.read_csv(filepath, index_col=0, header=[0, 1])\n",
        "df_all = tracks[keep_cols]\n",
        "df_all = df_all[df_all[('set', 'subset')] == 'small']\n",
        "\n",
        "df_all['track_id'] = df_all.index\n",
        "df_all.head()"
      ]
    },
    {
      "cell_type": "code",
<<<<<<< HEAD
      "execution_count": 362,
      "metadata": {
        "id": "zrOUd88Ds8SS",
        "colab": {
          "base_uri": "https://localhost:8080/",
          "height": 332
        },
        "outputId": "ee592bf3-9ef1-4f47-e19b-ac145b7be5c7"
      },
      "outputs": [
        {
          "output_type": "execute_result",
          "data": {
            "text/plain": [
              "           track         set        track_id\n",
              "       genre_top       split subset         \n",
              "0     Electronic    training  small     1482\n",
              "1   Experimental  validation  small      148\n",
              "2           Folk    training  small      140\n",
              "3        Hip-Hop    training  small        2\n",
              "4   Instrumental        test  small    10250\n",
              "5  International    training  small      666\n",
              "6            Pop    training  small       10\n",
              "7           Rock        test  small      182"
            ],
            "text/html": [
              "\n",
              "  <div id=\"df-70567df2-8cce-4756-b115-04e91fc54e6f\">\n",
              "    <div class=\"colab-df-container\">\n",
              "      <div>\n",
              "<style scoped>\n",
              "    .dataframe tbody tr th:only-of-type {\n",
              "        vertical-align: middle;\n",
              "    }\n",
              "\n",
              "    .dataframe tbody tr th {\n",
              "        vertical-align: top;\n",
              "    }\n",
              "\n",
              "    .dataframe thead tr th {\n",
              "        text-align: left;\n",
              "    }\n",
              "</style>\n",
              "<table border=\"1\" class=\"dataframe\">\n",
              "  <thead>\n",
              "    <tr>\n",
              "      <th></th>\n",
              "      <th>track</th>\n",
              "      <th colspan=\"2\" halign=\"left\">set</th>\n",
              "      <th>track_id</th>\n",
              "    </tr>\n",
              "    <tr>\n",
              "      <th></th>\n",
              "      <th>genre_top</th>\n",
              "      <th>split</th>\n",
              "      <th>subset</th>\n",
              "      <th></th>\n",
              "    </tr>\n",
              "  </thead>\n",
              "  <tbody>\n",
              "    <tr>\n",
              "      <th>0</th>\n",
              "      <td>Electronic</td>\n",
              "      <td>training</td>\n",
              "      <td>small</td>\n",
              "      <td>1482</td>\n",
              "    </tr>\n",
              "    <tr>\n",
              "      <th>1</th>\n",
              "      <td>Experimental</td>\n",
              "      <td>validation</td>\n",
              "      <td>small</td>\n",
              "      <td>148</td>\n",
              "    </tr>\n",
              "    <tr>\n",
              "      <th>2</th>\n",
              "      <td>Folk</td>\n",
              "      <td>training</td>\n",
              "      <td>small</td>\n",
              "      <td>140</td>\n",
              "    </tr>\n",
              "    <tr>\n",
              "      <th>3</th>\n",
              "      <td>Hip-Hop</td>\n",
              "      <td>training</td>\n",
              "      <td>small</td>\n",
              "      <td>2</td>\n",
              "    </tr>\n",
              "    <tr>\n",
              "      <th>4</th>\n",
              "      <td>Instrumental</td>\n",
              "      <td>test</td>\n",
              "      <td>small</td>\n",
              "      <td>10250</td>\n",
              "    </tr>\n",
              "    <tr>\n",
              "      <th>5</th>\n",
              "      <td>International</td>\n",
              "      <td>training</td>\n",
              "      <td>small</td>\n",
              "      <td>666</td>\n",
              "    </tr>\n",
              "    <tr>\n",
              "      <th>6</th>\n",
              "      <td>Pop</td>\n",
              "      <td>training</td>\n",
              "      <td>small</td>\n",
              "      <td>10</td>\n",
              "    </tr>\n",
              "    <tr>\n",
              "      <th>7</th>\n",
              "      <td>Rock</td>\n",
              "      <td>test</td>\n",
              "      <td>small</td>\n",
              "      <td>182</td>\n",
              "    </tr>\n",
              "  </tbody>\n",
              "</table>\n",
              "</div>\n",
              "      <button class=\"colab-df-convert\" onclick=\"convertToInteractive('df-70567df2-8cce-4756-b115-04e91fc54e6f')\"\n",
              "              title=\"Convert this dataframe to an interactive table.\"\n",
              "              style=\"display:none;\">\n",
              "        \n",
              "  <svg xmlns=\"http://www.w3.org/2000/svg\" height=\"24px\"viewBox=\"0 0 24 24\"\n",
              "       width=\"24px\">\n",
              "    <path d=\"M0 0h24v24H0V0z\" fill=\"none\"/>\n",
              "    <path d=\"M18.56 5.44l.94 2.06.94-2.06 2.06-.94-2.06-.94-.94-2.06-.94 2.06-2.06.94zm-11 1L8.5 8.5l.94-2.06 2.06-.94-2.06-.94L8.5 2.5l-.94 2.06-2.06.94zm10 10l.94 2.06.94-2.06 2.06-.94-2.06-.94-.94-2.06-.94 2.06-2.06.94z\"/><path d=\"M17.41 7.96l-1.37-1.37c-.4-.4-.92-.59-1.43-.59-.52 0-1.04.2-1.43.59L10.3 9.45l-7.72 7.72c-.78.78-.78 2.05 0 2.83L4 21.41c.39.39.9.59 1.41.59.51 0 1.02-.2 1.41-.59l7.78-7.78 2.81-2.81c.8-.78.8-2.07 0-2.86zM5.41 20L4 18.59l7.72-7.72 1.47 1.35L5.41 20z\"/>\n",
              "  </svg>\n",
              "      </button>\n",
              "      \n",
              "  <style>\n",
              "    .colab-df-container {\n",
              "      display:flex;\n",
              "      flex-wrap:wrap;\n",
              "      gap: 12px;\n",
              "    }\n",
              "\n",
              "    .colab-df-convert {\n",
              "      background-color: #E8F0FE;\n",
              "      border: none;\n",
              "      border-radius: 50%;\n",
              "      cursor: pointer;\n",
              "      display: none;\n",
              "      fill: #1967D2;\n",
              "      height: 32px;\n",
              "      padding: 0 0 0 0;\n",
              "      width: 32px;\n",
              "    }\n",
              "\n",
              "    .colab-df-convert:hover {\n",
              "      background-color: #E2EBFA;\n",
              "      box-shadow: 0px 1px 2px rgba(60, 64, 67, 0.3), 0px 1px 3px 1px rgba(60, 64, 67, 0.15);\n",
              "      fill: #174EA6;\n",
              "    }\n",
              "\n",
              "    [theme=dark] .colab-df-convert {\n",
              "      background-color: #3B4455;\n",
              "      fill: #D2E3FC;\n",
              "    }\n",
              "\n",
              "    [theme=dark] .colab-df-convert:hover {\n",
              "      background-color: #434B5C;\n",
              "      box-shadow: 0px 1px 3px 1px rgba(0, 0, 0, 0.15);\n",
              "      filter: drop-shadow(0px 1px 2px rgba(0, 0, 0, 0.3));\n",
              "      fill: #FFFFFF;\n",
              "    }\n",
              "  </style>\n",
              "\n",
              "      <script>\n",
              "        const buttonEl =\n",
              "          document.querySelector('#df-70567df2-8cce-4756-b115-04e91fc54e6f button.colab-df-convert');\n",
              "        buttonEl.style.display =\n",
              "          google.colab.kernel.accessAllowed ? 'block' : 'none';\n",
              "\n",
              "        async function convertToInteractive(key) {\n",
              "          const element = document.querySelector('#df-70567df2-8cce-4756-b115-04e91fc54e6f');\n",
              "          const dataTable =\n",
              "            await google.colab.kernel.invokeFunction('convertToInteractive',\n",
              "                                                     [key], {});\n",
              "          if (!dataTable) return;\n",
              "\n",
              "          const docLinkHtml = 'Like what you see? Visit the ' +\n",
              "            '<a target=\"_blank\" href=https://colab.research.google.com/notebooks/data_table.ipynb>data table notebook</a>'\n",
              "            + ' to learn more about interactive tables.';\n",
              "          element.innerHTML = '';\n",
              "          dataTable['output_type'] = 'display_data';\n",
              "          await google.colab.output.renderOutput(dataTable, element);\n",
              "          const docLink = document.createElement('div');\n",
              "          docLink.innerHTML = docLinkHtml;\n",
              "          element.appendChild(docLink);\n",
              "        }\n",
              "      </script>\n",
              "    </div>\n",
              "  </div>\n",
              "  "
            ]
          },
          "metadata": {},
          "execution_count": 362
        }
      ],
=======
      "execution_count": null,
      "metadata": {
        "id": "zrOUd88Ds8SS"
      },
      "outputs": [],
>>>>>>> evan
      "source": [
        "grouped_df = df_all.groupby(('track', 'genre_top')).first().reset_index()\n",
        "grouped_df.head(15)"
      ]
    },
    {
      "cell_type": "code",
<<<<<<< HEAD
      "execution_count": 363,
=======
      "execution_count": null,
>>>>>>> evan
      "metadata": {
        "id": "ocPnz790uSFN"
      },
      "outputs": [],
      "source": [
        "def plot_spectogram(track_id, genre):\n",
        "    filename = get_audio_path(f\"{INPUT_DIR}/fma_small\", track_id)\n",
        "    y, sr = librosa.load(filename)\n",
        "    print(len(y),sr)\n",
        "    spect = librosa.feature.melspectrogram(y=y, sr=sr,n_fft=2048, hop_length=1024)\n",
        "    spect = librosa.power_to_db(spect, ref=np.max)\n",
        "    print(spect.shape, genre)\n",
        "    plt.figure(figsize=(10, 4))\n",
        "    librosa.display.specshow(spect, y_axis='mel', fmax=8000, x_axis='time')\n",
        "    plt.colorbar(format='%+2.0f dB')\n",
        "    plt.title(str(genre))\n",
        "    plt.show()"
      ]
    },
    {
      "cell_type": "code",
<<<<<<< HEAD
      "execution_count": 364,
      "metadata": {
        "id": "MIbLVpe70zqQ",
        "colab": {
          "base_uri": "https://localhost:8080/",
          "height": 386
        },
        "outputId": "81c04cde-3a4b-46f3-c970-69a6e0646631"
=======
      "execution_count": null,
      "metadata": {
        "id": "MIbLVpe70zqQ"
>>>>>>> evan
      },
      "outputs": [],
      "source": [
        "plot_spectogram(2, 'Hip-Hop') # Create spectogram for track 2"
      ]
    },
    {
      "cell_type": "code",
<<<<<<< HEAD
      "execution_count": 365,
      "metadata": {
        "id": "7ClyBkkluTxp",
        "colab": {
          "base_uri": "https://localhost:8080/",
          "height": 1000
        },
        "outputId": "24e8b46c-f2f0-4f80-8c3f-66441c6c8694"
=======
      "execution_count": null,
      "metadata": {
        "id": "7ClyBkkluTxp"
>>>>>>> evan
      },
      "outputs": [],
      "source": [
        "# Visualize differences in spectrograms for each genre\n",
        "for index, row in grouped_df.iterrows():\n",
        "    track_id = int(row['track_id'])\n",
        "    genre = row[('track', 'genre_top')]\n",
        "    plot_spectogram(track_id, genre)"
      ]
    },
    {
      "cell_type": "markdown",
      "metadata": {
        "id": "zYl2FY_4DCgP"
      },
      "source": [
        "### Spectrogram for All Files (For LSTM model)"
      ]
    },
    {
      "cell_type": "code",
<<<<<<< HEAD
      "execution_count": 366,
=======
      "execution_count": null,
>>>>>>> evan
      "metadata": {
        "id": "qXO2f6ZpRl9R"
      },
      "outputs": [],
      "source": [
        "'''\n",
        "Read and convert file into melspectrogram, return as numpy array\n",
        "'''\n",
        "def read_convert_melspec(file_name,title = None):\n",
        "  try:\n",
        "    x,sr = librosa.load(file_name,sr = None)\n",
        "  except:\n",
        "    print(f\"Can't read {file_name}\")\n",
        "    return None\n",
        "\n",
        "  if title is None:\n",
        "    title = file_name[:-4]\n",
        "  spect = librosa.feature.melspectrogram(y=x, sr=sr,n_fft=2048, hop_length=1024)\n",
        "  spect = librosa.power_to_db(spect, ref=np.max)\n",
        "  return spect"
      ]
    },
    {
      "cell_type": "code",
<<<<<<< HEAD
      "execution_count": 367,
=======
      "execution_count": null,
>>>>>>> evan
      "metadata": {
        "id": "BUUkN1OJPXB3"
      },
      "outputs": [],
      "source": [
        "'''\n",
        "Read and store all file path and store in a list\n",
        "'''\n",
        "def read_all_file():\n",
        "  total_audio_list = []\n",
        "  for i in range(156):\n",
        "    if i < 10:\n",
        "      string = \"00\"+str(i)\n",
        "    elif i < 100:\n",
        "      string = \"0\"+str(i)\n",
        "    else :\n",
        "      string = str(i)\n",
        "    list_file = glob.glob(f\"{INPUT_DIR}/fma_small/{string}/*.mp3\")\n",
        "    total_audio_list.extend(list_file)"
      ]
    },
    {
      "cell_type": "code",
<<<<<<< HEAD
      "execution_count": 368,
=======
      "execution_count": null,
>>>>>>> evan
      "metadata": {
        "id": "KKMtomTCQzsh"
      },
      "outputs": [],
      "source": [
        "'''\n",
        "Assign audio from all directory to each genre group, based on the csv file\n",
        "'''\n",
        "def assign_audio_to_genre(total_audio_list,top_genre):\n",
        "  seperate_genre_dict = {}\n",
        "  for i in top_genre:\n",
        "    seperate_genre_dict[i] = []\n",
        "\n",
        "  for i in total_audio_list:\n",
        "    for j in seperate_genre_dict.keys():\n",
        "      try:\n",
        "        if tracks[('track', 'genre_top')][int(i[-10:-4].lstrip('0'))] == j:\n",
        "          seperate_genre_dict[j].append(i)\n",
        "          continue\n",
        "      except Exception as e:\n",
        "        print(f\"Exception {e}and the string is {i}\")\n",
        "        break"
      ]
    },
    {
      "cell_type": "code",
<<<<<<< HEAD
      "execution_count": 369,
=======
      "execution_count": null,
>>>>>>> evan
      "metadata": {
        "id": "55iRbKUtDPN5"
      },
      "outputs": [],
      "source": [
        "'''\n",
        "preprocess data and store them into hdf5 file\n",
        "'''\n",
        "def write_genre_hdf(genre_list,genre_name):\n",
        "  list_store = []\n",
        "  for i in genre_list:\n",
        "    converted = read_convert_melspec(i)\n",
        "    if converted is None:\n",
        "      continue\n",
        "    temp = {\"name\":i,\"mel_spec\":converted}\n",
        "\n",
        "    list_store.append(temp)\n",
        "\n",
        "  file_name = \"mel_spec/\"+genre_name+\".hdf5\"\n",
        "\n",
        "  h = h5py.File(file_name, 'w')\n",
        "  group = h.create_group(genre_name)\n",
        "  for item in list_store:\n",
        "\n",
        "    group.create_dataset(item[\"name\"].replace(\"/\",\"-\"),data = item[\"mel_spec\"])\n",
        "  h.close()"
      ]
    },
    {
      "cell_type": "code",
<<<<<<< HEAD
      "execution_count": 370,
      "metadata": {
        "id": "y1zIQj0fR7y7",
        "colab": {
          "base_uri": "https://localhost:8080/",
          "height": 329
        },
        "outputId": "65bf39d1-84a2-48e8-8a47-6f05be0de0bd"
      },
      "outputs": [
        {
          "output_type": "error",
          "ename": "TypeError",
          "evalue": "ignored",
          "traceback": [
            "\u001b[0;31m---------------------------------------------------------------------------\u001b[0m",
            "\u001b[0;31mTypeError\u001b[0m                                 Traceback (most recent call last)",
            "\u001b[0;32m<ipython-input-370-ae814e2109a8>\u001b[0m in \u001b[0;36m<module>\u001b[0;34m\u001b[0m\n\u001b[1;32m      1\u001b[0m \u001b[0mgenre_list\u001b[0m \u001b[0;34m=\u001b[0m \u001b[0mdf_tracks\u001b[0m\u001b[0;34m[\u001b[0m\u001b[0;34m'track'\u001b[0m\u001b[0;34m]\u001b[0m\u001b[0;34m[\u001b[0m\u001b[0;34m'genre_top'\u001b[0m\u001b[0;34m]\u001b[0m\u001b[0;34m\u001b[0m\u001b[0;34m\u001b[0m\u001b[0m\n\u001b[1;32m      2\u001b[0m \u001b[0mtotal_audio_list\u001b[0m \u001b[0;34m=\u001b[0m \u001b[0mread_all_file\u001b[0m\u001b[0;34m(\u001b[0m\u001b[0;34m)\u001b[0m\u001b[0;34m\u001b[0m\u001b[0;34m\u001b[0m\u001b[0m\n\u001b[0;32m----> 3\u001b[0;31m \u001b[0mseparate_genre_dict\u001b[0m \u001b[0;34m=\u001b[0m \u001b[0massign_audio_to_genre\u001b[0m\u001b[0;34m(\u001b[0m\u001b[0mtotal_audio_list\u001b[0m\u001b[0;34m,\u001b[0m \u001b[0mgenre_list\u001b[0m\u001b[0;34m)\u001b[0m\u001b[0;34m\u001b[0m\u001b[0;34m\u001b[0m\u001b[0m\n\u001b[0m",
            "\u001b[0;32m<ipython-input-368-bd8d6dbc32d6>\u001b[0m in \u001b[0;36massign_audio_to_genre\u001b[0;34m(total_audio_list, top_genre)\u001b[0m\n\u001b[1;32m      7\u001b[0m     \u001b[0mseperate_genre_dict\u001b[0m\u001b[0;34m[\u001b[0m\u001b[0mi\u001b[0m\u001b[0;34m]\u001b[0m \u001b[0;34m=\u001b[0m \u001b[0;34m[\u001b[0m\u001b[0;34m]\u001b[0m\u001b[0;34m\u001b[0m\u001b[0;34m\u001b[0m\u001b[0m\n\u001b[1;32m      8\u001b[0m \u001b[0;34m\u001b[0m\u001b[0m\n\u001b[0;32m----> 9\u001b[0;31m   \u001b[0;32mfor\u001b[0m \u001b[0mi\u001b[0m \u001b[0;32min\u001b[0m \u001b[0mtotal_audio_list\u001b[0m\u001b[0;34m:\u001b[0m\u001b[0;34m\u001b[0m\u001b[0;34m\u001b[0m\u001b[0m\n\u001b[0m\u001b[1;32m     10\u001b[0m     \u001b[0;32mfor\u001b[0m \u001b[0mj\u001b[0m \u001b[0;32min\u001b[0m \u001b[0mseperate_genre_dict\u001b[0m\u001b[0;34m.\u001b[0m\u001b[0mkeys\u001b[0m\u001b[0;34m(\u001b[0m\u001b[0;34m)\u001b[0m\u001b[0;34m:\u001b[0m\u001b[0;34m\u001b[0m\u001b[0;34m\u001b[0m\u001b[0m\n\u001b[1;32m     11\u001b[0m       \u001b[0;32mtry\u001b[0m\u001b[0;34m:\u001b[0m\u001b[0;34m\u001b[0m\u001b[0;34m\u001b[0m\u001b[0m\n",
            "\u001b[0;31mTypeError\u001b[0m: 'NoneType' object is not iterable"
          ]
        }
      ],
=======
      "execution_count": null,
      "metadata": {
        "id": "y1zIQj0fR7y7"
      },
      "outputs": [],
>>>>>>> evan
      "source": [
        "genre_list = df_tracks['track']['genre_top']\n",
        "total_audio_list = read_all_file()\n",
        "separate_genre_dict = assign_audio_to_genre(total_audio_list, genre_list)"
      ]
    },
    {
      "cell_type": "code",
      "execution_count": null,
      "metadata": {
        "id": "a8axxfrLIG9B"
      },
      "outputs": [],
      "source": [
        "'''\n",
        "Convert all to json file, there will be a file for each music genre\n",
        "'''\n",
        "for keys, values in list(separate_genre_dict.items):\n",
        "    write_genre_hdf(values, keys)"
      ]
    },
    {
      "cell_type": "code",
      "execution_count": null,
      "metadata": {
        "id": "O0-KORe8HNf6"
      },
      "outputs": [],
      "source": [
        "'''\n",
        "Reading the data out,\n",
        "return a list of dictionary, each dictionary contains the name and preprocessed data\n",
        "'''\n",
        "def read_hdf(file_path):\n",
        "    return_dict = []\n",
        "    with h5py.File(file_path, 'r') as hf:\n",
        "        print(list(hf.keys()))\n",
        "        dataset = hf[file_path[9:-5]]\n",
        "        print(len(list(dataset.keys())))\n",
        "        keys = list(dataset.keys())\n",
        "        for i in keys:\n",
        "            return_dict.append({\n",
        "                \"name\":i.replace(\"-\",\"/\"),\n",
        "                \"data\":dataset[i][:]\n",
        "            })\n",
        "        return return_dict"
      ]
    },
    {
      "cell_type": "markdown",
      "metadata": {
        "id": "KGOoZb7TppDW"
      },
      "source": [
        "# Model Selection, Tuning and Evaluation"
      ]
    },
    {
      "cell_type": "markdown",
      "metadata": {
        "id": "jb_tm2djqo-5"
      },
      "source": [
        "### Baseline (Classical ML)\n",
        "\n",
        "This purpose of this section is to implement a variety of machine learning models, which are then used as a baseline for performance comparison with neural network based classifiers to follow."
      ]
    },
    {
      "cell_type": "code",
<<<<<<< HEAD
      "execution_count": 374,
=======
      "execution_count": 63,
>>>>>>> evan
      "metadata": {
        "id": "XlNN_N5KqV8Z"
      },
      "outputs": [],
      "source": [
        "# List of classical machine learning model candidates to use as baseline\n",
        "classifiers = {\n",
        "    'LR': LogisticRegression(max_iter=10000),\n",
        "    'kNN': KNeighborsClassifier(n_neighbors=200),\n",
<<<<<<< HEAD
        "    'SVCrbf': SVC(kernel='rbf', max_iter=10000),\n",
        "    'SVCpoly1': SVC(kernel='poly', degree=1, max_iter=10000),\n",
        "    'linSVC1': SVC(kernel=\"linear\", max_iter=10000),\n",
        "    'linSVC2': LinearSVC(),\n",
        "    'DT': DecisionTreeClassifier(max_depth=5),\n",
        "    'RF': RandomForestClassifier(max_depth=5, n_estimators=10, max_features=1),\n",
        "    'AdaBoost': AdaBoostClassifier(n_estimators=10),\n",
        "    'NB': GaussianNB(),\n",
        "}\n",
        "\n",
        "feature_sets = {\n",
        "#    'echonest_audio': ('echonest', 'audio_features'),\n",
        "#    'echonest_social': ('echonest', 'social_features'),\n",
        "#    'echonest_temporal': ('echonest', 'temporal_features'),\n",
        "#    'echonest_audio/social': ('echonest', ('audio_features', 'social_features')),\n",
        "#    'echonest_all': ('echonest', ('audio_features', 'social_features', 'temporal_features')),\n",
        "}\n",
        "\n",
        "for name in df_features.columns.levels[0]:\n",
        "    feature_sets[name] = name\n",
        "    feature_sets.update({\n",
=======
        "    # 'SVCrbf': SVC(kernel='rbf', max_iter=10000),\n",
        "    # 'SVCpoly1': SVC(kernel='poly', degree=1, max_iter=10000),\n",
        "    # 'linSVC1': SVC(kernel=\"linear\", max_iter=10000),\n",
        "    # 'linSVC2': LinearSVC(),\n",
        "    # 'DT': DecisionTreeClassifier(max_depth=5),\n",
        "    # 'RF': RandomForestClassifier(max_depth=5, n_estimators=10, max_features=1),\n",
        "    # 'AdaBoost': AdaBoostClassifier(n_estimators=10),\n",
        "    # 'NB': GaussianNB(),\n",
        "}\n",
        "\n",
        "# TODO: Improve this by using subsets per: \"Index(['chroma_cens', 'chroma_cqt', 'chroma_stft', 'mfcc', 'rmse',\n",
        "      #  'spectral_bandwidth', 'spectral_centroid', 'spectral_contrast',\n",
        "      #  'spectral_rolloff', 'tonnetz', 'zcr'],\n",
        "feature_subsets = {}\n",
        "for subset in df_features.columns.levels[0]:\n",
        "    feature_subsets[subset] = subset\n",
        "    feature_subsets.update({\n",
>>>>>>> evan
        "        'mfcc/contrast': ['mfcc', 'spectral_contrast'],\n",
        "        'mfcc/contrast/chroma': ['mfcc', 'spectral_contrast', 'chroma_cens'],\n",
        "        'mfcc/contrast/centroid': ['mfcc', 'spectral_contrast', 'spectral_centroid'],\n",
        "        'mfcc/contrast/chroma/centroid': ['mfcc', 'spectral_contrast', 'chroma_cens', 'spectral_centroid'],\n",
        "        'mfcc/contrast/chroma/centroid/tonnetz': ['mfcc', 'spectral_contrast', 'chroma_cens', 'spectral_centroid', 'tonnetz'],\n",
<<<<<<< HEAD
        "        'mfcc/contrast/chroma/centroid/zcr': ['mfcc', 'spectral_contrast', 'chroma_cens', 'spectral_centroid', 'zcr'],\n",
        "        'all_non-echonest': list(df_features.columns.levels[0])\n",
        "    })\n",
        "\n"
=======
        "        # 'mfcc/contrast/chroma/centroid/zcr': ['mfcc', 'spectral_contrast', 'chroma_cens', 'spectral_centroid', 'zcr'],\n",
        "        # 'all': list(df_features.columns.levels[0])\n",
        "    })"
>>>>>>> evan
      ]
    },
    {
      "cell_type": "code",
<<<<<<< HEAD
      "execution_count": null,
      "metadata": {
        "id": "5S3pCNLMrHQx",
        "colab": {
          "base_uri": "https://localhost:8080/",
          "height": 212,
          "referenced_widgets": [
            "606870c0ed034f478d734de2c18c5d3c",
            "943738617c7c4c718980f20edc9698f3",
            "fbf2034c9e2d423b8fb0c84dacc77832",
            "d758645315a043afa492026ffe68af67",
            "b639c6c8ff1c47898af2a97648ea0894",
            "ff6ffa837fce43c0a146049380821d30",
            "a95a051299eb43a4acadf2f08194ee30",
            "33d2c54265c947558fb7397c3a838bd1",
            "c8c0f4a9964e4389890705f97295640d",
            "008678966b5f44df937943c8f97f4fdf",
            "a4b224fa0ecf4c4abcc9a2da48823172"
          ]
        },
        "outputId": "9b836844-eacb-477a-f0ff-3d4835b16f3a"
      },
      "outputs": [
        {
          "output_type": "display_data",
          "data": {
            "text/plain": [
              "features:   0%|          | 0/18 [00:00<?, ?it/s]"
            ],
            "application/vnd.jupyter.widget-view+json": {
              "version_major": 2,
              "version_minor": 0,
              "model_id": "606870c0ed034f478d734de2c18c5d3c"
            }
          },
          "metadata": {}
        },
        {
          "output_type": "stream",
          "name": "stderr",
          "text": [
            "/usr/local/lib/python3.7/dist-packages/sklearn/svm/_base.py:289: ConvergenceWarning: Solver terminated early (max_iter=10000).  Consider pre-processing your data with StandardScaler or MinMaxScaler.\n",
            "  ConvergenceWarning,\n",
            "/usr/local/lib/python3.7/dist-packages/sklearn/svm/_base.py:1208: ConvergenceWarning: Liblinear failed to converge, increase the number of iterations.\n",
            "  ConvergenceWarning,\n",
            "/usr/local/lib/python3.7/dist-packages/sklearn/svm/_base.py:289: ConvergenceWarning: Solver terminated early (max_iter=10000).  Consider pre-processing your data with StandardScaler or MinMaxScaler.\n",
            "  ConvergenceWarning,\n",
            "/usr/local/lib/python3.7/dist-packages/sklearn/svm/_base.py:1208: ConvergenceWarning: Liblinear failed to converge, increase the number of iterations.\n",
            "  ConvergenceWarning,\n"
          ]
        }
      ],
      "source": [
        "# TODO: Uncomment only when required as this runs 10+ models for 518 features\n",
        "scores = test_classifiers_features(classifiers, feature_sets)\n",
        "ipd.display(format_scores(scores))\n",
=======
      "source": [
        "# Make columns represent each model candidate\n",
        "baseline_models = list(classifiers.keys())\n",
        "# Add a column to show number of features used\n",
        "baseline_models = baseline_models.insert(0, 'numFeatures')\n",
        "\n",
        "# Setup dataframe to show scores in a matrix, with models as columns and \n",
        "# feature subsets as rows\n",
        "acc_scores_matrix = pd.DataFrame(columns=baseline_models, index=feature_subsets.keys())\n",
        "for fsubset_name, fsubset in tqdm.notebook.tqdm(feature_subsets.items(), desc='feature subset'):\n",
        "  y_train, y_val, y_test, X_train, X_val, X_test = preprocess_pipeline(df_tracks, df_features, fsubset)\n",
>>>>>>> evan
        "\n",
        "  acc_scores_matrix.loc[fsubset_name, 'numFeatures'] = X_train.shape[1]\n",
        "  for clf_name, clf in classifiers.items(): \n",
        "      clf.fit(X_train, y_train)\n",
        "      score = clf.score(X_test, y_test)\n",
        "      acc_scores_matrix.loc[fsubset_name, clf_name] = score\n",
        "      y_pred = clf.predict(X_test)\n",
        "      "
      ],
      "metadata": {
        "id": "yIhTJjma0kTe",
        "outputId": "a8383bd8-fe6c-4045-e618-fd030a994db1",
        "colab": {
          "base_uri": "https://localhost:8080/",
          "height": 49,
          "referenced_widgets": [
            "d7c49cbf96854b9ea57b15966a865b38",
            "efa27876725640b9a96c296dcce92df0",
            "acee702d0b514e70baa832a44ab56168",
            "f026ad03ae8c4bf48e240a2dcfa15a0d",
            "031af5f6e1be4c5383941462fa8a5067",
            "88801b638213459eb9f7227ccdbed0f1",
            "6ca794013b3143d58b48ded2c906d33b",
            "05130dd065474d6692746529f1fdee4f",
            "0c91b5973eea48fca9bf6103390dd7fc",
            "69d12e29733c446b8c6336ceedcfaad2",
            "4ceb5d7c38254b829adae3f3d165dce4"
          ]
        }
      },
      "execution_count": 64,
      "outputs": [
        {
          "output_type": "display_data",
          "data": {
            "text/plain": [
              "feature subset:   0%|          | 0/16 [00:00<?, ?it/s]"
            ],
            "application/vnd.jupyter.widget-view+json": {
              "version_major": 2,
              "version_minor": 0,
              "model_id": "d7c49cbf96854b9ea57b15966a865b38"
            }
          },
          "metadata": {}
        }
      ]
    },
    {
      "cell_type": "code",
      "source": [
        "# Helper function, highlights the top scoring for each feature subset in model-feature matrix\n",
        "def format_matrix_scores(scores):\n",
        "    def highlight(s):\n",
        "        is_max = s == max(s[1:])\n",
        "        return ['background-color: green' if v else '' for v in is_max]\n",
        "    scores = scores.style.apply(highlight, axis=1)\n",
        "    return scores.format('{:.1%}', subset = pd.IndexSlice[:, scores.columns[1]:])"
      ],
      "metadata": {
        "id": "TumkpIkUr78V"
      },
      "execution_count": 65,
      "outputs": []
    },
    {
      "cell_type": "code",
      "execution_count": 66,
      "metadata": {
        "id": "5S3pCNLMrHQx",
        "colab": {
          "base_uri": "https://localhost:8080/",
          "height": 551
        },
        "outputId": "87a38dd4-6817-44cd-f357-1746df2836aa"
      },
      "outputs": [
        {
          "output_type": "display_data",
          "data": {
            "text/plain": [
              "<pandas.io.formats.style.Styler at 0x7f5e2c6fdc90>"
            ],
            "text/html": [
              "<style type=\"text/css\">\n",
              "#T_b77e9_row0_col1, #T_b77e9_row1_col1, #T_b77e9_row2_col1, #T_b77e9_row3_col1, #T_b77e9_row4_col1, #T_b77e9_row5_col1, #T_b77e9_row6_col1, #T_b77e9_row7_col1, #T_b77e9_row8_col1, #T_b77e9_row9_col1, #T_b77e9_row10_col1, #T_b77e9_row11_col1, #T_b77e9_row12_col1, #T_b77e9_row13_col2, #T_b77e9_row14_col1, #T_b77e9_row15_col1 {\n",
              "  background-color: green;\n",
              "}\n",
              "</style>\n",
              "<table id=\"T_b77e9_\" class=\"dataframe\">\n",
              "  <thead>\n",
              "    <tr>\n",
              "      <th class=\"blank level0\" >&nbsp;</th>\n",
              "      <th class=\"col_heading level0 col0\" >numFeatures</th>\n",
              "      <th class=\"col_heading level0 col1\" >LR</th>\n",
              "      <th class=\"col_heading level0 col2\" >kNN</th>\n",
              "    </tr>\n",
              "  </thead>\n",
              "  <tbody>\n",
              "    <tr>\n",
              "      <th id=\"T_b77e9_level0_row0\" class=\"row_heading level0 row0\" >chroma_cens</th>\n",
              "      <td id=\"T_b77e9_row0_col0\" class=\"data row0 col0\" >84.000000</td>\n",
              "      <td id=\"T_b77e9_row0_col1\" class=\"data row0 col1\" >25.0%</td>\n",
              "      <td id=\"T_b77e9_row0_col2\" class=\"data row0 col2\" >22.9%</td>\n",
              "    </tr>\n",
              "    <tr>\n",
              "      <th id=\"T_b77e9_level0_row1\" class=\"row_heading level0 row1\" >mfcc/contrast</th>\n",
              "      <td id=\"T_b77e9_row1_col0\" class=\"data row1 col0\" >189.000000</td>\n",
              "      <td id=\"T_b77e9_row1_col1\" class=\"data row1 col1\" >43.5%</td>\n",
              "      <td id=\"T_b77e9_row1_col2\" class=\"data row1 col2\" >38.5%</td>\n",
              "    </tr>\n",
              "    <tr>\n",
              "      <th id=\"T_b77e9_level0_row2\" class=\"row_heading level0 row2\" >mfcc/contrast/chroma</th>\n",
              "      <td id=\"T_b77e9_row2_col0\" class=\"data row2 col0\" >273.000000</td>\n",
              "      <td id=\"T_b77e9_row2_col1\" class=\"data row2 col1\" >43.2%</td>\n",
              "      <td id=\"T_b77e9_row2_col2\" class=\"data row2 col2\" >35.2%</td>\n",
              "    </tr>\n",
              "    <tr>\n",
              "      <th id=\"T_b77e9_level0_row3\" class=\"row_heading level0 row3\" >mfcc/contrast/centroid</th>\n",
              "      <td id=\"T_b77e9_row3_col0\" class=\"data row3 col0\" >196.000000</td>\n",
              "      <td id=\"T_b77e9_row3_col1\" class=\"data row3 col1\" >43.4%</td>\n",
              "      <td id=\"T_b77e9_row3_col2\" class=\"data row3 col2\" >38.2%</td>\n",
              "    </tr>\n",
              "    <tr>\n",
              "      <th id=\"T_b77e9_level0_row4\" class=\"row_heading level0 row4\" >mfcc/contrast/chroma/centroid</th>\n",
              "      <td id=\"T_b77e9_row4_col0\" class=\"data row4 col0\" >280.000000</td>\n",
              "      <td id=\"T_b77e9_row4_col1\" class=\"data row4 col1\" >43.9%</td>\n",
              "      <td id=\"T_b77e9_row4_col2\" class=\"data row4 col2\" >34.6%</td>\n",
              "    </tr>\n",
              "    <tr>\n",
              "      <th id=\"T_b77e9_level0_row5\" class=\"row_heading level0 row5\" >mfcc/contrast/chroma/centroid/tonnetz</th>\n",
              "      <td id=\"T_b77e9_row5_col0\" class=\"data row5 col0\" >322.000000</td>\n",
              "      <td id=\"T_b77e9_row5_col1\" class=\"data row5 col1\" >43.9%</td>\n",
              "      <td id=\"T_b77e9_row5_col2\" class=\"data row5 col2\" >33.8%</td>\n",
              "    </tr>\n",
              "    <tr>\n",
              "      <th id=\"T_b77e9_level0_row6\" class=\"row_heading level0 row6\" >chroma_cqt</th>\n",
              "      <td id=\"T_b77e9_row6_col0\" class=\"data row6 col0\" >84.000000</td>\n",
              "      <td id=\"T_b77e9_row6_col1\" class=\"data row6 col1\" >28.0%</td>\n",
              "      <td id=\"T_b77e9_row6_col2\" class=\"data row6 col2\" >22.2%</td>\n",
              "    </tr>\n",
              "    <tr>\n",
              "      <th id=\"T_b77e9_level0_row7\" class=\"row_heading level0 row7\" >chroma_stft</th>\n",
              "      <td id=\"T_b77e9_row7_col0\" class=\"data row7 col0\" >84.000000</td>\n",
              "      <td id=\"T_b77e9_row7_col1\" class=\"data row7 col1\" >33.4%</td>\n",
              "      <td id=\"T_b77e9_row7_col2\" class=\"data row7 col2\" >30.9%</td>\n",
              "    </tr>\n",
              "    <tr>\n",
              "      <th id=\"T_b77e9_level0_row8\" class=\"row_heading level0 row8\" >mfcc</th>\n",
              "      <td id=\"T_b77e9_row8_col0\" class=\"data row8 col0\" >140.000000</td>\n",
              "      <td id=\"T_b77e9_row8_col1\" class=\"data row8 col1\" >41.2%</td>\n",
              "      <td id=\"T_b77e9_row8_col2\" class=\"data row8 col2\" >36.9%</td>\n",
              "    </tr>\n",
              "    <tr>\n",
              "      <th id=\"T_b77e9_level0_row9\" class=\"row_heading level0 row9\" >rmse</th>\n",
              "      <td id=\"T_b77e9_row9_col0\" class=\"data row9 col0\" >7.000000</td>\n",
              "      <td id=\"T_b77e9_row9_col1\" class=\"data row9 col1\" >21.1%</td>\n",
              "      <td id=\"T_b77e9_row9_col2\" class=\"data row9 col2\" >21.0%</td>\n",
              "    </tr>\n",
              "    <tr>\n",
              "      <th id=\"T_b77e9_level0_row10\" class=\"row_heading level0 row10\" >spectral_bandwidth</th>\n",
              "      <td id=\"T_b77e9_row10_col0\" class=\"data row10 col0\" >7.000000</td>\n",
              "      <td id=\"T_b77e9_row10_col1\" class=\"data row10 col1\" >31.9%</td>\n",
              "      <td id=\"T_b77e9_row10_col2\" class=\"data row10 col2\" >30.5%</td>\n",
              "    </tr>\n",
              "    <tr>\n",
              "      <th id=\"T_b77e9_level0_row11\" class=\"row_heading level0 row11\" >spectral_centroid</th>\n",
              "      <td id=\"T_b77e9_row11_col0\" class=\"data row11 col0\" >7.000000</td>\n",
              "      <td id=\"T_b77e9_row11_col1\" class=\"data row11 col1\" >30.9%</td>\n",
              "      <td id=\"T_b77e9_row11_col2\" class=\"data row11 col2\" >30.6%</td>\n",
              "    </tr>\n",
              "    <tr>\n",
              "      <th id=\"T_b77e9_level0_row12\" class=\"row_heading level0 row12\" >spectral_contrast</th>\n",
              "      <td id=\"T_b77e9_row12_col0\" class=\"data row12 col0\" >49.000000</td>\n",
              "      <td id=\"T_b77e9_row12_col1\" class=\"data row12 col1\" >36.1%</td>\n",
              "      <td id=\"T_b77e9_row12_col2\" class=\"data row12 col2\" >34.8%</td>\n",
              "    </tr>\n",
              "    <tr>\n",
              "      <th id=\"T_b77e9_level0_row13\" class=\"row_heading level0 row13\" >spectral_rolloff</th>\n",
              "      <td id=\"T_b77e9_row13_col0\" class=\"data row13 col0\" >7.000000</td>\n",
              "      <td id=\"T_b77e9_row13_col1\" class=\"data row13 col1\" >28.4%</td>\n",
              "      <td id=\"T_b77e9_row13_col2\" class=\"data row13 col2\" >30.5%</td>\n",
              "    </tr>\n",
              "    <tr>\n",
              "      <th id=\"T_b77e9_level0_row14\" class=\"row_heading level0 row14\" >tonnetz</th>\n",
              "      <td id=\"T_b77e9_row14_col0\" class=\"data row14 col0\" >42.000000</td>\n",
              "      <td id=\"T_b77e9_row14_col1\" class=\"data row14 col1\" >26.8%</td>\n",
              "      <td id=\"T_b77e9_row14_col2\" class=\"data row14 col2\" >21.8%</td>\n",
              "    </tr>\n",
              "    <tr>\n",
              "      <th id=\"T_b77e9_level0_row15\" class=\"row_heading level0 row15\" >zcr</th>\n",
              "      <td id=\"T_b77e9_row15_col0\" class=\"data row15 col0\" >7.000000</td>\n",
              "      <td id=\"T_b77e9_row15_col1\" class=\"data row15 col1\" >26.8%</td>\n",
              "      <td id=\"T_b77e9_row15_col2\" class=\"data row15 col2\" >22.8%</td>\n",
              "    </tr>\n",
              "  </tbody>\n",
              "</table>\n"
            ]
          },
          "metadata": {}
        }
      ],
      "source": [
        "# TODO: Uncomment only when required as this runs 10+ models for 518 features\n",
        "# acc_scores = run_baseline_models_vs_feature_subsets(classifiers, feature_sets)\n",
        "ipd.display(format_matrix_scores(acc_scores_matrix))"
      ]
    },
    {
      "cell_type": "markdown",
      "metadata": {
        "id": "mRU0heUYrIcn"
      },
      "source": [
        "### Neural Networks"
      ]
    },
    {
      "cell_type": "markdown",
      "metadata": {
        "id": "wsHc8WEzew6N"
      },
      "source": [
        "#### CNN"
      ]
    },
    {
      "cell_type": "code",
      "execution_count": null,
      "metadata": {
        "id": "tCtoVmp4rkD6"
      },
      "outputs": [],
      "source": []
    },
    {
      "cell_type": "markdown",
      "metadata": {
        "id": "5ZA95BPwreaZ"
      },
      "source": [
        "#### LSTM"
      ]
    },
    {
      "cell_type": "code",
      "execution_count": null,
      "metadata": {
        "id": "dHpk66Aprk43"
      },
      "outputs": [],
      "source": []
    },
    {
      "cell_type": "markdown",
      "metadata": {
        "id": "pjWWZPsRrR3b"
      },
      "source": [
        "#### Transfer Learning Approach"
      ]
    },
    {
      "cell_type": "code",
      "execution_count": null,
      "metadata": {
        "id": "cjNk4Oi1rldD"
      },
      "outputs": [],
      "source": []
    },
    {
      "cell_type": "markdown",
      "metadata": {
        "id": "CiOPbUyKrZF7"
      },
      "source": [
        "#### GRU"
      ]
    },
    {
      "cell_type": "code",
      "execution_count": null,
      "metadata": {
        "id": "fLQ91rkqrmuE"
      },
      "outputs": [],
      "source": []
    },
    {
      "cell_type": "markdown",
      "metadata": {
        "id": "oOSf99sx5IyT"
      },
      "source": [
        "#### CRNN"
      ]
    },
    {
      "cell_type": "code",
      "execution_count": null,
      "metadata": {
        "id": "yXTrv3735N5M"
      },
      "outputs": [],
      "source": [
        "import os\n",
        "import numpy as np\n",
        "from os.path import isfile\n",
        "\n",
        "import keras\n",
        "from keras.models import Sequential, Model\n",
        "from keras.layers import Input, Dense, TimeDistributed, LSTM, Dropout, Activation\n",
        "from keras.layers import Conv1D, MaxPooling1D, Flatten, Conv2D, BatchNormalization, Lambda\n",
        "\n",
        "from keras import backend\n",
        "from keras.layers import ELU\n",
        "from keras import regularizers\n",
        "from keras.utils import np_utils\n",
        "from keras.optimizers import Adam, RMSprop\n",
        "from keras.callbacks import ModelCheckpoint, TensorBoard, ReduceLROnPlateau\n",
        "\n",
        "import librosa\n",
        "import librosa.display\n",
        "\n",
        "from sklearn.metrics import classification_report\n",
        "from sklearn.metrics import accuracy_score\n",
        "%matplotlib inline"
      ]
    },
    {
      "cell_type": "code",
      "execution_count": null,
      "metadata": {
        "id": "z-Wqs1jO5QyE"
      },
      "outputs": [],
      "source": [
        "genres_dict = {\n",
        "    'Electronic': 0, \n",
        "    'Experimental': 1, \n",
        "    'Folk': 2, \n",
        "    'Hip-Hop': 3, \n",
        "    'Instrumental': 4,\n",
        "    'International': 5, \n",
        "    'Pop': 6, \n",
        "    'Rock': 7  \n",
        "}\n",
        "\n",
        "reverse_genres_dic = {v: k for k, v in genres_dict.items()}"
      ]
    },
    {
      "cell_type": "code",
      "execution_count": null,
      "metadata": {
        "id": "2iaVr0nU52a-"
      },
      "outputs": [],
      "source": [
        "npz_file = np.load('input/shuffled_train.npz')\n",
        "# print(npz_file.files)\n",
        "X_train = npz_file['arr_0'] # get array from the first file \n",
        "y_train = npz_file['arr_1'] # get array from the second file\n",
        "print(X_train.shape, y_train.shape)"
      ]
    },
    {
      "cell_type": "code",
      "execution_count": null,
      "metadata": {
        "id": "m_xb4RqIZ-VX"
      },
      "outputs": [],
      "source": [
        "npz_valid_file = np.load('input/shuffled_valid.npz')\n",
        "# print(npz_valid_file.files)\n",
        "X_valid = npz_valid_file['arr_0']\n",
        "y_valid = npz_valid_file['arr_1']\n",
        "print(X_valid.shape, y_valid.shape)"
      ]
    },
    {
      "cell_type": "code",
      "execution_count": null,
      "metadata": {
        "id": "jHOTnEho54cj"
      },
      "outputs": [],
      "source": [
        "# Check by plotting a Spectogram\n",
        "num = 5300\n",
        "spectogram = X_train[num]\n",
        "genre_index = np.argmax(y_train[num])\n",
        "\n",
        "print(reverse_genres_dic[genre_index])\n",
        "\n",
        "plt.figure(figsize=(10, 5))\n",
        "librosa.display.specshow(spectogram.T, y_axis='mel', x_axis='time')\n",
        "plt.colorbar(format='%+2.0f dB')\n",
        "plt.title('Test Melspectogram')\n",
        "plt.tight_layout()"
      ]
    },
    {
      "cell_type": "markdown",
      "metadata": {
        "id": "LaWdXMMlZciQ"
      },
      "source": [
        "##### Implementation"
      ]
    },
    {
      "cell_type": "code",
      "execution_count": null,
      "metadata": {
        "id": "9uEf8ueXZhnt"
      },
      "outputs": [],
      "source": [
        "# Hyperparameters\n",
        "\n",
        "batch_size = 32\n",
        "num_classes = 8   # 8 genres classes in total\n",
        "n_features = X_train.shape[2]\n",
        "n_time = X_train.shape[1]\n",
        "N_LAYERS = 3\n",
        "FILTER_LENGTH = 5\n",
        "CONV_FILTER_COUNT = 56\n",
        "BATCH_SIZE = 32\n",
        "LSTM_COUNT = 96\n",
        "EPOCH_COUNT = 70\n",
        "NUM_HIDDEN = 64\n",
        "L2_regularization = 0.001"
      ]
    },
    {
      "cell_type": "code",
      "execution_count": null,
      "metadata": {
        "id": "uKLuoIChZibP"
      },
      "outputs": [],
      "source": [
        "def conv_recurrent_model_build(model_input):\n",
        "    print('Building model...')\n",
        "    layer = model_input\n",
        "    \n",
        "    ### 3 1D Convolution Layers\n",
        "    for i in range(N_LAYERS):\n",
        "        # give name to the layers\n",
        "        layer = Conv1D(\n",
        "                filters=CONV_FILTER_COUNT,\n",
        "                kernel_size=FILTER_LENGTH,\n",
        "                kernel_regularizer=regularizers.l2(L2_regularization),  # Tried 0.001\n",
        "                name='convolution_' + str(i + 1)\n",
        "            )(layer)\n",
        "        layer = BatchNormalization(momentum=0.9)(layer)\n",
        "        layer = Activation('relu')(layer)\n",
        "        layer = MaxPooling1D(2)(layer)\n",
        "        layer = Dropout(0.4)(layer)\n",
        "    \n",
        "    ## LSTM Layer\n",
        "    layer = LSTM(LSTM_COUNT, return_sequences=False)(layer)\n",
        "    layer = Dropout(0.4)(layer)\n",
        "    \n",
        "    ## Dense Layer\n",
        "    layer = Dense(NUM_HIDDEN, kernel_regularizer=regularizers.l2(L2_regularization), name='dense1')(layer)\n",
        "    layer = Dropout(0.4)(layer)\n",
        "    \n",
        "    ## Softmax Output\n",
        "    layer = Dense(num_classes)(layer)\n",
        "    layer = Activation('softmax', name='output_realtime')(layer)\n",
        "    model_output = layer\n",
        "    model = Model(model_input, model_output)\n",
        "    \n",
        "    \n",
        "    opt = Adam(learning_rate=0.001)\n",
        "    model.compile(\n",
        "            loss='categorical_crossentropy',\n",
        "            optimizer=opt,\n",
        "            metrics=['accuracy']\n",
        "        )\n",
        "    \n",
        "    print(model.summary())\n",
        "    return model"
      ]
    },
    {
      "cell_type": "code",
      "execution_count": null,
      "metadata": {
        "id": "BTVT5xm4Zqxi"
      },
      "outputs": [],
      "source": [
        "def train_model(x_train, y_train, x_val, y_val):\n",
        "    \n",
        "    n_features = x_train.shape[2]\n",
        "    input_shape = (None, n_features)\n",
        "    model_input = Input(input_shape, name='input')\n",
        "    \n",
        "    model = conv_recurrent_model_build(model_input)\n",
        "    \n",
        "#     tb_callback = TensorBoard(log_dir='./logs/4', histogram_freq=1, batch_size=32, write_graph=True, write_grads=False,\n",
        "#                               write_images=False, embeddings_freq=0, embeddings_layer_names=None,\n",
        "#                               embeddings_metadata=None)\n",
        "    checkpoint_callback = ModelCheckpoint('./models/crnn/weights.best.h5', monitor='val_acc', verbose=1,\n",
        "                                          save_best_only=True, mode='max')\n",
        "    \n",
        "    reducelr_callback = ReduceLROnPlateau(\n",
        "                monitor='val_acc', factor=0.5, patience=10, min_delta=0.01,\n",
        "                verbose=1\n",
        "            )\n",
        "    callbacks_list = [checkpoint_callback, reducelr_callback]\n",
        "\n",
        "    # Fit the model and get training history.\n",
        "    print('Training...')\n",
        "    history = model.fit(x_train, y_train, batch_size=BATCH_SIZE, epochs=EPOCH_COUNT,\n",
        "                        validation_data=(x_val, y_val), verbose=1, callbacks=callbacks_list)\n",
        "\n",
        "    return model, history"
      ]
    },
    {
      "cell_type": "code",
      "execution_count": null,
      "metadata": {
        "id": "KhXv984ZZ1IK"
      },
      "outputs": [],
      "source": [
        "model, history  = train_model(X_train, y_train, X_valid, y_valid)"
      ]
    },
    {
      "cell_type": "code",
      "execution_count": null,
      "metadata": {
        "id": "hDx861e-Z2gk"
      },
      "outputs": [],
      "source": [
        "def show_summary_stats(history):\n",
        "    # List all data in history\n",
        "    print(history.history.keys())\n",
        "\n",
        "    # Summarize history for accuracy\n",
        "    plt.plot(history.history['accuracy'])\n",
        "    plt.plot(history.history['val_accuracy'])\n",
        "    plt.title('model accuracy')\n",
        "    plt.ylabel('accuracy')\n",
        "    plt.xlabel('epoch')\n",
        "    plt.legend(['train', 'test'], loc='upper left')\n",
        "    plt.show()\n",
        "\n",
        "    # Summarize history for loss\n",
        "    plt.plot(history.history['loss'])\n",
        "    plt.plot(history.history['val_loss'])\n",
        "    plt.title('model loss')\n",
        "    plt.ylabel('loss')\n",
        "    plt.xlabel('epoch')\n",
        "    plt.legend(['train', 'test'], loc='upper left')\n",
        "    plt.show()"
      ]
    },
    {
      "cell_type": "code",
      "execution_count": null,
      "metadata": {
        "id": "yAWw5bXt35pM"
      },
      "outputs": [],
      "source": [
        "show_summary_stats(history)"
      ]
    },
    {
      "cell_type": "markdown",
      "metadata": {
        "id": "SMV5VnW9fjYs"
      },
      "source": [
        "##### Evaluation"
      ]
    },
    {
      "cell_type": "code",
      "execution_count": null,
      "metadata": {
        "id": "FRQdWrs-38v3"
      },
      "outputs": [],
      "source": [
        "y_true = np.argmax(y_valid, axis = 1)\n",
        "y_pred = model.predict(X_valid)\n",
        "y_pred = np.argmax(y_pred, axis=1)\n",
        "labels = [0,1,2,3,4,5,6,7]\n",
        "target_names = genres_dict.keys()\n",
        "\n",
        "print(y_true.shape, y_pred.shape)\n",
        "print(classification_report(y_true, y_pred, target_names=target_names))"
      ]
    },
    {
      "cell_type": "code",
      "execution_count": null,
      "metadata": {
        "id": "htXkj-SE3-ha"
      },
      "outputs": [],
      "source": [
        "print(accuracy_score(y_true, y_pred))"
      ]
    },
    {
      "cell_type": "markdown",
      "metadata": {
        "id": "0f6Cf4kM6ZaC"
      },
      "source": [
        "# Summary, Insights and Conclusions"
      ]
    },
    {
      "cell_type": "markdown",
      "metadata": {
        "id": "RIlRCEoZ6ei4"
      },
      "source": [
        "TODO"
      ]
    }
  ],
  "metadata": {
    "colab": {
      "collapsed_sections": [],
      "provenance": [],
      "toc_visible": true
    },
    "gpuClass": "standard",
    "kernelspec": {
      "display_name": "Python 3 (ipykernel)",
      "language": "python",
      "name": "python3"
    },
    "language_info": {
      "codemirror_mode": {
        "name": "ipython",
        "version": 3
      },
      "file_extension": ".py",
      "mimetype": "text/x-python",
      "name": "python",
      "nbconvert_exporter": "python",
      "pygments_lexer": "ipython3",
      "version": "3.9.15"
    },
    "widgets": {
      "application/vnd.jupyter.widget-state+json": {
<<<<<<< HEAD
        "606870c0ed034f478d734de2c18c5d3c": {
=======
        "d7c49cbf96854b9ea57b15966a865b38": {
>>>>>>> evan
          "model_module": "@jupyter-widgets/controls",
          "model_name": "HBoxModel",
          "model_module_version": "1.5.0",
          "state": {
            "_dom_classes": [],
            "_model_module": "@jupyter-widgets/controls",
            "_model_module_version": "1.5.0",
            "_model_name": "HBoxModel",
            "_view_count": null,
            "_view_module": "@jupyter-widgets/controls",
            "_view_module_version": "1.5.0",
            "_view_name": "HBoxView",
            "box_style": "",
            "children": [
<<<<<<< HEAD
              "IPY_MODEL_943738617c7c4c718980f20edc9698f3",
              "IPY_MODEL_fbf2034c9e2d423b8fb0c84dacc77832",
              "IPY_MODEL_d758645315a043afa492026ffe68af67"
            ],
            "layout": "IPY_MODEL_b639c6c8ff1c47898af2a97648ea0894"
          }
        },
        "943738617c7c4c718980f20edc9698f3": {
=======
              "IPY_MODEL_efa27876725640b9a96c296dcce92df0",
              "IPY_MODEL_acee702d0b514e70baa832a44ab56168",
              "IPY_MODEL_f026ad03ae8c4bf48e240a2dcfa15a0d"
            ],
            "layout": "IPY_MODEL_031af5f6e1be4c5383941462fa8a5067"
          }
        },
        "efa27876725640b9a96c296dcce92df0": {
>>>>>>> evan
          "model_module": "@jupyter-widgets/controls",
          "model_name": "HTMLModel",
          "model_module_version": "1.5.0",
          "state": {
            "_dom_classes": [],
            "_model_module": "@jupyter-widgets/controls",
            "_model_module_version": "1.5.0",
            "_model_name": "HTMLModel",
            "_view_count": null,
            "_view_module": "@jupyter-widgets/controls",
            "_view_module_version": "1.5.0",
            "_view_name": "HTMLView",
            "description": "",
            "description_tooltip": null,
<<<<<<< HEAD
            "layout": "IPY_MODEL_ff6ffa837fce43c0a146049380821d30",
            "placeholder": "​",
            "style": "IPY_MODEL_a95a051299eb43a4acadf2f08194ee30",
            "value": "features:  11%"
          }
        },
        "fbf2034c9e2d423b8fb0c84dacc77832": {
=======
            "layout": "IPY_MODEL_88801b638213459eb9f7227ccdbed0f1",
            "placeholder": "​",
            "style": "IPY_MODEL_6ca794013b3143d58b48ded2c906d33b",
            "value": "feature subset: 100%"
          }
        },
        "acee702d0b514e70baa832a44ab56168": {
>>>>>>> evan
          "model_module": "@jupyter-widgets/controls",
          "model_name": "FloatProgressModel",
          "model_module_version": "1.5.0",
          "state": {
            "_dom_classes": [],
            "_model_module": "@jupyter-widgets/controls",
            "_model_module_version": "1.5.0",
            "_model_name": "FloatProgressModel",
            "_view_count": null,
            "_view_module": "@jupyter-widgets/controls",
            "_view_module_version": "1.5.0",
            "_view_name": "ProgressView",
<<<<<<< HEAD
            "bar_style": "",
            "description": "",
            "description_tooltip": null,
            "layout": "IPY_MODEL_33d2c54265c947558fb7397c3a838bd1",
            "max": 18,
            "min": 0,
            "orientation": "horizontal",
            "style": "IPY_MODEL_c8c0f4a9964e4389890705f97295640d",
            "value": 2
          }
        },
        "d758645315a043afa492026ffe68af67": {
=======
            "bar_style": "success",
            "description": "",
            "description_tooltip": null,
            "layout": "IPY_MODEL_05130dd065474d6692746529f1fdee4f",
            "max": 16,
            "min": 0,
            "orientation": "horizontal",
            "style": "IPY_MODEL_0c91b5973eea48fca9bf6103390dd7fc",
            "value": 16
          }
        },
        "f026ad03ae8c4bf48e240a2dcfa15a0d": {
>>>>>>> evan
          "model_module": "@jupyter-widgets/controls",
          "model_name": "HTMLModel",
          "model_module_version": "1.5.0",
          "state": {
            "_dom_classes": [],
            "_model_module": "@jupyter-widgets/controls",
            "_model_module_version": "1.5.0",
            "_model_name": "HTMLModel",
            "_view_count": null,
            "_view_module": "@jupyter-widgets/controls",
            "_view_module_version": "1.5.0",
            "_view_name": "HTMLView",
            "description": "",
            "description_tooltip": null,
<<<<<<< HEAD
            "layout": "IPY_MODEL_008678966b5f44df937943c8f97f4fdf",
            "placeholder": "​",
            "style": "IPY_MODEL_a4b224fa0ecf4c4abcc9a2da48823172",
            "value": " 2/18 [02:07&lt;17:25, 65.35s/it]"
          }
        },
        "b639c6c8ff1c47898af2a97648ea0894": {
=======
            "layout": "IPY_MODEL_69d12e29733c446b8c6336ceedcfaad2",
            "placeholder": "​",
            "style": "IPY_MODEL_4ceb5d7c38254b829adae3f3d165dce4",
            "value": " 16/16 [00:52&lt;00:00,  1.45s/it]"
          }
        },
        "031af5f6e1be4c5383941462fa8a5067": {
>>>>>>> evan
          "model_module": "@jupyter-widgets/base",
          "model_name": "LayoutModel",
          "model_module_version": "1.2.0",
          "state": {
            "_model_module": "@jupyter-widgets/base",
            "_model_module_version": "1.2.0",
            "_model_name": "LayoutModel",
            "_view_count": null,
            "_view_module": "@jupyter-widgets/base",
            "_view_module_version": "1.2.0",
            "_view_name": "LayoutView",
            "align_content": null,
            "align_items": null,
            "align_self": null,
            "border": null,
            "bottom": null,
            "display": null,
            "flex": null,
            "flex_flow": null,
            "grid_area": null,
            "grid_auto_columns": null,
            "grid_auto_flow": null,
            "grid_auto_rows": null,
            "grid_column": null,
            "grid_gap": null,
            "grid_row": null,
            "grid_template_areas": null,
            "grid_template_columns": null,
            "grid_template_rows": null,
            "height": null,
            "justify_content": null,
            "justify_items": null,
            "left": null,
            "margin": null,
            "max_height": null,
            "max_width": null,
            "min_height": null,
            "min_width": null,
            "object_fit": null,
            "object_position": null,
            "order": null,
            "overflow": null,
            "overflow_x": null,
            "overflow_y": null,
            "padding": null,
            "right": null,
            "top": null,
            "visibility": null,
            "width": null
          }
        },
<<<<<<< HEAD
        "ff6ffa837fce43c0a146049380821d30": {
=======
        "88801b638213459eb9f7227ccdbed0f1": {
>>>>>>> evan
          "model_module": "@jupyter-widgets/base",
          "model_name": "LayoutModel",
          "model_module_version": "1.2.0",
          "state": {
            "_model_module": "@jupyter-widgets/base",
            "_model_module_version": "1.2.0",
            "_model_name": "LayoutModel",
            "_view_count": null,
            "_view_module": "@jupyter-widgets/base",
            "_view_module_version": "1.2.0",
            "_view_name": "LayoutView",
            "align_content": null,
            "align_items": null,
            "align_self": null,
            "border": null,
            "bottom": null,
            "display": null,
            "flex": null,
            "flex_flow": null,
            "grid_area": null,
            "grid_auto_columns": null,
            "grid_auto_flow": null,
            "grid_auto_rows": null,
            "grid_column": null,
            "grid_gap": null,
            "grid_row": null,
            "grid_template_areas": null,
            "grid_template_columns": null,
            "grid_template_rows": null,
            "height": null,
            "justify_content": null,
            "justify_items": null,
            "left": null,
            "margin": null,
            "max_height": null,
            "max_width": null,
            "min_height": null,
            "min_width": null,
            "object_fit": null,
            "object_position": null,
            "order": null,
            "overflow": null,
            "overflow_x": null,
            "overflow_y": null,
            "padding": null,
            "right": null,
            "top": null,
            "visibility": null,
            "width": null
          }
        },
<<<<<<< HEAD
        "a95a051299eb43a4acadf2f08194ee30": {
=======
        "6ca794013b3143d58b48ded2c906d33b": {
>>>>>>> evan
          "model_module": "@jupyter-widgets/controls",
          "model_name": "DescriptionStyleModel",
          "model_module_version": "1.5.0",
          "state": {
            "_model_module": "@jupyter-widgets/controls",
            "_model_module_version": "1.5.0",
            "_model_name": "DescriptionStyleModel",
            "_view_count": null,
            "_view_module": "@jupyter-widgets/base",
            "_view_module_version": "1.2.0",
            "_view_name": "StyleView",
            "description_width": ""
          }
        },
<<<<<<< HEAD
        "33d2c54265c947558fb7397c3a838bd1": {
=======
        "05130dd065474d6692746529f1fdee4f": {
>>>>>>> evan
          "model_module": "@jupyter-widgets/base",
          "model_name": "LayoutModel",
          "model_module_version": "1.2.0",
          "state": {
            "_model_module": "@jupyter-widgets/base",
            "_model_module_version": "1.2.0",
            "_model_name": "LayoutModel",
            "_view_count": null,
            "_view_module": "@jupyter-widgets/base",
            "_view_module_version": "1.2.0",
            "_view_name": "LayoutView",
            "align_content": null,
            "align_items": null,
            "align_self": null,
            "border": null,
            "bottom": null,
            "display": null,
            "flex": null,
            "flex_flow": null,
            "grid_area": null,
            "grid_auto_columns": null,
            "grid_auto_flow": null,
            "grid_auto_rows": null,
            "grid_column": null,
            "grid_gap": null,
            "grid_row": null,
            "grid_template_areas": null,
            "grid_template_columns": null,
            "grid_template_rows": null,
            "height": null,
            "justify_content": null,
            "justify_items": null,
            "left": null,
            "margin": null,
            "max_height": null,
            "max_width": null,
            "min_height": null,
            "min_width": null,
            "object_fit": null,
            "object_position": null,
            "order": null,
            "overflow": null,
            "overflow_x": null,
            "overflow_y": null,
            "padding": null,
            "right": null,
            "top": null,
            "visibility": null,
            "width": null
          }
        },
<<<<<<< HEAD
        "c8c0f4a9964e4389890705f97295640d": {
=======
        "0c91b5973eea48fca9bf6103390dd7fc": {
>>>>>>> evan
          "model_module": "@jupyter-widgets/controls",
          "model_name": "ProgressStyleModel",
          "model_module_version": "1.5.0",
          "state": {
            "_model_module": "@jupyter-widgets/controls",
            "_model_module_version": "1.5.0",
            "_model_name": "ProgressStyleModel",
            "_view_count": null,
            "_view_module": "@jupyter-widgets/base",
            "_view_module_version": "1.2.0",
            "_view_name": "StyleView",
            "bar_color": null,
            "description_width": ""
          }
        },
<<<<<<< HEAD
        "008678966b5f44df937943c8f97f4fdf": {
=======
        "69d12e29733c446b8c6336ceedcfaad2": {
>>>>>>> evan
          "model_module": "@jupyter-widgets/base",
          "model_name": "LayoutModel",
          "model_module_version": "1.2.0",
          "state": {
            "_model_module": "@jupyter-widgets/base",
            "_model_module_version": "1.2.0",
            "_model_name": "LayoutModel",
            "_view_count": null,
            "_view_module": "@jupyter-widgets/base",
            "_view_module_version": "1.2.0",
            "_view_name": "LayoutView",
            "align_content": null,
            "align_items": null,
            "align_self": null,
            "border": null,
            "bottom": null,
            "display": null,
            "flex": null,
            "flex_flow": null,
            "grid_area": null,
            "grid_auto_columns": null,
            "grid_auto_flow": null,
            "grid_auto_rows": null,
            "grid_column": null,
            "grid_gap": null,
            "grid_row": null,
            "grid_template_areas": null,
            "grid_template_columns": null,
            "grid_template_rows": null,
            "height": null,
            "justify_content": null,
            "justify_items": null,
            "left": null,
            "margin": null,
            "max_height": null,
            "max_width": null,
            "min_height": null,
            "min_width": null,
            "object_fit": null,
            "object_position": null,
            "order": null,
            "overflow": null,
            "overflow_x": null,
            "overflow_y": null,
            "padding": null,
            "right": null,
            "top": null,
            "visibility": null,
            "width": null
          }
        },
<<<<<<< HEAD
        "a4b224fa0ecf4c4abcc9a2da48823172": {
=======
        "4ceb5d7c38254b829adae3f3d165dce4": {
>>>>>>> evan
          "model_module": "@jupyter-widgets/controls",
          "model_name": "DescriptionStyleModel",
          "model_module_version": "1.5.0",
          "state": {
            "_model_module": "@jupyter-widgets/controls",
            "_model_module_version": "1.5.0",
            "_model_name": "DescriptionStyleModel",
            "_view_count": null,
            "_view_module": "@jupyter-widgets/base",
            "_view_module_version": "1.2.0",
            "_view_name": "StyleView",
            "description_width": ""
          }
        }
      }
<<<<<<< HEAD
    }
=======
    },
    "accelerator": "GPU"
>>>>>>> evan
  },
  "nbformat": 4,
  "nbformat_minor": 0
}