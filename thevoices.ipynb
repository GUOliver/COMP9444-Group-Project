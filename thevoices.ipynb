{
 "cells": [
  {
   "cell_type": "code",
   "execution_count": 1,
   "id": "22a0199c-e0c1-4aa6-ae83-8f29d8d4c774",
   "metadata": {},
   "outputs": [
    {
     "name": "stdout",
     "output_type": "stream",
     "text": [
      "{'Jazz', 'Country', 'Blues', 'Easy Listening', 'Electronic', 'Folk', 'Spoken', 'Hip-Hop', 'Old-Time / Historic', 'Classical', 'Pop', 'Soul-RnB', 'International', 'Rock', 'Experimental', 'Instrumental'}\n"
     ]
    }
   ],
   "source": [
    "import csv \n",
    "import torch\n",
    "import torch.utils.data\n",
    "import torch.nn.functional as F\n",
    "import pandas as pd\n",
    "import numpy as np\n",
    "import matplotlib.pyplot as plt\n",
    "import argparse\n",
    "from torch.optim import Adam\n",
    "from torch.autograd import Variable\n",
    "from RecurrentNet import RecurrentNet\n",
    "\n",
    "\n",
    "\n",
    "\n",
    "filepath2 = \"D:\\\\MLdata\\\\tracks.csv\"\n",
    "data2 = pd.read_csv(filepath2, index_col=0, header=[0,1])\n",
    "y_col = data2.loc[:,( 'track', 'genre_top')].replace(to_replace=None, value=None, inplace=False, limit=None, regex=False, method='pad')\n",
    "classes = set(y_col)\n",
    "print(set(y_col))"
   ]
  },
  {
   "cell_type": "code",
   "execution_count": null,
   "id": "5dacb114-3994-466e-92b0-63c89087a1eb",
   "metadata": {},
   "outputs": [],
   "source": []
  },
  {
   "cell_type": "code",
   "execution_count": 2,
   "id": "c8d9e822-d01b-4e52-8bd2-1d4ce65e5448",
   "metadata": {},
   "outputs": [],
   "source": [
    "import h5py\n",
    "def read_hdf(file_path):\n",
    "    return_dict = []\n",
    "    with h5py.File(file_path, 'r') as hf:\n",
    "        #print(list(hf.keys()))\n",
    "        dataset = hf[file_path[9:-5]]\n",
    "        #print(len(list(dataset.keys())))\n",
    "        keys = list(dataset.keys())\n",
    "        for i in keys:\n",
    "            return_dict.append({\n",
    "                \"name\":int(i.replace(\"-\",\"/\")[-10:-4]),\n",
    "                \"data\":dataset[i][:]\n",
    "            })\n",
    "        return return_dict"
   ]
  },
  {
   "cell_type": "code",
   "execution_count": 3,
   "id": "a6b531a8-bee2-4e15-a2ec-c06ba0521ee1",
   "metadata": {},
   "outputs": [],
   "source": [
    "from torch.optim import Adam\n",
    " \n",
    "import argparse\n",
    "import sys\n",
    "import torch\n",
    "import torch.nn.functional as F\n",
    "import torch.optim as optim\n",
    "import numpy as np\n",
    "import torch\n",
    "import torch.nn as nn\n",
    "import matplotlib.pyplot as plt\n",
    "\n",
    "class RecurrentNet(torch.nn.Module):\n",
    "    def __init__(self, n_layers, seq_size, dropout, netType, n_inputs, n_outputs):\n",
    "        super(LSTMNet, self).__init__()\n",
    "        self.n_layers = n_layers\n",
    "        self.seq_size = seq_size\n",
    "        if netType == 'LSTM':\n",
    "            self.rec = nn.LSTM(n_inputs, seq_size, n_layers, dropout = dropout)\n",
    "        if newType == 'GRU':\n",
    "            self.rec = nn.GRU(n_inputs, seq_size, n_layers, dropout = dropout)\n",
    "        self.relu = nn.ReLU()\n",
    "        self.hidden1 = nn.Linear(seq_size, seq_size)\n",
    "        self.hidden2 = nn.Linear(seq_size, seq_size/2)\n",
    "        self.output = nn.Linear(seq_size/2, n_outputs)\n",
    "       \n",
    "        \n",
    "    def forward(self, x):\n",
    "        out, _ = self.rec(x) \n",
    "        out = self.relu(self.hidden1(out))\n",
    "        out = self.relu(self.hidden2(out))\n",
    "        out = self.output(out) \n",
    "        return out\n",
    "        \n"
   ]
  },
  {
   "cell_type": "code",
   "execution_count": 4,
   "id": "9181bc4d-b5de-41b6-bfb5-8e6af8759f58",
   "metadata": {},
   "outputs": [
    {
     "name": "stdout",
     "output_type": "stream",
     "text": [
      "999\n",
      "1999\n",
      "2999\n",
      "3999\n",
      "4999\n",
      "5998\n",
      "6997\n",
      "7997\n",
      "86799\n",
      "55101\n",
      "16745\n",
      "110204\n",
      "8\n"
     ]
    }
   ],
   "source": [
    "import random\n",
    "\n",
    "x_data = []\n",
    "\n",
    "\n",
    "#print(type(data))\n",
    "n_outputs = 0\n",
    "for k in classes:\n",
    "    try:\n",
    "        x_data.extend(read_hdf(\"D:/MLdata/\" + k + \".hdf5\"))\n",
    "        print(len(x_data))\n",
    "        n_outputs += 1\n",
    "    except:\n",
    "        pass\n",
    "random.shuffle(x_data)\n",
    "print(x_data[0]['name'])\n",
    "print(x_data[2]['name'])\n",
    "print(x_data[65]['name'])\n",
    "print(x_data[17]['name'])\n",
    "print(n_outputs)"
   ]
  },
  {
   "cell_type": "code",
   "execution_count": 5,
   "id": "526134a4-64b1-485c-85f4-9abe6f74c209",
   "metadata": {},
   "outputs": [
    {
     "name": "stdout",
     "output_type": "stream",
     "text": [
      "Instrumental\n",
      "[[-66.70079  -80.       -80.       ... -80.       -80.       -68.532684]\n",
      " [-66.785904 -80.       -80.       ... -80.       -80.       -68.608505]\n",
      " [-66.847565 -80.       -80.       ... -80.       -80.       -68.6911  ]\n",
      " [-66.89369  -80.       -80.       ... -80.       -80.       -68.74369 ]]\n",
      "[[-80. -80. -80. ... -80. -80. -80.]\n",
      " [-80. -80. -80. ... -80. -80. -80.]\n",
      " [-80. -80. -80. ... -80. -80. -80.]\n",
      " [-80. -80. -80. ... -80. -80. -80.]]\n",
      "[[-80. -80. -80. ... -80. -80. -80.]\n",
      " [-80. -80. -80. ... -80. -80. -80.]\n",
      " [-80. -80. -80. ... -80. -80. -80.]\n",
      " [-80. -80. -80. ... -80. -80. -80.]]\n",
      "[[-80. -80. -80. ... -80. -80. -80.]\n",
      " [-80. -80. -80. ... -80. -80. -80.]\n",
      " [-80. -80. -80. ... -80. -80. -80.]\n",
      " [-80. -80. -80. ... -80. -80. -80.]]\n"
     ]
    }
   ],
   "source": [
    "y_data = []\n",
    "x_values = []\n",
    "for i in x_data:\n",
    "    y_data.append(y_col[i['name']])\n",
    "    x_values.append(i['data'])\n",
    "print(y_data[300])\n",
    "print(x_values[300][-5:-1])\n",
    "print(x_values[350][-5:-1])\n",
    "print(x_values[10][-5:-1])\n",
    "print(x_values[1000][-5:-1])\n"
   ]
  },
  {
   "cell_type": "code",
   "execution_count": 6,
   "id": "9dd076d5-e8f9-4ee4-a40e-a9c6120fcc58",
   "metadata": {},
   "outputs": [
    {
     "name": "stdout",
     "output_type": "stream",
     "text": [
      "[[7]\n",
      " [6]\n",
      " [3]\n",
      " ...\n",
      " [0]\n",
      " [7]\n",
      " [5]]\n",
      "[[0. 0. 0. ... 0. 0. 1.]\n",
      " [0. 0. 0. ... 0. 1. 0.]\n",
      " [0. 0. 1. ... 0. 0. 0.]\n",
      " ...\n",
      " [0. 0. 0. ... 0. 0. 0.]\n",
      " [0. 0. 0. ... 0. 0. 1.]\n",
      " [0. 0. 0. ... 1. 0. 0.]]\n",
      "[[-79.53497  -37.946716 -25.981203 ... -46.526627 -45.170944 -47.728416]\n",
      " [-78.38567  -28.388594 -24.553946 ... -38.197872 -44.150444 -48.61344 ]\n",
      " [-78.34117  -24.827425 -20.930473 ... -39.221027 -47.145493 -48.58551 ]\n",
      " ...\n",
      " [-80.       -80.       -80.       ... -80.       -80.       -80.      ]\n",
      " [-80.       -80.       -80.       ... -80.       -80.       -80.      ]\n",
      " [-80.       -80.       -80.       ... -80.       -80.       -80.      ]]\n",
      "[1. 0. 0. 0. 0. 0. 0.]\n"
     ]
    }
   ],
   "source": [
    "from sklearn.model_selection import train_test_split\n",
    "from sklearn.preprocessing import LabelEncoder\n",
    "from sklearn.preprocessing import OneHotEncoder\n",
    "\n",
    "label_encoder = LabelEncoder()\n",
    "#x_col = x_data.to_numpy()\n",
    "#print(len(y_col))\n",
    "#print(len(x_col))\n",
    "#print(len(x_col[0]))\n",
    "#classes = set(y_col)\n",
    "#print(len(classes))\n",
    "y_data = label_encoder.fit_transform(np.ravel(y_data))\n",
    "y_data = y_data.reshape(-1, 1)\n",
    "print(y_data)\n",
    "encoder = OneHotEncoder(drop='first', sparse=False)\n",
    "# transform data\n",
    "onehot_y = encoder.fit_transform(y_data)\n",
    "print(onehot_y)\n",
    "#print(y_data)\n",
    "X_train, X_test, y_train, y_test = train_test_split(x_values , onehot_y,  test_size=0.2, random_state=42)\n",
    "print(X_train[3])\n",
    "print(y_train[3])"
   ]
  },
  {
   "cell_type": "code",
   "execution_count": null,
   "id": "ce1aafbc-0fdb-4845-92e9-20bfd8dcab88",
   "metadata": {},
   "outputs": [],
   "source": []
  }
 ],
 "metadata": {
  "kernelspec": {
   "display_name": "Python 3 (ipykernel)",
   "language": "python",
   "name": "python3"
  },
  "language_info": {
   "codemirror_mode": {
    "name": "ipython",
    "version": 3
   },
   "file_extension": ".py",
   "mimetype": "text/x-python",
   "name": "python",
   "nbconvert_exporter": "python",
   "pygments_lexer": "ipython3",
   "version": "3.10.7"
  }
 },
 "nbformat": 4,
 "nbformat_minor": 5
}
